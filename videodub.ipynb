{
  "nbformat": 4,
  "nbformat_minor": 0,
  "metadata": {
    "colab": {
      "provenance": [],
      "gpuType": "T4"
    },
    "kernelspec": {
      "name": "python3",
      "display_name": "Python 3"
    },
    "language_info": {
      "name": "python"
    },
    "accelerator": "GPU"
  },
  "cells": [
    {
      "cell_type": "code",
      "source": [
        "!git clone https://github.com/am-sokolov/videodubber.git"
      ],
      "metadata": {
        "id": "6TzRSdD-ZgsQ",
        "colab": {
          "base_uri": "https://localhost:8080/"
        },
        "outputId": "4164dea4-0a8c-481a-fae3-173da2a490b4"
      },
      "execution_count": null,
      "outputs": [
        {
          "output_type": "stream",
          "name": "stdout",
          "text": [
            "Cloning into 'videodubber'...\n",
            "remote: Enumerating objects: 17, done.\u001b[K\n",
            "remote: Counting objects: 100% (17/17), done.\u001b[K\n",
            "remote: Compressing objects: 100% (13/13), done.\u001b[K\n",
            "remote: Total 17 (delta 5), reused 16 (delta 4), pack-reused 0\u001b[K\n",
            "Receiving objects: 100% (17/17), 9.56 KiB | 9.56 MiB/s, done.\n",
            "Resolving deltas: 100% (5/5), done.\n"
          ]
        }
      ]
    },
    {
      "cell_type": "code",
      "source": [
        "pip install -r /content/videodubber/requirements.txt"
      ],
      "metadata": {
        "id": "JMnNqxN9ZnyY",
        "colab": {
          "base_uri": "https://localhost:8080/",
          "height": 1000
        },
        "outputId": "237c86ae-2093-41e4-95fc-10ecf9e9089e"
      },
      "execution_count": null,
      "outputs": [
        {
          "output_type": "stream",
          "name": "stdout",
          "text": [
            "Collecting blis==0.7.9 (from -r /content/videodubber/requirements.txt (line 1))\n",
            "  Downloading blis-0.7.9-cp310-cp310-manylinux_2_17_x86_64.manylinux2014_x86_64.whl (10.2 MB)\n",
            "\u001b[2K     \u001b[90m━━━━━━━━━━━━━━━━━━━━━━━━━━━━━━━━━━━━━━━━\u001b[0m \u001b[32m10.2/10.2 MB\u001b[0m \u001b[31m24.5 MB/s\u001b[0m eta \u001b[36m0:00:00\u001b[0m\n",
            "\u001b[?25hCollecting cachetools==5.3.1 (from -r /content/videodubber/requirements.txt (line 2))\n",
            "  Downloading cachetools-5.3.1-py3-none-any.whl (9.3 kB)\n",
            "Collecting catalogue==2.0.8 (from -r /content/videodubber/requirements.txt (line 3))\n",
            "  Downloading catalogue-2.0.8-py3-none-any.whl (17 kB)\n",
            "Collecting certifi==2023.5.7 (from -r /content/videodubber/requirements.txt (line 4))\n",
            "  Downloading certifi-2023.5.7-py3-none-any.whl (156 kB)\n",
            "\u001b[2K     \u001b[90m━━━━━━━━━━━━━━━━━━━━━━━━━━━━━━━━━━━━━━━━\u001b[0m \u001b[32m157.0/157.0 kB\u001b[0m \u001b[31m22.1 MB/s\u001b[0m eta \u001b[36m0:00:00\u001b[0m\n",
            "\u001b[?25hCollecting charset-normalizer==3.1.0 (from -r /content/videodubber/requirements.txt (line 5))\n",
            "  Downloading charset_normalizer-3.1.0-cp310-cp310-manylinux_2_17_x86_64.manylinux2014_x86_64.whl (199 kB)\n",
            "\u001b[2K     \u001b[90m━━━━━━━━━━━━━━━━━━━━━━━━━━━━━━━━━━━━━━━━\u001b[0m \u001b[32m199.3/199.3 kB\u001b[0m \u001b[31m25.6 MB/s\u001b[0m eta \u001b[36m0:00:00\u001b[0m\n",
            "\u001b[?25hCollecting click==8.1.3 (from -r /content/videodubber/requirements.txt (line 6))\n",
            "  Downloading click-8.1.3-py3-none-any.whl (96 kB)\n",
            "\u001b[2K     \u001b[90m━━━━━━━━━━━━━━━━━━━━━━━━━━━━━━━━━━━━━━━━\u001b[0m \u001b[32m96.6/96.6 kB\u001b[0m \u001b[31m14.4 MB/s\u001b[0m eta \u001b[36m0:00:00\u001b[0m\n",
            "\u001b[?25hCollecting cmake==3.26.3 (from -r /content/videodubber/requirements.txt (line 7))\n",
            "  Downloading cmake-3.26.3-py2.py3-none-manylinux2014_x86_64.manylinux_2_17_x86_64.whl (24.0 MB)\n",
            "\u001b[2K     \u001b[90m━━━━━━━━━━━━━━━━━━━━━━━━━━━━━━━━━━━━━━━━\u001b[0m \u001b[32m24.0/24.0 MB\u001b[0m \u001b[31m39.7 MB/s\u001b[0m eta \u001b[36m0:00:00\u001b[0m\n",
            "\u001b[?25hCollecting confection==0.0.4 (from -r /content/videodubber/requirements.txt (line 8))\n",
            "  Downloading confection-0.0.4-py3-none-any.whl (32 kB)\n",
            "Collecting cymem==2.0.7 (from -r /content/videodubber/requirements.txt (line 9))\n",
            "  Downloading cymem-2.0.7-cp310-cp310-manylinux_2_17_x86_64.manylinux2014_x86_64.whl (34 kB)\n",
            "Requirement already satisfied: decorator==4.4.2 in /usr/local/lib/python3.10/dist-packages (from -r /content/videodubber/requirements.txt (line 10)) (4.4.2)\n",
            "Collecting ffmpeg-python==0.2.0 (from -r /content/videodubber/requirements.txt (line 11))\n",
            "  Downloading ffmpeg_python-0.2.0-py3-none-any.whl (25 kB)\n",
            "Collecting filelock==3.12.0 (from -r /content/videodubber/requirements.txt (line 12))\n",
            "  Downloading filelock-3.12.0-py3-none-any.whl (10 kB)\n",
            "Requirement already satisfied: future==0.18.3 in /usr/local/lib/python3.10/dist-packages (from -r /content/videodubber/requirements.txt (line 13)) (0.18.3)\n",
            "Collecting google-api-core==2.11.0 (from -r /content/videodubber/requirements.txt (line 14))\n",
            "  Downloading google_api_core-2.11.0-py3-none-any.whl (120 kB)\n",
            "\u001b[2K     \u001b[90m━━━━━━━━━━━━━━━━━━━━━━━━━━━━━━━━━━━━━━━━\u001b[0m \u001b[32m120.3/120.3 kB\u001b[0m \u001b[31m14.4 MB/s\u001b[0m eta \u001b[36m0:00:00\u001b[0m\n",
            "\u001b[?25hCollecting google-auth==2.19.1 (from -r /content/videodubber/requirements.txt (line 15))\n",
            "  Downloading google_auth-2.19.1-py2.py3-none-any.whl (181 kB)\n",
            "\u001b[2K     \u001b[90m━━━━━━━━━━━━━━━━━━━━━━━━━━━━━━━━━━━━━━━━\u001b[0m \u001b[32m181.3/181.3 kB\u001b[0m \u001b[31m25.9 MB/s\u001b[0m eta \u001b[36m0:00:00\u001b[0m\n",
            "\u001b[?25hCollecting google-cloud-core==2.3.2 (from -r /content/videodubber/requirements.txt (line 16))\n",
            "  Downloading google_cloud_core-2.3.2-py2.py3-none-any.whl (29 kB)\n",
            "Collecting google-cloud-speech==2.20.0 (from -r /content/videodubber/requirements.txt (line 17))\n",
            "  Downloading google_cloud_speech-2.20.0-py2.py3-none-any.whl (273 kB)\n",
            "\u001b[2K     \u001b[90m━━━━━━━━━━━━━━━━━━━━━━━━━━━━━━━━━━━━━━━━\u001b[0m \u001b[32m273.6/273.6 kB\u001b[0m \u001b[31m29.8 MB/s\u001b[0m eta \u001b[36m0:00:00\u001b[0m\n",
            "\u001b[?25hCollecting google-cloud-texttospeech==2.14.1 (from -r /content/videodubber/requirements.txt (line 18))\n",
            "  Downloading google_cloud_texttospeech-2.14.1-py2.py3-none-any.whl (118 kB)\n",
            "\u001b[2K     \u001b[90m━━━━━━━━━━━━━━━━━━━━━━━━━━━━━━━━━━━━━━━━\u001b[0m \u001b[32m119.0/119.0 kB\u001b[0m \u001b[31m16.5 MB/s\u001b[0m eta \u001b[36m0:00:00\u001b[0m\n",
            "\u001b[?25hCollecting google-cloud-translate==3.11.1 (from -r /content/videodubber/requirements.txt (line 19))\n",
            "  Downloading google_cloud_translate-3.11.1-py2.py3-none-any.whl (128 kB)\n",
            "\u001b[2K     \u001b[90m━━━━━━━━━━━━━━━━━━━━━━━━━━━━━━━━━━━━━━━━\u001b[0m \u001b[32m128.4/128.4 kB\u001b[0m \u001b[31m18.2 MB/s\u001b[0m eta \u001b[36m0:00:00\u001b[0m\n",
            "\u001b[?25hCollecting googleapis-common-protos==1.59.0 (from -r /content/videodubber/requirements.txt (line 20))\n",
            "  Downloading googleapis_common_protos-1.59.0-py2.py3-none-any.whl (223 kB)\n",
            "\u001b[2K     \u001b[90m━━━━━━━━━━━━━━━━━━━━━━━━━━━━━━━━━━━━━━━━\u001b[0m \u001b[32m223.6/223.6 kB\u001b[0m \u001b[31m27.6 MB/s\u001b[0m eta \u001b[36m0:00:00\u001b[0m\n",
            "\u001b[?25hCollecting grpcio==1.54.2 (from -r /content/videodubber/requirements.txt (line 21))\n",
            "  Downloading grpcio-1.54.2-cp310-cp310-manylinux_2_17_x86_64.manylinux2014_x86_64.whl (5.1 MB)\n",
            "\u001b[2K     \u001b[90m━━━━━━━━━━━━━━━━━━━━━━━━━━━━━━━━━━━━━━━━\u001b[0m \u001b[32m5.1/5.1 MB\u001b[0m \u001b[31m75.6 MB/s\u001b[0m eta \u001b[36m0:00:00\u001b[0m\n",
            "\u001b[?25hCollecting grpcio-status==1.54.2 (from -r /content/videodubber/requirements.txt (line 22))\n",
            "  Downloading grpcio_status-1.54.2-py3-none-any.whl (5.1 kB)\n",
            "Collecting idna==3.4 (from -r /content/videodubber/requirements.txt (line 23))\n",
            "  Downloading idna-3.4-py3-none-any.whl (61 kB)\n",
            "\u001b[2K     \u001b[90m━━━━━━━━━━━━━━━━━━━━━━━━━━━━━━━━━━━━━━━━\u001b[0m \u001b[32m61.5/61.5 kB\u001b[0m \u001b[31m9.9 MB/s\u001b[0m eta \u001b[36m0:00:00\u001b[0m\n",
            "\u001b[?25hCollecting imageio==2.30.0 (from -r /content/videodubber/requirements.txt (line 24))\n",
            "  Downloading imageio-2.30.0-py3-none-any.whl (312 kB)\n",
            "\u001b[2K     \u001b[90m━━━━━━━━━━━━━━━━━━━━━━━━━━━━━━━━━━━━━━━━\u001b[0m \u001b[32m312.7/312.7 kB\u001b[0m \u001b[31m43.0 MB/s\u001b[0m eta \u001b[36m0:00:00\u001b[0m\n",
            "\u001b[?25hCollecting imageio-ffmpeg==0.4.8 (from -r /content/videodubber/requirements.txt (line 25))\n",
            "  Downloading imageio_ffmpeg-0.4.8-py3-none-manylinux2010_x86_64.whl (26.9 MB)\n",
            "\u001b[2K     \u001b[90m━━━━━━━━━━━━━━━━━━━━━━━━━━━━━━━━━━━━━━━━\u001b[0m \u001b[32m26.9/26.9 MB\u001b[0m \u001b[31m18.5 MB/s\u001b[0m eta \u001b[36m0:00:00\u001b[0m\n",
            "\u001b[?25hCollecting Jinja2==3.1.2 (from -r /content/videodubber/requirements.txt (line 26))\n",
            "  Downloading Jinja2-3.1.2-py3-none-any.whl (133 kB)\n",
            "\u001b[2K     \u001b[90m━━━━━━━━━━━━━━━━━━━━━━━━━━━━━━━━━━━━━━━━\u001b[0m \u001b[32m133.1/133.1 kB\u001b[0m \u001b[31m21.8 MB/s\u001b[0m eta \u001b[36m0:00:00\u001b[0m\n",
            "\u001b[?25hCollecting langcodes==3.3.0 (from -r /content/videodubber/requirements.txt (line 27))\n",
            "  Downloading langcodes-3.3.0-py3-none-any.whl (181 kB)\n",
            "\u001b[2K     \u001b[90m━━━━━━━━━━━━━━━━━━━━━━━━━━━━━━━━━━━━━━━━\u001b[0m \u001b[32m181.6/181.6 kB\u001b[0m \u001b[31m27.4 MB/s\u001b[0m eta \u001b[36m0:00:00\u001b[0m\n",
            "\u001b[?25hCollecting lit==16.0.5.post0 (from -r /content/videodubber/requirements.txt (line 28))\n",
            "  Downloading lit-16.0.5.post0.tar.gz (138 kB)\n",
            "\u001b[2K     \u001b[90m━━━━━━━━━━━━━━━━━━━━━━━━━━━━━━━━━━━━━━━━\u001b[0m \u001b[32m138.1/138.1 kB\u001b[0m \u001b[31m22.9 MB/s\u001b[0m eta \u001b[36m0:00:00\u001b[0m\n",
            "\u001b[?25h  Preparing metadata (setup.py) ... \u001b[?25l\u001b[?25hdone\n",
            "Collecting llvmlite==0.39.1 (from -r /content/videodubber/requirements.txt (line 29))\n",
            "  Downloading llvmlite-0.39.1-cp310-cp310-manylinux_2_17_x86_64.manylinux2014_x86_64.whl (34.6 MB)\n",
            "\u001b[2K     \u001b[90m━━━━━━━━━━━━━━━━━━━━━━━━━━━━━━━━━━━━━━━━\u001b[0m \u001b[32m34.6/34.6 MB\u001b[0m \u001b[31m18.7 MB/s\u001b[0m eta \u001b[36m0:00:00\u001b[0m\n",
            "\u001b[?25hCollecting MarkupSafe==2.1.3 (from -r /content/videodubber/requirements.txt (line 30))\n",
            "  Downloading MarkupSafe-2.1.3-cp310-cp310-manylinux_2_17_x86_64.manylinux2014_x86_64.whl (25 kB)\n",
            "Collecting more-itertools==9.1.0 (from -r /content/videodubber/requirements.txt (line 31))\n",
            "  Downloading more_itertools-9.1.0-py3-none-any.whl (54 kB)\n",
            "\u001b[2K     \u001b[90m━━━━━━━━━━━━━━━━━━━━━━━━━━━━━━━━━━━━━━━━\u001b[0m \u001b[32m54.2/54.2 kB\u001b[0m \u001b[31m8.6 MB/s\u001b[0m eta \u001b[36m0:00:00\u001b[0m\n",
            "\u001b[?25hRequirement already satisfied: moviepy==1.0.3 in /usr/local/lib/python3.10/dist-packages (from -r /content/videodubber/requirements.txt (line 32)) (1.0.3)\n",
            "Requirement already satisfied: mpmath==1.3.0 in /usr/local/lib/python3.10/dist-packages (from -r /content/videodubber/requirements.txt (line 33)) (1.3.0)\n",
            "Collecting murmurhash==1.0.9 (from -r /content/videodubber/requirements.txt (line 34))\n",
            "  Downloading murmurhash-1.0.9-cp310-cp310-manylinux_2_5_x86_64.manylinux1_x86_64.manylinux_2_17_x86_64.manylinux2014_x86_64.whl (21 kB)\n",
            "Collecting networkx==3.1 (from -r /content/videodubber/requirements.txt (line 35))\n",
            "  Downloading networkx-3.1-py3-none-any.whl (2.1 MB)\n",
            "\u001b[2K     \u001b[90m━━━━━━━━━━━━━━━━━━━━━━━━━━━━━━━━━━━━━━━━\u001b[0m \u001b[32m2.1/2.1 MB\u001b[0m \u001b[31m97.8 MB/s\u001b[0m eta \u001b[36m0:00:00\u001b[0m\n",
            "\u001b[?25hCollecting nvidia-cublas-cu11==11.10.3.66 (from -r /content/videodubber/requirements.txt (line 36))\n",
            "  Downloading nvidia_cublas_cu11-11.10.3.66-py3-none-manylinux1_x86_64.whl (317.1 MB)\n",
            "\u001b[2K     \u001b[90m━━━━━━━━━━━━━━━━━━━━━━━━━━━━━━━━━━━━━━━━\u001b[0m \u001b[32m317.1/317.1 MB\u001b[0m \u001b[31m4.2 MB/s\u001b[0m eta \u001b[36m0:00:00\u001b[0m\n",
            "\u001b[?25hCollecting nvidia-cuda-cupti-cu11==11.7.101 (from -r /content/videodubber/requirements.txt (line 37))\n",
            "  Downloading nvidia_cuda_cupti_cu11-11.7.101-py3-none-manylinux1_x86_64.whl (11.8 MB)\n",
            "\u001b[2K     \u001b[90m━━━━━━━━━━━━━━━━━━━━━━━━━━━━━━━━━━━━━━━━\u001b[0m \u001b[32m11.8/11.8 MB\u001b[0m \u001b[31m55.4 MB/s\u001b[0m eta \u001b[36m0:00:00\u001b[0m\n",
            "\u001b[?25hCollecting nvidia-cuda-nvrtc-cu11==11.7.99 (from -r /content/videodubber/requirements.txt (line 38))\n",
            "  Downloading nvidia_cuda_nvrtc_cu11-11.7.99-2-py3-none-manylinux1_x86_64.whl (21.0 MB)\n",
            "\u001b[2K     \u001b[90m━━━━━━━━━━━━━━━━━━━━━━━━━━━━━━━━━━━━━━━━\u001b[0m \u001b[32m21.0/21.0 MB\u001b[0m \u001b[31m58.0 MB/s\u001b[0m eta \u001b[36m0:00:00\u001b[0m\n",
            "\u001b[?25hCollecting nvidia-cuda-runtime-cu11==11.7.99 (from -r /content/videodubber/requirements.txt (line 39))\n",
            "  Downloading nvidia_cuda_runtime_cu11-11.7.99-py3-none-manylinux1_x86_64.whl (849 kB)\n",
            "\u001b[2K     \u001b[90m━━━━━━━━━━━━━━━━━━━━━━━━━━━━━━━━━━━━━━━━\u001b[0m \u001b[32m849.3/849.3 kB\u001b[0m \u001b[31m67.6 MB/s\u001b[0m eta \u001b[36m0:00:00\u001b[0m\n",
            "\u001b[?25hCollecting nvidia-cudnn-cu11==8.5.0.96 (from -r /content/videodubber/requirements.txt (line 40))\n",
            "  Downloading nvidia_cudnn_cu11-8.5.0.96-2-py3-none-manylinux1_x86_64.whl (557.1 MB)\n",
            "\u001b[2K     \u001b[90m━━━━━━━━━━━━━━━━━━━━━━━━━━━━━━━━━━━━━━━━\u001b[0m \u001b[32m557.1/557.1 MB\u001b[0m \u001b[31m1.5 MB/s\u001b[0m eta \u001b[36m0:00:00\u001b[0m\n",
            "\u001b[?25hCollecting nvidia-cufft-cu11==10.9.0.58 (from -r /content/videodubber/requirements.txt (line 41))\n",
            "  Downloading nvidia_cufft_cu11-10.9.0.58-py3-none-manylinux1_x86_64.whl (168.4 MB)\n",
            "\u001b[2K     \u001b[90m━━━━━━━━━━━━━━━━━━━━━━━━━━━━━━━━━━━━━━━━\u001b[0m \u001b[32m168.4/168.4 MB\u001b[0m \u001b[31m5.5 MB/s\u001b[0m eta \u001b[36m0:00:00\u001b[0m\n",
            "\u001b[?25hCollecting nvidia-curand-cu11==10.2.10.91 (from -r /content/videodubber/requirements.txt (line 42))\n",
            "  Downloading nvidia_curand_cu11-10.2.10.91-py3-none-manylinux1_x86_64.whl (54.6 MB)\n",
            "\u001b[2K     \u001b[90m━━━━━━━━━━━━━━━━━━━━━━━━━━━━━━━━━━━━━━━━\u001b[0m \u001b[32m54.6/54.6 MB\u001b[0m \u001b[31m10.4 MB/s\u001b[0m eta \u001b[36m0:00:00\u001b[0m\n",
            "\u001b[?25hCollecting nvidia-cusolver-cu11==11.4.0.1 (from -r /content/videodubber/requirements.txt (line 43))\n",
            "  Downloading nvidia_cusolver_cu11-11.4.0.1-2-py3-none-manylinux1_x86_64.whl (102.6 MB)\n",
            "\u001b[2K     \u001b[90m━━━━━━━━━━━━━━━━━━━━━━━━━━━━━━━━━━━━━━━━\u001b[0m \u001b[32m102.6/102.6 MB\u001b[0m \u001b[31m9.0 MB/s\u001b[0m eta \u001b[36m0:00:00\u001b[0m\n",
            "\u001b[?25hCollecting nvidia-cusparse-cu11==11.7.4.91 (from -r /content/videodubber/requirements.txt (line 44))\n",
            "  Downloading nvidia_cusparse_cu11-11.7.4.91-py3-none-manylinux1_x86_64.whl (173.2 MB)\n",
            "\u001b[2K     \u001b[90m━━━━━━━━━━━━━━━━━━━━━━━━━━━━━━━━━━━━━━━━\u001b[0m \u001b[32m173.2/173.2 MB\u001b[0m \u001b[31m4.3 MB/s\u001b[0m eta \u001b[36m0:00:00\u001b[0m\n",
            "\u001b[?25hCollecting nvidia-nccl-cu11==2.14.3 (from -r /content/videodubber/requirements.txt (line 45))\n",
            "  Downloading nvidia_nccl_cu11-2.14.3-py3-none-manylinux1_x86_64.whl (177.1 MB)\n",
            "\u001b[2K     \u001b[90m━━━━━━━━━━━━━━━━━━━━━━━━━━━━━━━━━━━━━━━━\u001b[0m \u001b[32m177.1/177.1 MB\u001b[0m \u001b[31m5.1 MB/s\u001b[0m eta \u001b[36m0:00:00\u001b[0m\n",
            "\u001b[?25hCollecting nvidia-nvtx-cu11==11.7.91 (from -r /content/videodubber/requirements.txt (line 46))\n",
            "  Downloading nvidia_nvtx_cu11-11.7.91-py3-none-manylinux1_x86_64.whl (98 kB)\n",
            "\u001b[2K     \u001b[90m━━━━━━━━━━━━━━━━━━━━━━━━━━━━━━━━━━━━━━━━\u001b[0m \u001b[32m98.6/98.6 kB\u001b[0m \u001b[31m15.1 MB/s\u001b[0m eta \u001b[36m0:00:00\u001b[0m\n",
            "\u001b[?25hCollecting openai-whisper==20230314 (from -r /content/videodubber/requirements.txt (line 47))\n",
            "  Downloading openai-whisper-20230314.tar.gz (792 kB)\n",
            "\u001b[2K     \u001b[90m━━━━━━━━━━━━━━━━━━━━━━━━━━━━━━━━━━━━━━━━\u001b[0m \u001b[32m792.9/792.9 kB\u001b[0m \u001b[31m28.7 MB/s\u001b[0m eta \u001b[36m0:00:00\u001b[0m\n",
            "\u001b[?25h  Installing build dependencies ... \u001b[?25l\u001b[?25hdone\n",
            "  Getting requirements to build wheel ... \u001b[?25l\u001b[?25hdone\n",
            "  Preparing metadata (pyproject.toml) ... \u001b[?25l\u001b[?25hdone\n",
            "Collecting packaging==23.1 (from -r /content/videodubber/requirements.txt (line 48))\n",
            "  Downloading packaging-23.1-py3-none-any.whl (48 kB)\n",
            "\u001b[2K     \u001b[90m━━━━━━━━━━━━━━━━━━━━━━━━━━━━━━━━━━━━━━━━\u001b[0m \u001b[32m48.9/48.9 kB\u001b[0m \u001b[31m7.3 MB/s\u001b[0m eta \u001b[36m0:00:00\u001b[0m\n",
            "\u001b[?25hCollecting pathy==0.10.1 (from -r /content/videodubber/requirements.txt (line 49))\n",
            "  Downloading pathy-0.10.1-py3-none-any.whl (48 kB)\n",
            "\u001b[2K     \u001b[90m━━━━━━━━━━━━━━━━━━━━━━━━━━━━━━━━━━━━━━━━\u001b[0m \u001b[32m48.9/48.9 kB\u001b[0m \u001b[31m7.2 MB/s\u001b[0m eta \u001b[36m0:00:00\u001b[0m\n",
            "\u001b[?25hCollecting Pillow==9.5.0 (from -r /content/videodubber/requirements.txt (line 50))\n",
            "  Downloading Pillow-9.5.0-cp310-cp310-manylinux_2_28_x86_64.whl (3.4 MB)\n",
            "\u001b[2K     \u001b[90m━━━━━━━━━━━━━━━━━━━━━━━━━━━━━━━━━━━━━━━━\u001b[0m \u001b[32m3.4/3.4 MB\u001b[0m \u001b[31m27.2 MB/s\u001b[0m eta \u001b[36m0:00:00\u001b[0m\n",
            "\u001b[?25hCollecting preshed==3.0.8 (from -r /content/videodubber/requirements.txt (line 51))\n",
            "  Downloading preshed-3.0.8-cp310-cp310-manylinux_2_5_x86_64.manylinux1_x86_64.manylinux_2_17_x86_64.manylinux2014_x86_64.whl (124 kB)\n",
            "\u001b[2K     \u001b[90m━━━━━━━━━━━━━━━━━━━━━━━━━━━━━━━━━━━━━━━━\u001b[0m \u001b[32m124.7/124.7 kB\u001b[0m \u001b[31m17.7 MB/s\u001b[0m eta \u001b[36m0:00:00\u001b[0m\n",
            "\u001b[?25hRequirement already satisfied: proglog==0.1.10 in /usr/local/lib/python3.10/dist-packages (from -r /content/videodubber/requirements.txt (line 52)) (0.1.10)\n",
            "Collecting proto-plus==1.22.2 (from -r /content/videodubber/requirements.txt (line 53))\n",
            "  Downloading proto_plus-1.22.2-py3-none-any.whl (47 kB)\n",
            "\u001b[2K     \u001b[90m━━━━━━━━━━━━━━━━━━━━━━━━━━━━━━━━━━━━━━━━\u001b[0m \u001b[32m47.9/47.9 kB\u001b[0m \u001b[31m5.2 MB/s\u001b[0m eta \u001b[36m0:00:00\u001b[0m\n",
            "\u001b[?25hCollecting protobuf==4.23.2 (from -r /content/videodubber/requirements.txt (line 54))\n",
            "  Downloading protobuf-4.23.2-cp37-abi3-manylinux2014_x86_64.whl (304 kB)\n",
            "\u001b[2K     \u001b[90m━━━━━━━━━━━━━━━━━━━━━━━━━━━━━━━━━━━━━━━━\u001b[0m \u001b[32m304.5/304.5 kB\u001b[0m \u001b[31m24.8 MB/s\u001b[0m eta \u001b[36m0:00:00\u001b[0m\n",
            "\u001b[?25hCollecting pyasn1==0.5.0 (from -r /content/videodubber/requirements.txt (line 55))\n",
            "  Downloading pyasn1-0.5.0-py2.py3-none-any.whl (83 kB)\n",
            "\u001b[2K     \u001b[90m━━━━━━━━━━━━━━━━━━━━━━━━━━━━━━━━━━━━━━━━\u001b[0m \u001b[32m83.9/83.9 kB\u001b[0m \u001b[31m12.2 MB/s\u001b[0m eta \u001b[36m0:00:00\u001b[0m\n",
            "\u001b[?25hCollecting pyasn1-modules==0.3.0 (from -r /content/videodubber/requirements.txt (line 56))\n",
            "  Downloading pyasn1_modules-0.3.0-py2.py3-none-any.whl (181 kB)\n",
            "\u001b[2K     \u001b[90m━━━━━━━━━━━━━━━━━━━━━━━━━━━━━━━━━━━━━━━━\u001b[0m \u001b[32m181.3/181.3 kB\u001b[0m \u001b[31m22.8 MB/s\u001b[0m eta \u001b[36m0:00:00\u001b[0m\n",
            "\u001b[?25hCollecting pydantic==1.10.8 (from -r /content/videodubber/requirements.txt (line 57))\n",
            "  Downloading pydantic-1.10.8-cp310-cp310-manylinux_2_17_x86_64.manylinux2014_x86_64.whl (3.1 MB)\n",
            "\u001b[2K     \u001b[90m━━━━━━━━━━━━━━━━━━━━━━━━━━━━━━━━━━━━━━━━\u001b[0m \u001b[32m3.1/3.1 MB\u001b[0m \u001b[31m26.9 MB/s\u001b[0m eta \u001b[36m0:00:00\u001b[0m\n",
            "\u001b[?25hCollecting pydub==0.25.1 (from -r /content/videodubber/requirements.txt (line 58))\n",
            "  Downloading pydub-0.25.1-py2.py3-none-any.whl (32 kB)\n",
            "Collecting pyphen==0.14.0 (from -r /content/videodubber/requirements.txt (line 59))\n",
            "  Downloading pyphen-0.14.0-py3-none-any.whl (2.0 MB)\n",
            "\u001b[2K     \u001b[90m━━━━━━━━━━━━━━━━━━━━━━━━━━━━━━━━━━━━━━━━\u001b[0m \u001b[32m2.0/2.0 MB\u001b[0m \u001b[31m26.9 MB/s\u001b[0m eta \u001b[36m0:00:00\u001b[0m\n",
            "\u001b[?25hCollecting regex==2023.6.3 (from -r /content/videodubber/requirements.txt (line 60))\n",
            "  Downloading regex-2023.6.3-cp310-cp310-manylinux_2_17_x86_64.manylinux2014_x86_64.whl (770 kB)\n",
            "\u001b[2K     \u001b[90m━━━━━━━━━━━━━━━━━━━━━━━━━━━━━━━━━━━━━━━━\u001b[0m \u001b[32m770.4/770.4 kB\u001b[0m \u001b[31m28.5 MB/s\u001b[0m eta \u001b[36m0:00:00\u001b[0m\n",
            "\u001b[?25hRequirement already satisfied: requests==2.31.0 in /usr/local/lib/python3.10/dist-packages (from -r /content/videodubber/requirements.txt (line 61)) (2.31.0)\n",
            "Requirement already satisfied: rsa==4.9 in /usr/local/lib/python3.10/dist-packages (from -r /content/videodubber/requirements.txt (line 62)) (4.9)\n",
            "Requirement already satisfied: six==1.16.0 in /usr/local/lib/python3.10/dist-packages (from -r /content/videodubber/requirements.txt (line 63)) (1.16.0)\n",
            "Collecting smart-open==6.3.0 (from -r /content/videodubber/requirements.txt (line 64))\n",
            "  Downloading smart_open-6.3.0-py3-none-any.whl (56 kB)\n",
            "\u001b[2K     \u001b[90m━━━━━━━━━━━━━━━━━━━━━━━━━━━━━━━━━━━━━━━━\u001b[0m \u001b[32m56.8/56.8 kB\u001b[0m \u001b[31m9.4 MB/s\u001b[0m eta \u001b[36m0:00:00\u001b[0m\n",
            "\u001b[?25hCollecting spacy==3.5.3 (from -r /content/videodubber/requirements.txt (line 65))\n",
            "  Downloading spacy-3.5.3-cp310-cp310-manylinux_2_17_x86_64.manylinux2014_x86_64.whl (6.6 MB)\n",
            "\u001b[2K     \u001b[90m━━━━━━━━━━━━━━━━━━━━━━━━━━━━━━━━━━━━━━━━\u001b[0m \u001b[32m6.6/6.6 MB\u001b[0m \u001b[31m26.5 MB/s\u001b[0m eta \u001b[36m0:00:00\u001b[0m\n",
            "\u001b[?25hRequirement already satisfied: spacy-legacy==3.0.12 in /usr/local/lib/python3.10/dist-packages (from -r /content/videodubber/requirements.txt (line 66)) (3.0.12)\n",
            "Collecting spacy-loggers==1.0.4 (from -r /content/videodubber/requirements.txt (line 67))\n",
            "  Downloading spacy_loggers-1.0.4-py3-none-any.whl (11 kB)\n",
            "Collecting spacy-syllables==3.0.2 (from -r /content/videodubber/requirements.txt (line 68))\n",
            "  Downloading spacy_syllables-3.0.2-py3-none-any.whl (5.1 kB)\n",
            "Collecting srsly==2.4.6 (from -r /content/videodubber/requirements.txt (line 69))\n",
            "  Downloading srsly-2.4.6-cp310-cp310-manylinux_2_17_x86_64.manylinux2014_x86_64.whl (492 kB)\n",
            "\u001b[2K     \u001b[90m━━━━━━━━━━━━━━━━━━━━━━━━━━━━━━━━━━━━━━━━\u001b[0m \u001b[32m492.2/492.2 kB\u001b[0m \u001b[31m27.9 MB/s\u001b[0m eta \u001b[36m0:00:00\u001b[0m\n",
            "\u001b[?25hRequirement already satisfied: sympy==1.12 in /usr/local/lib/python3.10/dist-packages (from -r /content/videodubber/requirements.txt (line 70)) (1.12)\n",
            "Collecting thinc==8.1.10 (from -r /content/videodubber/requirements.txt (line 71))\n",
            "  Downloading thinc-8.1.10-cp310-cp310-manylinux_2_17_x86_64.manylinux2014_x86_64.whl (913 kB)\n",
            "\u001b[2K     \u001b[90m━━━━━━━━━━━━━━━━━━━━━━━━━━━━━━━━━━━━━━━━\u001b[0m \u001b[32m913.3/913.3 kB\u001b[0m \u001b[31m32.1 MB/s\u001b[0m eta \u001b[36m0:00:00\u001b[0m\n",
            "\u001b[?25hCollecting tiktoken==0.3.1 (from -r /content/videodubber/requirements.txt (line 72))\n",
            "  Downloading tiktoken-0.3.1-cp310-cp310-manylinux_2_17_x86_64.manylinux2014_x86_64.whl (1.7 MB)\n",
            "\u001b[2K     \u001b[90m━━━━━━━━━━━━━━━━━━━━━━━━━━━━━━━━━━━━━━━━\u001b[0m \u001b[32m1.7/1.7 MB\u001b[0m \u001b[31m26.8 MB/s\u001b[0m eta \u001b[36m0:00:00\u001b[0m\n",
            "\u001b[?25hCollecting torch==2.0.1 (from -r /content/videodubber/requirements.txt (line 73))\n",
            "  Downloading torch-2.0.1-cp310-cp310-manylinux1_x86_64.whl (619.9 MB)\n",
            "\u001b[2K     \u001b[90m━━━━━━━━━━━━━━━━━━━━━━━━━━━━━━━━━━━━━━━━\u001b[0m \u001b[32m619.9/619.9 MB\u001b[0m \u001b[31m1.9 MB/s\u001b[0m eta \u001b[36m0:00:00\u001b[0m\n",
            "\u001b[?25hCollecting tqdm==4.65.0 (from -r /content/videodubber/requirements.txt (line 74))\n",
            "  Downloading tqdm-4.65.0-py3-none-any.whl (77 kB)\n",
            "\u001b[2K     \u001b[90m━━━━━━━━━━━━━━━━━━━━━━━━━━━━━━━━━━━━━━━━\u001b[0m \u001b[32m77.1/77.1 kB\u001b[0m \u001b[31m11.0 MB/s\u001b[0m eta \u001b[36m0:00:00\u001b[0m\n",
            "\u001b[?25hCollecting triton==2.0.0 (from -r /content/videodubber/requirements.txt (line 75))\n",
            "  Downloading triton-2.0.0-1-cp310-cp310-manylinux2014_x86_64.manylinux_2_17_x86_64.whl (63.3 MB)\n",
            "\u001b[2K     \u001b[90m━━━━━━━━━━━━━━━━━━━━━━━━━━━━━━━━━━━━━━━━\u001b[0m \u001b[32m63.3/63.3 MB\u001b[0m \u001b[31m6.4 MB/s\u001b[0m eta \u001b[36m0:00:00\u001b[0m\n",
            "\u001b[?25hCollecting typer==0.7.0 (from -r /content/videodubber/requirements.txt (line 76))\n",
            "  Downloading typer-0.7.0-py3-none-any.whl (38 kB)\n",
            "Collecting typing_extensions==4.6.3 (from -r /content/videodubber/requirements.txt (line 77))\n",
            "  Downloading typing_extensions-4.6.3-py3-none-any.whl (31 kB)\n",
            "Collecting urllib3==1.26.16 (from -r /content/videodubber/requirements.txt (line 78))\n",
            "  Downloading urllib3-1.26.16-py2.py3-none-any.whl (143 kB)\n",
            "\u001b[2K     \u001b[90m━━━━━━━━━━━━━━━━━━━━━━━━━━━━━━━━━━━━━━━━\u001b[0m \u001b[32m143.1/143.1 kB\u001b[0m \u001b[31m11.5 MB/s\u001b[0m eta \u001b[36m0:00:00\u001b[0m\n",
            "\u001b[?25hCollecting wasabi==1.1.1 (from -r /content/videodubber/requirements.txt (line 79))\n",
            "  Downloading wasabi-1.1.1-py3-none-any.whl (27 kB)\n",
            "Collecting numba==0.56.4 (from -r /content/videodubber/requirements.txt (line 80))\n",
            "  Downloading numba-0.56.4-cp310-cp310-manylinux2014_x86_64.manylinux_2_17_x86_64.whl (3.5 MB)\n",
            "\u001b[2K     \u001b[90m━━━━━━━━━━━━━━━━━━━━━━━━━━━━━━━━━━━━━━━━\u001b[0m \u001b[32m3.5/3.5 MB\u001b[0m \u001b[31m10.8 MB/s\u001b[0m eta \u001b[36m0:00:00\u001b[0m\n",
            "\u001b[?25hCollecting numpy==1.23.5 (from -r /content/videodubber/requirements.txt (line 81))\n",
            "  Downloading numpy-1.23.5-cp310-cp310-manylinux_2_17_x86_64.manylinux2014_x86_64.whl (17.1 MB)\n",
            "\u001b[2K     \u001b[90m━━━━━━━━━━━━━━━━━━━━━━━━━━━━━━━━━━━━━━━━\u001b[0m \u001b[32m17.1/17.1 MB\u001b[0m \u001b[31m10.9 MB/s\u001b[0m eta \u001b[36m0:00:00\u001b[0m\n",
            "\u001b[?25hRequirement already satisfied: google-api-core[grpc]!=2.0.*,!=2.1.*,!=2.10.*,!=2.2.*,!=2.3.*,!=2.4.*,!=2.5.*,!=2.6.*,!=2.7.*,!=2.8.*,!=2.9.*,<3.0.0dev,>=1.34.0 in /usr/local/lib/python3.10/dist-packages (from google-cloud-speech==2.20.0->-r /content/videodubber/requirements.txt (line 17)) (2.11.1)\n",
            "Requirement already satisfied: setuptools in /usr/local/lib/python3.10/dist-packages (from nvidia-cublas-cu11==11.10.3.66->-r /content/videodubber/requirements.txt (line 36)) (67.7.2)\n",
            "Requirement already satisfied: wheel in /usr/local/lib/python3.10/dist-packages (from nvidia-cublas-cu11==11.10.3.66->-r /content/videodubber/requirements.txt (line 36)) (0.43.0)\n",
            "INFO: pip is looking at multiple versions of google-api-core[grpc] to determine which version is compatible with other requirements. This could take a while.\n",
            "Collecting google-api-core[grpc]!=2.0.*,!=2.1.*,!=2.10.*,!=2.2.*,!=2.3.*,!=2.4.*,!=2.5.*,!=2.6.*,!=2.7.*,!=2.8.*,!=2.9.*,<3.0.0dev,>=1.34.0 (from google-cloud-speech==2.20.0->-r /content/videodubber/requirements.txt (line 17))\n",
            "  Downloading google_api_core-2.19.0-py3-none-any.whl (139 kB)\n",
            "\u001b[2K     \u001b[90m━━━━━━━━━━━━━━━━━━━━━━━━━━━━━━━━━━━━━━━━\u001b[0m \u001b[32m139.0/139.0 kB\u001b[0m \u001b[31m8.8 MB/s\u001b[0m eta \u001b[36m0:00:00\u001b[0m\n",
            "\u001b[?25h  Downloading google_api_core-2.18.0-py3-none-any.whl (138 kB)\n",
            "\u001b[2K     \u001b[90m━━━━━━━━━━━━━━━━━━━━━━━━━━━━━━━━━━━━━━━━\u001b[0m \u001b[32m138.3/138.3 kB\u001b[0m \u001b[31m10.7 MB/s\u001b[0m eta \u001b[36m0:00:00\u001b[0m\n",
            "\u001b[?25h  Downloading google_api_core-2.17.1-py3-none-any.whl (137 kB)\n",
            "\u001b[2K     \u001b[90m━━━━━━━━━━━━━━━━━━━━━━━━━━━━━━━━━━━━━━━━\u001b[0m \u001b[32m137.0/137.0 kB\u001b[0m \u001b[31m11.6 MB/s\u001b[0m eta \u001b[36m0:00:00\u001b[0m\n",
            "\u001b[?25h  Downloading google_api_core-2.17.0-py3-none-any.whl (136 kB)\n",
            "\u001b[2K     \u001b[90m━━━━━━━━━━━━━━━━━━━━━━━━━━━━━━━━━━━━━━━━\u001b[0m \u001b[32m136.9/136.9 kB\u001b[0m \u001b[31m10.7 MB/s\u001b[0m eta \u001b[36m0:00:00\u001b[0m\n",
            "\u001b[?25h  Downloading google_api_core-2.16.2-py3-none-any.whl (135 kB)\n",
            "\u001b[2K     \u001b[90m━━━━━━━━━━━━━━━━━━━━━━━━━━━━━━━━━━━━━━━━\u001b[0m \u001b[32m135.2/135.2 kB\u001b[0m \u001b[31m10.6 MB/s\u001b[0m eta \u001b[36m0:00:00\u001b[0m\n",
            "\u001b[?25h  Downloading google_api_core-2.16.1-py3-none-any.whl (135 kB)\n",
            "\u001b[2K     \u001b[90m━━━━━━━━━━━━━━━━━━━━━━━━━━━━━━━━━━━━━━━━\u001b[0m \u001b[32m135.2/135.2 kB\u001b[0m \u001b[31m11.2 MB/s\u001b[0m eta \u001b[36m0:00:00\u001b[0m\n",
            "\u001b[?25h  Downloading google_api_core-2.16.0-py3-none-any.whl (134 kB)\n",
            "\u001b[2K     \u001b[90m━━━━━━━━━━━━━━━━━━━━━━━━━━━━━━━━━━━━━━━━\u001b[0m \u001b[32m134.4/134.4 kB\u001b[0m \u001b[31m10.5 MB/s\u001b[0m eta \u001b[36m0:00:00\u001b[0m\n",
            "\u001b[?25hINFO: pip is looking at multiple versions of google-api-core[grpc] to determine which version is compatible with other requirements. This could take a while.\n",
            "  Downloading google_api_core-2.15.0-py3-none-any.whl (121 kB)\n",
            "\u001b[2K     \u001b[90m━━━━━━━━━━━━━━━━━━━━━━━━━━━━━━━━━━━━━━━━\u001b[0m \u001b[32m122.0/122.0 kB\u001b[0m \u001b[31m10.6 MB/s\u001b[0m eta \u001b[36m0:00:00\u001b[0m\n",
            "\u001b[?25h  Downloading google_api_core-2.14.0-py3-none-any.whl (122 kB)\n",
            "\u001b[2K     \u001b[90m━━━━━━━━━━━━━━━━━━━━━━━━━━━━━━━━━━━━━━━━\u001b[0m \u001b[32m122.2/122.2 kB\u001b[0m \u001b[31m10.9 MB/s\u001b[0m eta \u001b[36m0:00:00\u001b[0m\n",
            "\u001b[?25h  Downloading google_api_core-2.13.1-py3-none-any.whl (122 kB)\n",
            "\u001b[2K     \u001b[90m━━━━━━━━━━━━━━━━━━━━━━━━━━━━━━━━━━━━━━━━\u001b[0m \u001b[32m122.0/122.0 kB\u001b[0m \u001b[31m10.2 MB/s\u001b[0m eta \u001b[36m0:00:00\u001b[0m\n",
            "\u001b[?25h  Downloading google_api_core-2.13.0-py3-none-any.whl (122 kB)\n",
            "\u001b[2K     \u001b[90m━━━━━━━━━━━━━━━━━━━━━━━━━━━━━━━━━━━━━━━━\u001b[0m \u001b[32m122.0/122.0 kB\u001b[0m \u001b[31m10.3 MB/s\u001b[0m eta \u001b[36m0:00:00\u001b[0m\n",
            "\u001b[?25h  Downloading google_api_core-2.12.0-py3-none-any.whl (121 kB)\n",
            "\u001b[2K     \u001b[90m━━━━━━━━━━━━━━━━━━━━━━━━━━━━━━━━━━━━━━━━\u001b[0m \u001b[32m121.4/121.4 kB\u001b[0m \u001b[31m9.7 MB/s\u001b[0m eta \u001b[36m0:00:00\u001b[0m\n",
            "\u001b[?25hINFO: This is taking longer than usual. You might need to provide the dependency resolver with stricter constraints to reduce runtime. See https://pip.pypa.io/warnings/backtracking for guidance. If you want to abort this run, press Ctrl + C.\n",
            "Building wheels for collected packages: lit, openai-whisper\n",
            "  Building wheel for lit (setup.py) ... \u001b[?25l\u001b[?25hdone\n",
            "  Created wheel for lit: filename=lit-16.0.5.post0-py3-none-any.whl size=88256 sha256=2242689853328e0d0ea450cae8f3a0e4adbb423a8fd9158383f8ec3ee57705c2\n",
            "  Stored in directory: /root/.cache/pip/wheels/1a/24/92/1e1c9e37be8411a7c7c18a4c54962f5d0a75c56bab4a6f7f57\n",
            "  Building wheel for openai-whisper (pyproject.toml) ... \u001b[?25l\u001b[?25hdone\n",
            "  Created wheel for openai-whisper: filename=openai_whisper-20230314-py3-none-any.whl size=796907 sha256=04814871bf8b5b193960275ad5339bcd0f887503dc8765e535bf93065fc8c429\n",
            "  Stored in directory: /root/.cache/pip/wheels/b2/13/5f/fe8245f6dc59df505879da4b2129932e342f02a80e6b87f27d\n",
            "Successfully built lit openai-whisper\n",
            "Installing collected packages: pydub, lit, cymem, cmake, wasabi, urllib3, typing_extensions, tqdm, spacy-loggers, smart-open, regex, pyphen, pyasn1, protobuf, Pillow, packaging, nvidia-nvtx-cu11, nvidia-nccl-cu11, nvidia-cusparse-cu11, nvidia-curand-cu11, nvidia-cufft-cu11, nvidia-cuda-runtime-cu11, nvidia-cuda-nvrtc-cu11, nvidia-cuda-cupti-cu11, nvidia-cublas-cu11, numpy, networkx, murmurhash, more-itertools, MarkupSafe, llvmlite, langcodes, imageio-ffmpeg, idna, grpcio, filelock, ffmpeg-python, click, charset-normalizer, certifi, catalogue, cachetools, typer, srsly, pydantic, pyasn1-modules, proto-plus, preshed, nvidia-cusolver-cu11, nvidia-cudnn-cu11, numba, Jinja2, imageio, googleapis-common-protos, blis, tiktoken, pathy, grpcio-status, google-auth, confection, thinc, google-api-core, spacy, google-cloud-core, spacy-syllables, google-cloud-translate, google-cloud-texttospeech, google-cloud-speech, triton, torch, openai-whisper\n",
            "  Attempting uninstall: cymem\n",
            "    Found existing installation: cymem 2.0.8\n",
            "    Uninstalling cymem-2.0.8:\n",
            "      Successfully uninstalled cymem-2.0.8\n",
            "  Attempting uninstall: cmake\n",
            "    Found existing installation: cmake 3.27.9\n",
            "    Uninstalling cmake-3.27.9:\n",
            "      Successfully uninstalled cmake-3.27.9\n",
            "  Attempting uninstall: wasabi\n",
            "    Found existing installation: wasabi 1.1.2\n",
            "    Uninstalling wasabi-1.1.2:\n",
            "      Successfully uninstalled wasabi-1.1.2\n",
            "  Attempting uninstall: urllib3\n",
            "    Found existing installation: urllib3 2.0.7\n",
            "    Uninstalling urllib3-2.0.7:\n",
            "      Successfully uninstalled urllib3-2.0.7\n",
            "  Attempting uninstall: typing_extensions\n",
            "    Found existing installation: typing_extensions 4.11.0\n",
            "    Uninstalling typing_extensions-4.11.0:\n",
            "      Successfully uninstalled typing_extensions-4.11.0\n",
            "  Attempting uninstall: tqdm\n",
            "    Found existing installation: tqdm 4.66.4\n",
            "    Uninstalling tqdm-4.66.4:\n",
            "      Successfully uninstalled tqdm-4.66.4\n",
            "  Attempting uninstall: spacy-loggers\n",
            "    Found existing installation: spacy-loggers 1.0.5\n",
            "    Uninstalling spacy-loggers-1.0.5:\n",
            "      Successfully uninstalled spacy-loggers-1.0.5\n",
            "  Attempting uninstall: smart-open\n",
            "    Found existing installation: smart-open 6.4.0\n",
            "    Uninstalling smart-open-6.4.0:\n",
            "      Successfully uninstalled smart-open-6.4.0\n",
            "  Attempting uninstall: regex\n",
            "    Found existing installation: regex 2023.12.25\n",
            "    Uninstalling regex-2023.12.25:\n",
            "      Successfully uninstalled regex-2023.12.25\n",
            "  Attempting uninstall: pyasn1\n",
            "    Found existing installation: pyasn1 0.6.0\n",
            "    Uninstalling pyasn1-0.6.0:\n",
            "      Successfully uninstalled pyasn1-0.6.0\n",
            "  Attempting uninstall: protobuf\n",
            "    Found existing installation: protobuf 3.20.3\n",
            "    Uninstalling protobuf-3.20.3:\n",
            "      Successfully uninstalled protobuf-3.20.3\n",
            "  Attempting uninstall: Pillow\n",
            "    Found existing installation: Pillow 9.4.0\n",
            "    Uninstalling Pillow-9.4.0:\n",
            "      Successfully uninstalled Pillow-9.4.0\n",
            "  Attempting uninstall: packaging\n",
            "    Found existing installation: packaging 24.0\n",
            "    Uninstalling packaging-24.0:\n",
            "      Successfully uninstalled packaging-24.0\n",
            "  Attempting uninstall: numpy\n",
            "    Found existing installation: numpy 1.25.2\n",
            "    Uninstalling numpy-1.25.2:\n",
            "      Successfully uninstalled numpy-1.25.2\n",
            "  Attempting uninstall: networkx\n",
            "    Found existing installation: networkx 3.3\n",
            "    Uninstalling networkx-3.3:\n",
            "      Successfully uninstalled networkx-3.3\n",
            "  Attempting uninstall: murmurhash\n",
            "    Found existing installation: murmurhash 1.0.10\n",
            "    Uninstalling murmurhash-1.0.10:\n",
            "      Successfully uninstalled murmurhash-1.0.10\n",
            "  Attempting uninstall: more-itertools\n",
            "    Found existing installation: more-itertools 10.1.0\n",
            "    Uninstalling more-itertools-10.1.0:\n",
            "      Successfully uninstalled more-itertools-10.1.0\n",
            "  Attempting uninstall: MarkupSafe\n",
            "    Found existing installation: MarkupSafe 2.1.5\n",
            "    Uninstalling MarkupSafe-2.1.5:\n",
            "      Successfully uninstalled MarkupSafe-2.1.5\n",
            "  Attempting uninstall: llvmlite\n",
            "    Found existing installation: llvmlite 0.41.1\n",
            "    Uninstalling llvmlite-0.41.1:\n",
            "      Successfully uninstalled llvmlite-0.41.1\n",
            "  Attempting uninstall: langcodes\n",
            "    Found existing installation: langcodes 3.4.0\n",
            "    Uninstalling langcodes-3.4.0:\n",
            "      Successfully uninstalled langcodes-3.4.0\n",
            "  Attempting uninstall: imageio-ffmpeg\n",
            "    Found existing installation: imageio-ffmpeg 0.4.9\n",
            "    Uninstalling imageio-ffmpeg-0.4.9:\n",
            "      Successfully uninstalled imageio-ffmpeg-0.4.9\n",
            "  Attempting uninstall: idna\n",
            "    Found existing installation: idna 3.7\n",
            "    Uninstalling idna-3.7:\n",
            "      Successfully uninstalled idna-3.7\n",
            "  Attempting uninstall: grpcio\n",
            "    Found existing installation: grpcio 1.63.0\n",
            "    Uninstalling grpcio-1.63.0:\n",
            "      Successfully uninstalled grpcio-1.63.0\n",
            "  Attempting uninstall: filelock\n",
            "    Found existing installation: filelock 3.14.0\n",
            "    Uninstalling filelock-3.14.0:\n",
            "      Successfully uninstalled filelock-3.14.0\n",
            "  Attempting uninstall: click\n",
            "    Found existing installation: click 8.1.7\n",
            "    Uninstalling click-8.1.7:\n",
            "      Successfully uninstalled click-8.1.7\n",
            "  Attempting uninstall: charset-normalizer\n",
            "    Found existing installation: charset-normalizer 3.3.2\n",
            "    Uninstalling charset-normalizer-3.3.2:\n",
            "      Successfully uninstalled charset-normalizer-3.3.2\n",
            "  Attempting uninstall: certifi\n",
            "    Found existing installation: certifi 2024.2.2\n",
            "    Uninstalling certifi-2024.2.2:\n",
            "      Successfully uninstalled certifi-2024.2.2\n",
            "  Attempting uninstall: catalogue\n",
            "    Found existing installation: catalogue 2.0.10\n",
            "    Uninstalling catalogue-2.0.10:\n",
            "      Successfully uninstalled catalogue-2.0.10\n",
            "  Attempting uninstall: cachetools\n",
            "    Found existing installation: cachetools 5.3.3\n",
            "    Uninstalling cachetools-5.3.3:\n",
            "      Successfully uninstalled cachetools-5.3.3\n",
            "  Attempting uninstall: typer\n",
            "    Found existing installation: typer 0.9.4\n",
            "    Uninstalling typer-0.9.4:\n",
            "      Successfully uninstalled typer-0.9.4\n",
            "  Attempting uninstall: srsly\n",
            "    Found existing installation: srsly 2.4.8\n",
            "    Uninstalling srsly-2.4.8:\n",
            "      Successfully uninstalled srsly-2.4.8\n",
            "  Attempting uninstall: pydantic\n",
            "    Found existing installation: pydantic 2.7.1\n",
            "    Uninstalling pydantic-2.7.1:\n",
            "      Successfully uninstalled pydantic-2.7.1\n",
            "  Attempting uninstall: pyasn1-modules\n",
            "    Found existing installation: pyasn1_modules 0.4.0\n",
            "    Uninstalling pyasn1_modules-0.4.0:\n",
            "      Successfully uninstalled pyasn1_modules-0.4.0\n",
            "  Attempting uninstall: proto-plus\n",
            "    Found existing installation: proto-plus 1.23.0\n",
            "    Uninstalling proto-plus-1.23.0:\n",
            "      Successfully uninstalled proto-plus-1.23.0\n",
            "  Attempting uninstall: preshed\n",
            "    Found existing installation: preshed 3.0.9\n",
            "    Uninstalling preshed-3.0.9:\n",
            "      Successfully uninstalled preshed-3.0.9\n",
            "  Attempting uninstall: numba\n",
            "    Found existing installation: numba 0.58.1\n",
            "    Uninstalling numba-0.58.1:\n",
            "      Successfully uninstalled numba-0.58.1\n",
            "  Attempting uninstall: Jinja2\n",
            "    Found existing installation: Jinja2 3.1.4\n",
            "    Uninstalling Jinja2-3.1.4:\n",
            "      Successfully uninstalled Jinja2-3.1.4\n",
            "  Attempting uninstall: imageio\n",
            "    Found existing installation: imageio 2.31.6\n",
            "    Uninstalling imageio-2.31.6:\n",
            "      Successfully uninstalled imageio-2.31.6\n",
            "  Attempting uninstall: googleapis-common-protos\n",
            "    Found existing installation: googleapis-common-protos 1.63.0\n",
            "    Uninstalling googleapis-common-protos-1.63.0:\n",
            "      Successfully uninstalled googleapis-common-protos-1.63.0\n",
            "  Attempting uninstall: blis\n",
            "    Found existing installation: blis 0.7.11\n",
            "    Uninstalling blis-0.7.11:\n",
            "      Successfully uninstalled blis-0.7.11\n",
            "  Attempting uninstall: grpcio-status\n",
            "    Found existing installation: grpcio-status 1.48.2\n",
            "    Uninstalling grpcio-status-1.48.2:\n",
            "      Successfully uninstalled grpcio-status-1.48.2\n",
            "  Attempting uninstall: google-auth\n",
            "    Found existing installation: google-auth 2.27.0\n",
            "    Uninstalling google-auth-2.27.0:\n",
            "      Successfully uninstalled google-auth-2.27.0\n",
            "  Attempting uninstall: confection\n",
            "    Found existing installation: confection 0.1.4\n",
            "    Uninstalling confection-0.1.4:\n",
            "      Successfully uninstalled confection-0.1.4\n",
            "  Attempting uninstall: thinc\n",
            "    Found existing installation: thinc 8.2.3\n",
            "    Uninstalling thinc-8.2.3:\n",
            "      Successfully uninstalled thinc-8.2.3\n",
            "  Attempting uninstall: google-api-core\n",
            "    Found existing installation: google-api-core 2.11.1\n",
            "    Uninstalling google-api-core-2.11.1:\n",
            "      Successfully uninstalled google-api-core-2.11.1\n",
            "  Attempting uninstall: spacy\n",
            "    Found existing installation: spacy 3.7.4\n",
            "    Uninstalling spacy-3.7.4:\n",
            "      Successfully uninstalled spacy-3.7.4\n",
            "  Attempting uninstall: google-cloud-core\n",
            "    Found existing installation: google-cloud-core 2.3.3\n",
            "    Uninstalling google-cloud-core-2.3.3:\n",
            "      Successfully uninstalled google-cloud-core-2.3.3\n",
            "  Attempting uninstall: google-cloud-translate\n",
            "    Found existing installation: google-cloud-translate 3.11.3\n",
            "    Uninstalling google-cloud-translate-3.11.3:\n",
            "      Successfully uninstalled google-cloud-translate-3.11.3\n",
            "  Attempting uninstall: triton\n",
            "    Found existing installation: triton 2.2.0\n",
            "    Uninstalling triton-2.2.0:\n",
            "      Successfully uninstalled triton-2.2.0\n",
            "  Attempting uninstall: torch\n",
            "    Found existing installation: torch 2.2.1+cu121\n",
            "    Uninstalling torch-2.2.1+cu121:\n",
            "      Successfully uninstalled torch-2.2.1+cu121\n",
            "\u001b[31mERROR: pip's dependency resolver does not currently take into account all the packages that are installed. This behaviour is the source of the following dependency conflicts.\n",
            "chex 0.1.86 requires numpy>=1.24.1, but you have numpy 1.23.5 which is incompatible.\n",
            "cudf-cu12 24.4.1 requires numba>=0.57, but you have numba 0.56.4 which is incompatible.\n",
            "en-core-web-sm 3.7.1 requires spacy<3.8.0,>=3.7.2, but you have spacy 3.5.3 which is incompatible.\n",
            "google-ai-generativelanguage 0.6.3 requires proto-plus<2.0.0dev,>=1.22.3, but you have proto-plus 1.22.2 which is incompatible.\n",
            "google-cloud-iam 2.15.0 requires proto-plus<2.0.0dev,>=1.22.3, but you have proto-plus 1.22.2 which is incompatible.\n",
            "google-cloud-language 2.13.3 requires proto-plus<2.0.0dev,>=1.22.3, but you have proto-plus 1.22.2 which is incompatible.\n",
            "google-cloud-resource-manager 1.12.3 requires proto-plus<2.0.0dev,>=1.22.3, but you have proto-plus 1.22.2 which is incompatible.\n",
            "google-colab 1.0.0 requires google-auth==2.27.0, but you have google-auth 2.19.1 which is incompatible.\n",
            "kaggle 1.6.12 requires certifi>=2023.7.22, but you have certifi 2023.5.7 which is incompatible.\n",
            "pandas-stubs 2.0.3.230814 requires numpy>=1.25.0; python_version >= \"3.9\", but you have numpy 1.23.5 which is incompatible.\n",
            "rmm-cu12 24.4.0 requires numba>=0.57, but you have numba 0.56.4 which is incompatible.\n",
            "tensorflow-metadata 1.15.0 requires protobuf<4.21,>=3.20.3; python_version < \"3.11\", but you have protobuf 4.23.2 which is incompatible.\n",
            "torchaudio 2.2.1+cu121 requires torch==2.2.1, but you have torch 2.0.1 which is incompatible.\n",
            "torchtext 0.17.1 requires torch==2.2.1, but you have torch 2.0.1 which is incompatible.\n",
            "torchvision 0.17.1+cu121 requires torch==2.2.1, but you have torch 2.0.1 which is incompatible.\u001b[0m\u001b[31m\n",
            "\u001b[0mSuccessfully installed Jinja2-3.1.2 MarkupSafe-2.1.3 Pillow-9.5.0 blis-0.7.9 cachetools-5.3.1 catalogue-2.0.8 certifi-2023.5.7 charset-normalizer-3.1.0 click-8.1.3 cmake-3.26.3 confection-0.0.4 cymem-2.0.7 ffmpeg-python-0.2.0 filelock-3.12.0 google-api-core-2.11.0 google-auth-2.19.1 google-cloud-core-2.3.2 google-cloud-speech-2.20.0 google-cloud-texttospeech-2.14.1 google-cloud-translate-3.11.1 googleapis-common-protos-1.59.0 grpcio-1.54.2 grpcio-status-1.54.2 idna-3.4 imageio-2.30.0 imageio-ffmpeg-0.4.8 langcodes-3.3.0 lit-16.0.5.post0 llvmlite-0.39.1 more-itertools-9.1.0 murmurhash-1.0.9 networkx-3.1 numba-0.56.4 numpy-1.23.5 nvidia-cublas-cu11-11.10.3.66 nvidia-cuda-cupti-cu11-11.7.101 nvidia-cuda-nvrtc-cu11-11.7.99 nvidia-cuda-runtime-cu11-11.7.99 nvidia-cudnn-cu11-8.5.0.96 nvidia-cufft-cu11-10.9.0.58 nvidia-curand-cu11-10.2.10.91 nvidia-cusolver-cu11-11.4.0.1 nvidia-cusparse-cu11-11.7.4.91 nvidia-nccl-cu11-2.14.3 nvidia-nvtx-cu11-11.7.91 openai-whisper-20230314 packaging-23.1 pathy-0.10.1 preshed-3.0.8 proto-plus-1.22.2 protobuf-4.23.2 pyasn1-0.5.0 pyasn1-modules-0.3.0 pydantic-1.10.8 pydub-0.25.1 pyphen-0.14.0 regex-2023.6.3 smart-open-6.3.0 spacy-3.5.3 spacy-loggers-1.0.4 spacy-syllables-3.0.2 srsly-2.4.6 thinc-8.1.10 tiktoken-0.3.1 torch-2.0.1 tqdm-4.65.0 triton-2.0.0 typer-0.7.0 typing_extensions-4.6.3 urllib3-1.26.16 wasabi-1.1.1\n"
          ]
        },
        {
          "output_type": "display_data",
          "data": {
            "application/vnd.colab-display-data+json": {
              "pip_warning": {
                "packages": [
                  "PIL",
                  "certifi",
                  "google",
                  "numpy"
                ]
              },
              "id": "9ff0feedf0f54b31815bc9b69b3a1b67"
            }
          },
          "metadata": {}
        }
      ]
    },
    {
      "cell_type": "code",
      "source": [
        "pip install googletrans==4.0.0-rc1"
      ],
      "metadata": {
        "id": "NwByi4Fu7N73",
        "colab": {
          "base_uri": "https://localhost:8080/"
        },
        "outputId": "5cd44a4f-f998-4c52-e6d2-1d04e805d20a"
      },
      "execution_count": null,
      "outputs": [
        {
          "output_type": "stream",
          "name": "stdout",
          "text": [
            "Collecting googletrans==4.0.0-rc1\n",
            "  Downloading googletrans-4.0.0rc1.tar.gz (20 kB)\n",
            "  Preparing metadata (setup.py) ... \u001b[?25l\u001b[?25hdone\n",
            "Collecting httpx==0.13.3 (from googletrans==4.0.0-rc1)\n",
            "  Downloading httpx-0.13.3-py3-none-any.whl (55 kB)\n",
            "\u001b[2K     \u001b[90m━━━━━━━━━━━━━━━━━━━━━━━━━━━━━━━━━━━━━━━━\u001b[0m \u001b[32m55.1/55.1 kB\u001b[0m \u001b[31m912.1 kB/s\u001b[0m eta \u001b[36m0:00:00\u001b[0m\n",
            "\u001b[?25hRequirement already satisfied: certifi in /usr/local/lib/python3.10/dist-packages (from httpx==0.13.3->googletrans==4.0.0-rc1) (2023.5.7)\n",
            "Collecting hstspreload (from httpx==0.13.3->googletrans==4.0.0-rc1)\n",
            "  Downloading hstspreload-2024.5.1-py3-none-any.whl (1.1 MB)\n",
            "\u001b[2K     \u001b[90m━━━━━━━━━━━━━━━━━━━━━━━━━━━━━━━━━━━━━━━━\u001b[0m \u001b[32m1.1/1.1 MB\u001b[0m \u001b[31m7.8 MB/s\u001b[0m eta \u001b[36m0:00:00\u001b[0m\n",
            "\u001b[?25hRequirement already satisfied: sniffio in /usr/local/lib/python3.10/dist-packages (from httpx==0.13.3->googletrans==4.0.0-rc1) (1.3.1)\n",
            "Collecting chardet==3.* (from httpx==0.13.3->googletrans==4.0.0-rc1)\n",
            "  Downloading chardet-3.0.4-py2.py3-none-any.whl (133 kB)\n",
            "\u001b[2K     \u001b[90m━━━━━━━━━━━━━━━━━━━━━━━━━━━━━━━━━━━━━━━━\u001b[0m \u001b[32m133.4/133.4 kB\u001b[0m \u001b[31m19.9 MB/s\u001b[0m eta \u001b[36m0:00:00\u001b[0m\n",
            "\u001b[?25hCollecting idna==2.* (from httpx==0.13.3->googletrans==4.0.0-rc1)\n",
            "  Downloading idna-2.10-py2.py3-none-any.whl (58 kB)\n",
            "\u001b[2K     \u001b[90m━━━━━━━━━━━━━━━━━━━━━━━━━━━━━━━━━━━━━━━━\u001b[0m \u001b[32m58.8/58.8 kB\u001b[0m \u001b[31m9.0 MB/s\u001b[0m eta \u001b[36m0:00:00\u001b[0m\n",
            "\u001b[?25hCollecting rfc3986<2,>=1.3 (from httpx==0.13.3->googletrans==4.0.0-rc1)\n",
            "  Downloading rfc3986-1.5.0-py2.py3-none-any.whl (31 kB)\n",
            "Collecting httpcore==0.9.* (from httpx==0.13.3->googletrans==4.0.0-rc1)\n",
            "  Downloading httpcore-0.9.1-py3-none-any.whl (42 kB)\n",
            "\u001b[2K     \u001b[90m━━━━━━━━━━━━━━━━━━━━━━━━━━━━━━━━━━━━━━━━\u001b[0m \u001b[32m42.6/42.6 kB\u001b[0m \u001b[31m5.7 MB/s\u001b[0m eta \u001b[36m0:00:00\u001b[0m\n",
            "\u001b[?25hCollecting h11<0.10,>=0.8 (from httpcore==0.9.*->httpx==0.13.3->googletrans==4.0.0-rc1)\n",
            "  Downloading h11-0.9.0-py2.py3-none-any.whl (53 kB)\n",
            "\u001b[2K     \u001b[90m━━━━━━━━━━━━━━━━━━━━━━━━━━━━━━━━━━━━━━━━\u001b[0m \u001b[32m53.6/53.6 kB\u001b[0m \u001b[31m9.0 MB/s\u001b[0m eta \u001b[36m0:00:00\u001b[0m\n",
            "\u001b[?25hCollecting h2==3.* (from httpcore==0.9.*->httpx==0.13.3->googletrans==4.0.0-rc1)\n",
            "  Downloading h2-3.2.0-py2.py3-none-any.whl (65 kB)\n",
            "\u001b[2K     \u001b[90m━━━━━━━━━━━━━━━━━━━━━━━━━━━━━━━━━━━━━━━━\u001b[0m \u001b[32m65.0/65.0 kB\u001b[0m \u001b[31m10.8 MB/s\u001b[0m eta \u001b[36m0:00:00\u001b[0m\n",
            "\u001b[?25hCollecting hyperframe<6,>=5.2.0 (from h2==3.*->httpcore==0.9.*->httpx==0.13.3->googletrans==4.0.0-rc1)\n",
            "  Downloading hyperframe-5.2.0-py2.py3-none-any.whl (12 kB)\n",
            "Collecting hpack<4,>=3.0 (from h2==3.*->httpcore==0.9.*->httpx==0.13.3->googletrans==4.0.0-rc1)\n",
            "  Downloading hpack-3.0.0-py2.py3-none-any.whl (38 kB)\n",
            "Building wheels for collected packages: googletrans\n",
            "  Building wheel for googletrans (setup.py) ... \u001b[?25l\u001b[?25hdone\n",
            "  Created wheel for googletrans: filename=googletrans-4.0.0rc1-py3-none-any.whl size=17395 sha256=9f84c50b2fdbc3bbecb7383c642c2b279a7ee4e594a6437587f7c22c17c6e5ce\n",
            "  Stored in directory: /root/.cache/pip/wheels/c0/59/9f/7372f0cf70160fe61b528532e1a7c8498c4becd6bcffb022de\n",
            "Successfully built googletrans\n",
            "Installing collected packages: rfc3986, hyperframe, hpack, h11, chardet, idna, hstspreload, h2, httpcore, httpx, googletrans\n",
            "  Attempting uninstall: chardet\n",
            "    Found existing installation: chardet 5.2.0\n",
            "    Uninstalling chardet-5.2.0:\n",
            "      Successfully uninstalled chardet-5.2.0\n",
            "  Attempting uninstall: idna\n",
            "    Found existing installation: idna 3.4\n",
            "    Uninstalling idna-3.4:\n",
            "      Successfully uninstalled idna-3.4\n",
            "\u001b[31mERROR: pip's dependency resolver does not currently take into account all the packages that are installed. This behaviour is the source of the following dependency conflicts.\n",
            "torchtext 0.17.1 requires torch==2.2.1, but you have torch 2.0.1 which is incompatible.\u001b[0m\u001b[31m\n",
            "\u001b[0mSuccessfully installed chardet-3.0.4 googletrans-4.0.0rc1 h11-0.9.0 h2-3.2.0 hpack-3.0.0 hstspreload-2024.5.1 httpcore-0.9.1 httpx-0.13.3 hyperframe-5.2.0 idna-2.10 rfc3986-1.5.0\n"
          ]
        }
      ]
    },
    {
      "cell_type": "code",
      "source": [
        "!pip install tts"
      ],
      "metadata": {
        "id": "hLuTvu0H_oJs",
        "colab": {
          "base_uri": "https://localhost:8080/",
          "height": 1000
        },
        "outputId": "ef615fa4-66be-44d5-99ac-4f4054db7001"
      },
      "execution_count": null,
      "outputs": [
        {
          "output_type": "stream",
          "name": "stdout",
          "text": [
            "Collecting tts\n",
            "  Downloading TTS-0.22.0-cp310-cp310-manylinux1_x86_64.whl (938 kB)\n",
            "\u001b[2K     \u001b[90m━━━━━━━━━━━━━━━━━━━━━━━━━━━━━━━━━━━━━━━━\u001b[0m \u001b[32m938.0/938.0 kB\u001b[0m \u001b[31m5.3 MB/s\u001b[0m eta \u001b[36m0:00:00\u001b[0m\n",
            "\u001b[?25hRequirement already satisfied: cython>=0.29.30 in /usr/local/lib/python3.10/dist-packages (from tts) (3.0.10)\n",
            "Requirement already satisfied: scipy>=1.11.2 in /usr/local/lib/python3.10/dist-packages (from tts) (1.11.4)\n",
            "Collecting torch>=2.1 (from tts)\n",
            "  Downloading torch-2.3.0-cp310-cp310-manylinux1_x86_64.whl (779.1 MB)\n",
            "\u001b[2K     \u001b[90m━━━━━━━━━━━━━━━━━━━━━━━━━━━━━━━━━━━━━━━━\u001b[0m \u001b[32m779.1/779.1 MB\u001b[0m \u001b[31m833.7 kB/s\u001b[0m eta \u001b[36m0:00:00\u001b[0m\n",
            "\u001b[?25hRequirement already satisfied: torchaudio in /usr/local/lib/python3.10/dist-packages (from tts) (2.2.1+cu121)\n",
            "Requirement already satisfied: soundfile>=0.12.0 in /usr/local/lib/python3.10/dist-packages (from tts) (0.12.1)\n",
            "Requirement already satisfied: librosa>=0.10.0 in /usr/local/lib/python3.10/dist-packages (from tts) (0.10.2.post1)\n",
            "Collecting scikit-learn>=1.3.0 (from tts)\n",
            "  Downloading scikit_learn-1.4.2-cp310-cp310-manylinux_2_17_x86_64.manylinux2014_x86_64.whl (12.1 MB)\n",
            "\u001b[2K     \u001b[90m━━━━━━━━━━━━━━━━━━━━━━━━━━━━━━━━━━━━━━━━\u001b[0m \u001b[32m12.1/12.1 MB\u001b[0m \u001b[31m51.8 MB/s\u001b[0m eta \u001b[36m0:00:00\u001b[0m\n",
            "\u001b[?25hRequirement already satisfied: inflect>=5.6.0 in /usr/local/lib/python3.10/dist-packages (from tts) (7.0.0)\n",
            "Requirement already satisfied: tqdm>=4.64.1 in /usr/local/lib/python3.10/dist-packages (from tts) (4.65.0)\n",
            "Collecting anyascii>=0.3.0 (from tts)\n",
            "  Downloading anyascii-0.3.2-py3-none-any.whl (289 kB)\n",
            "\u001b[2K     \u001b[90m━━━━━━━━━━━━━━━━━━━━━━━━━━━━━━━━━━━━━━━━\u001b[0m \u001b[32m289.9/289.9 kB\u001b[0m \u001b[31m37.6 MB/s\u001b[0m eta \u001b[36m0:00:00\u001b[0m\n",
            "\u001b[?25hRequirement already satisfied: pyyaml>=6.0 in /usr/local/lib/python3.10/dist-packages (from tts) (6.0.1)\n",
            "Requirement already satisfied: fsspec>=2023.6.0 in /usr/local/lib/python3.10/dist-packages (from tts) (2023.6.0)\n",
            "Requirement already satisfied: aiohttp>=3.8.1 in /usr/local/lib/python3.10/dist-packages (from tts) (3.9.5)\n",
            "Requirement already satisfied: packaging>=23.1 in /usr/local/lib/python3.10/dist-packages (from tts) (23.1)\n",
            "Requirement already satisfied: flask>=2.0.1 in /usr/local/lib/python3.10/dist-packages (from tts) (2.2.5)\n",
            "Collecting pysbd>=0.3.4 (from tts)\n",
            "  Downloading pysbd-0.3.4-py3-none-any.whl (71 kB)\n",
            "\u001b[2K     \u001b[90m━━━━━━━━━━━━━━━━━━━━━━━━━━━━━━━━━━━━━━━━\u001b[0m \u001b[32m71.1/71.1 kB\u001b[0m \u001b[31m12.8 MB/s\u001b[0m eta \u001b[36m0:00:00\u001b[0m\n",
            "\u001b[?25hCollecting umap-learn>=0.5.1 (from tts)\n",
            "  Downloading umap_learn-0.5.6-py3-none-any.whl (85 kB)\n",
            "\u001b[2K     \u001b[90m━━━━━━━━━━━━━━━━━━━━━━━━━━━━━━━━━━━━━━━━\u001b[0m \u001b[32m85.7/85.7 kB\u001b[0m \u001b[31m14.9 MB/s\u001b[0m eta \u001b[36m0:00:00\u001b[0m\n",
            "\u001b[?25hCollecting pandas<2.0,>=1.4 (from tts)\n",
            "  Downloading pandas-1.5.3-cp310-cp310-manylinux_2_17_x86_64.manylinux2014_x86_64.whl (12.1 MB)\n",
            "\u001b[2K     \u001b[90m━━━━━━━━━━━━━━━━━━━━━━━━━━━━━━━━━━━━━━━━\u001b[0m \u001b[32m12.1/12.1 MB\u001b[0m \u001b[31m52.8 MB/s\u001b[0m eta \u001b[36m0:00:00\u001b[0m\n",
            "\u001b[?25hRequirement already satisfied: matplotlib>=3.7.0 in /usr/local/lib/python3.10/dist-packages (from tts) (3.7.1)\n",
            "Collecting trainer>=0.0.32 (from tts)\n",
            "  Downloading trainer-0.0.36-py3-none-any.whl (51 kB)\n",
            "\u001b[2K     \u001b[90m━━━━━━━━━━━━━━━━━━━━━━━━━━━━━━━━━━━━━━━━\u001b[0m \u001b[32m51.2/51.2 kB\u001b[0m \u001b[31m8.6 MB/s\u001b[0m eta \u001b[36m0:00:00\u001b[0m\n",
            "\u001b[?25hCollecting coqpit>=0.0.16 (from tts)\n",
            "  Downloading coqpit-0.0.17-py3-none-any.whl (13 kB)\n",
            "Requirement already satisfied: jieba in /usr/local/lib/python3.10/dist-packages (from tts) (0.42.1)\n",
            "Collecting pypinyin (from tts)\n",
            "  Downloading pypinyin-0.51.0-py2.py3-none-any.whl (1.4 MB)\n",
            "\u001b[2K     \u001b[90m━━━━━━━━━━━━━━━━━━━━━━━━━━━━━━━━━━━━━━━━\u001b[0m \u001b[32m1.4/1.4 MB\u001b[0m \u001b[31m85.7 MB/s\u001b[0m eta \u001b[36m0:00:00\u001b[0m\n",
            "\u001b[?25hCollecting hangul-romanize (from tts)\n",
            "  Downloading hangul_romanize-0.1.0-py3-none-any.whl (4.6 kB)\n",
            "Collecting gruut[de,es,fr]==2.2.3 (from tts)\n",
            "  Downloading gruut-2.2.3.tar.gz (73 kB)\n",
            "\u001b[2K     \u001b[90m━━━━━━━━━━━━━━━━━━━━━━━━━━━━━━━━━━━━━━━━\u001b[0m \u001b[32m73.5/73.5 kB\u001b[0m \u001b[31m13.0 MB/s\u001b[0m eta \u001b[36m0:00:00\u001b[0m\n",
            "\u001b[?25h  Preparing metadata (setup.py) ... \u001b[?25l\u001b[?25hdone\n",
            "Collecting jamo (from tts)\n",
            "  Downloading jamo-0.4.1-py3-none-any.whl (9.5 kB)\n",
            "Requirement already satisfied: nltk in /usr/local/lib/python3.10/dist-packages (from tts) (3.8.1)\n",
            "Collecting g2pkk>=0.1.1 (from tts)\n",
            "  Downloading g2pkk-0.1.2-py3-none-any.whl (25 kB)\n",
            "Collecting bangla (from tts)\n",
            "  Downloading bangla-0.0.2-py2.py3-none-any.whl (6.2 kB)\n",
            "Collecting bnnumerizer (from tts)\n",
            "  Downloading bnnumerizer-0.0.2.tar.gz (4.7 kB)\n",
            "  Preparing metadata (setup.py) ... \u001b[?25l\u001b[?25hdone\n",
            "Collecting bnunicodenormalizer (from tts)\n",
            "  Downloading bnunicodenormalizer-0.1.6.tar.gz (39 kB)\n",
            "  Preparing metadata (setup.py) ... \u001b[?25l\u001b[?25hdone\n",
            "Collecting einops>=0.6.0 (from tts)\n",
            "  Downloading einops-0.8.0-py3-none-any.whl (43 kB)\n",
            "\u001b[2K     \u001b[90m━━━━━━━━━━━━━━━━━━━━━━━━━━━━━━━━━━━━━━━━\u001b[0m \u001b[32m43.2/43.2 kB\u001b[0m \u001b[31m7.2 MB/s\u001b[0m eta \u001b[36m0:00:00\u001b[0m\n",
            "\u001b[?25hRequirement already satisfied: transformers>=4.33.0 in /usr/local/lib/python3.10/dist-packages (from tts) (4.40.2)\n",
            "Collecting encodec>=0.1.1 (from tts)\n",
            "  Downloading encodec-0.1.1.tar.gz (3.7 MB)\n",
            "\u001b[2K     \u001b[90m━━━━━━━━━━━━━━━━━━━━━━━━━━━━━━━━━━━━━━━━\u001b[0m \u001b[32m3.7/3.7 MB\u001b[0m \u001b[31m64.8 MB/s\u001b[0m eta \u001b[36m0:00:00\u001b[0m\n",
            "\u001b[?25h  Preparing metadata (setup.py) ... \u001b[?25l\u001b[?25hdone\n",
            "Collecting unidecode>=1.3.2 (from tts)\n",
            "  Downloading Unidecode-1.3.8-py3-none-any.whl (235 kB)\n",
            "\u001b[2K     \u001b[90m━━━━━━━━━━━━━━━━━━━━━━━━━━━━━━━━━━━━━━━━\u001b[0m \u001b[32m235.5/235.5 kB\u001b[0m \u001b[31m31.8 MB/s\u001b[0m eta \u001b[36m0:00:00\u001b[0m\n",
            "\u001b[?25hCollecting num2words (from tts)\n",
            "  Downloading num2words-0.5.13-py3-none-any.whl (143 kB)\n",
            "\u001b[2K     \u001b[90m━━━━━━━━━━━━━━━━━━━━━━━━━━━━━━━━━━━━━━━━\u001b[0m \u001b[32m143.3/143.3 kB\u001b[0m \u001b[31m23.3 MB/s\u001b[0m eta \u001b[36m0:00:00\u001b[0m\n",
            "\u001b[?25hRequirement already satisfied: spacy[ja]>=3 in /usr/local/lib/python3.10/dist-packages (from tts) (3.5.3)\n",
            "Collecting numpy==1.22.0 (from tts)\n",
            "  Downloading numpy-1.22.0-cp310-cp310-manylinux_2_17_x86_64.manylinux2014_x86_64.whl (16.8 MB)\n",
            "\u001b[2K     \u001b[90m━━━━━━━━━━━━━━━━━━━━━━━━━━━━━━━━━━━━━━━━\u001b[0m \u001b[32m16.8/16.8 MB\u001b[0m \u001b[31m40.7 MB/s\u001b[0m eta \u001b[36m0:00:00\u001b[0m\n",
            "\u001b[?25hCollecting numba>=0.57.0 (from tts)\n",
            "  Downloading numba-0.59.1-cp310-cp310-manylinux2014_x86_64.manylinux_2_17_x86_64.whl (3.7 MB)\n",
            "\u001b[2K     \u001b[90m━━━━━━━━━━━━━━━━━━━━━━━━━━━━━━━━━━━━━━━━\u001b[0m \u001b[32m3.7/3.7 MB\u001b[0m \u001b[31m56.0 MB/s\u001b[0m eta \u001b[36m0:00:00\u001b[0m\n",
            "\u001b[?25hRequirement already satisfied: Babel<3.0.0,>=2.8.0 in /usr/local/lib/python3.10/dist-packages (from gruut[de,es,fr]==2.2.3->tts) (2.15.0)\n",
            "Collecting dateparser~=1.1.0 (from gruut[de,es,fr]==2.2.3->tts)\n",
            "  Downloading dateparser-1.1.8-py2.py3-none-any.whl (293 kB)\n",
            "\u001b[2K     \u001b[90m━━━━━━━━━━━━━━━━━━━━━━━━━━━━━━━━━━━━━━━━\u001b[0m \u001b[32m293.8/293.8 kB\u001b[0m \u001b[31m31.2 MB/s\u001b[0m eta \u001b[36m0:00:00\u001b[0m\n",
            "\u001b[?25hCollecting gruut-ipa<1.0,>=0.12.0 (from gruut[de,es,fr]==2.2.3->tts)\n",
            "  Downloading gruut-ipa-0.13.0.tar.gz (101 kB)\n",
            "\u001b[2K     \u001b[90m━━━━━━━━━━━━━━━━━━━━━━━━━━━━━━━━━━━━━━━━\u001b[0m \u001b[32m101.6/101.6 kB\u001b[0m \u001b[31m15.4 MB/s\u001b[0m eta \u001b[36m0:00:00\u001b[0m\n",
            "\u001b[?25h  Preparing metadata (setup.py) ... \u001b[?25l\u001b[?25hdone\n",
            "Collecting gruut_lang_en~=2.0.0 (from gruut[de,es,fr]==2.2.3->tts)\n",
            "  Downloading gruut_lang_en-2.0.0.tar.gz (15.2 MB)\n",
            "\u001b[2K     \u001b[90m━━━━━━━━━━━━━━━━━━━━━━━━━━━━━━━━━━━━━━━━\u001b[0m \u001b[32m15.2/15.2 MB\u001b[0m \u001b[31m13.3 MB/s\u001b[0m eta \u001b[36m0:00:00\u001b[0m\n",
            "\u001b[?25h  Preparing metadata (setup.py) ... \u001b[?25l\u001b[?25hdone\n",
            "Collecting jsonlines~=1.2.0 (from gruut[de,es,fr]==2.2.3->tts)\n",
            "  Downloading jsonlines-1.2.0-py2.py3-none-any.whl (7.6 kB)\n",
            "Collecting networkx<3.0.0,>=2.5.0 (from gruut[de,es,fr]==2.2.3->tts)\n",
            "  Downloading networkx-2.8.8-py3-none-any.whl (2.0 MB)\n",
            "\u001b[2K     \u001b[90m━━━━━━━━━━━━━━━━━━━━━━━━━━━━━━━━━━━━━━━━\u001b[0m \u001b[32m2.0/2.0 MB\u001b[0m \u001b[31m67.5 MB/s\u001b[0m eta \u001b[36m0:00:00\u001b[0m\n",
            "\u001b[?25hCollecting python-crfsuite~=0.9.7 (from gruut[de,es,fr]==2.2.3->tts)\n",
            "  Downloading python_crfsuite-0.9.10-cp310-cp310-manylinux_2_17_x86_64.manylinux2014_x86_64.whl (1.1 MB)\n",
            "\u001b[2K     \u001b[90m━━━━━━━━━━━━━━━━━━━━━━━━━━━━━━━━━━━━━━━━\u001b[0m \u001b[32m1.1/1.1 MB\u001b[0m \u001b[31m66.9 MB/s\u001b[0m eta \u001b[36m0:00:00\u001b[0m\n",
            "\u001b[?25hCollecting gruut_lang_fr~=2.0.0 (from gruut[de,es,fr]==2.2.3->tts)\n",
            "  Downloading gruut_lang_fr-2.0.2.tar.gz (10.9 MB)\n",
            "\u001b[2K     \u001b[90m━━━━━━━━━━━━━━━━━━━━━━━━━━━━━━━━━━━━━━━━\u001b[0m \u001b[32m10.9/10.9 MB\u001b[0m \u001b[31m57.9 MB/s\u001b[0m eta \u001b[36m0:00:00\u001b[0m\n",
            "\u001b[?25h  Preparing metadata (setup.py) ... \u001b[?25l\u001b[?25hdone\n",
            "Collecting gruut_lang_es~=2.0.0 (from gruut[de,es,fr]==2.2.3->tts)\n",
            "  Downloading gruut_lang_es-2.0.0.tar.gz (31.4 MB)\n",
            "\u001b[2K     \u001b[90m━━━━━━━━━━━━━━━━━━━━━━━━━━━━━━━━━━━━━━━━\u001b[0m \u001b[32m31.4/31.4 MB\u001b[0m \u001b[31m12.1 MB/s\u001b[0m eta \u001b[36m0:00:00\u001b[0m\n",
            "\u001b[?25h  Preparing metadata (setup.py) ... \u001b[?25l\u001b[?25hdone\n",
            "Collecting gruut_lang_de~=2.0.0 (from gruut[de,es,fr]==2.2.3->tts)\n",
            "  Downloading gruut_lang_de-2.0.0.tar.gz (18.1 MB)\n",
            "\u001b[2K     \u001b[90m━━━━━━━━━━━━━━━━━━━━━━━━━━━━━━━━━━━━━━━━\u001b[0m \u001b[32m18.1/18.1 MB\u001b[0m \u001b[31m51.7 MB/s\u001b[0m eta \u001b[36m0:00:00\u001b[0m\n",
            "\u001b[?25h  Preparing metadata (setup.py) ... \u001b[?25l\u001b[?25hdone\n",
            "Requirement already satisfied: aiosignal>=1.1.2 in /usr/local/lib/python3.10/dist-packages (from aiohttp>=3.8.1->tts) (1.3.1)\n",
            "Requirement already satisfied: attrs>=17.3.0 in /usr/local/lib/python3.10/dist-packages (from aiohttp>=3.8.1->tts) (23.2.0)\n",
            "Requirement already satisfied: frozenlist>=1.1.1 in /usr/local/lib/python3.10/dist-packages (from aiohttp>=3.8.1->tts) (1.4.1)\n",
            "Requirement already satisfied: multidict<7.0,>=4.5 in /usr/local/lib/python3.10/dist-packages (from aiohttp>=3.8.1->tts) (6.0.5)\n",
            "Requirement already satisfied: yarl<2.0,>=1.0 in /usr/local/lib/python3.10/dist-packages (from aiohttp>=3.8.1->tts) (1.9.4)\n",
            "Requirement already satisfied: async-timeout<5.0,>=4.0 in /usr/local/lib/python3.10/dist-packages (from aiohttp>=3.8.1->tts) (4.0.3)\n",
            "Requirement already satisfied: Werkzeug>=2.2.2 in /usr/local/lib/python3.10/dist-packages (from flask>=2.0.1->tts) (3.0.3)\n",
            "Requirement already satisfied: Jinja2>=3.0 in /usr/local/lib/python3.10/dist-packages (from flask>=2.0.1->tts) (3.1.2)\n",
            "Requirement already satisfied: itsdangerous>=2.0 in /usr/local/lib/python3.10/dist-packages (from flask>=2.0.1->tts) (2.2.0)\n",
            "Requirement already satisfied: click>=8.0 in /usr/local/lib/python3.10/dist-packages (from flask>=2.0.1->tts) (8.1.3)\n",
            "Requirement already satisfied: pydantic>=1.9.1 in /usr/local/lib/python3.10/dist-packages (from inflect>=5.6.0->tts) (1.10.8)\n",
            "Requirement already satisfied: typing-extensions in /usr/local/lib/python3.10/dist-packages (from inflect>=5.6.0->tts) (4.6.3)\n",
            "Requirement already satisfied: audioread>=2.1.9 in /usr/local/lib/python3.10/dist-packages (from librosa>=0.10.0->tts) (3.0.1)\n",
            "INFO: pip is looking at multiple versions of librosa to determine which version is compatible with other requirements. This could take a while.\n",
            "Collecting librosa>=0.10.0 (from tts)\n",
            "  Downloading librosa-0.10.2-py3-none-any.whl (260 kB)\n",
            "\u001b[2K     \u001b[90m━━━━━━━━━━━━━━━━━━━━━━━━━━━━━━━━━━━━━━━━\u001b[0m \u001b[32m260.0/260.0 kB\u001b[0m \u001b[31m37.1 MB/s\u001b[0m eta \u001b[36m0:00:00\u001b[0m\n",
            "\u001b[?25h  Downloading librosa-0.10.1-py3-none-any.whl (253 kB)\n",
            "\u001b[2K     \u001b[90m━━━━━━━━━━━━━━━━━━━━━━━━━━━━━━━━━━━━━━━━\u001b[0m \u001b[32m253.7/253.7 kB\u001b[0m \u001b[31m38.8 MB/s\u001b[0m eta \u001b[36m0:00:00\u001b[0m\n",
            "\u001b[?25h  Downloading librosa-0.10.0.post2-py3-none-any.whl (253 kB)\n",
            "\u001b[2K     \u001b[90m━━━━━━━━━━━━━━━━━━━━━━━━━━━━━━━━━━━━━━━━\u001b[0m \u001b[32m253.0/253.0 kB\u001b[0m \u001b[31m38.1 MB/s\u001b[0m eta \u001b[36m0:00:00\u001b[0m\n",
            "\u001b[?25h  Downloading librosa-0.10.0.post1-py3-none-any.whl (252 kB)\n",
            "\u001b[2K     \u001b[90m━━━━━━━━━━━━━━━━━━━━━━━━━━━━━━━━━━━━━━━━\u001b[0m \u001b[32m253.0/253.0 kB\u001b[0m \u001b[31m36.1 MB/s\u001b[0m eta \u001b[36m0:00:00\u001b[0m\n",
            "\u001b[?25h  Downloading librosa-0.10.0-py3-none-any.whl (252 kB)\n",
            "\u001b[2K     \u001b[90m━━━━━━━━━━━━━━━━━━━━━━━━━━━━━━━━━━━━━━━━\u001b[0m \u001b[32m252.9/252.9 kB\u001b[0m \u001b[31m37.7 MB/s\u001b[0m eta \u001b[36m0:00:00\u001b[0m\n",
            "\u001b[?25hRequirement already satisfied: joblib>=0.14 in /usr/local/lib/python3.10/dist-packages (from librosa>=0.10.0->tts) (1.4.2)\n",
            "Requirement already satisfied: decorator>=4.3.0 in /usr/local/lib/python3.10/dist-packages (from librosa>=0.10.0->tts) (4.4.2)\n",
            "Requirement already satisfied: pooch>=1.0 in /usr/local/lib/python3.10/dist-packages (from librosa>=0.10.0->tts) (1.8.1)\n",
            "Requirement already satisfied: soxr>=0.3.2 in /usr/local/lib/python3.10/dist-packages (from librosa>=0.10.0->tts) (0.3.7)\n",
            "Requirement already satisfied: lazy-loader>=0.1 in /usr/local/lib/python3.10/dist-packages (from librosa>=0.10.0->tts) (0.4)\n",
            "Requirement already satisfied: msgpack>=1.0 in /usr/local/lib/python3.10/dist-packages (from librosa>=0.10.0->tts) (1.0.8)\n",
            "Requirement already satisfied: contourpy>=1.0.1 in /usr/local/lib/python3.10/dist-packages (from matplotlib>=3.7.0->tts) (1.2.1)\n",
            "Requirement already satisfied: cycler>=0.10 in /usr/local/lib/python3.10/dist-packages (from matplotlib>=3.7.0->tts) (0.12.1)\n",
            "Requirement already satisfied: fonttools>=4.22.0 in /usr/local/lib/python3.10/dist-packages (from matplotlib>=3.7.0->tts) (4.51.0)\n",
            "Requirement already satisfied: kiwisolver>=1.0.1 in /usr/local/lib/python3.10/dist-packages (from matplotlib>=3.7.0->tts) (1.4.5)\n",
            "Requirement already satisfied: pillow>=6.2.0 in /usr/local/lib/python3.10/dist-packages (from matplotlib>=3.7.0->tts) (9.5.0)\n",
            "Requirement already satisfied: pyparsing>=2.3.1 in /usr/local/lib/python3.10/dist-packages (from matplotlib>=3.7.0->tts) (3.1.2)\n",
            "Requirement already satisfied: python-dateutil>=2.7 in /usr/local/lib/python3.10/dist-packages (from matplotlib>=3.7.0->tts) (2.8.2)\n",
            "Collecting docopt>=0.6.2 (from num2words->tts)\n",
            "  Downloading docopt-0.6.2.tar.gz (25 kB)\n",
            "  Preparing metadata (setup.py) ... \u001b[?25l\u001b[?25hdone\n",
            "Collecting llvmlite<0.43,>=0.42.0dev0 (from numba>=0.57.0->tts)\n",
            "  Downloading llvmlite-0.42.0-cp310-cp310-manylinux_2_17_x86_64.manylinux2014_x86_64.whl (43.8 MB)\n",
            "\u001b[2K     \u001b[90m━━━━━━━━━━━━━━━━━━━━━━━━━━━━━━━━━━━━━━━━\u001b[0m \u001b[32m43.8/43.8 MB\u001b[0m \u001b[31m11.1 MB/s\u001b[0m eta \u001b[36m0:00:00\u001b[0m\n",
            "\u001b[?25hRequirement already satisfied: pytz>=2020.1 in /usr/local/lib/python3.10/dist-packages (from pandas<2.0,>=1.4->tts) (2023.4)\n",
            "Requirement already satisfied: threadpoolctl>=2.0.0 in /usr/local/lib/python3.10/dist-packages (from scikit-learn>=1.3.0->tts) (3.5.0)\n",
            "Requirement already satisfied: cffi>=1.0 in /usr/local/lib/python3.10/dist-packages (from soundfile>=0.12.0->tts) (1.16.0)\n",
            "Requirement already satisfied: spacy-legacy<3.1.0,>=3.0.11 in /usr/local/lib/python3.10/dist-packages (from spacy[ja]>=3->tts) (3.0.12)\n",
            "Requirement already satisfied: spacy-loggers<2.0.0,>=1.0.0 in /usr/local/lib/python3.10/dist-packages (from spacy[ja]>=3->tts) (1.0.4)\n",
            "Requirement already satisfied: murmurhash<1.1.0,>=0.28.0 in /usr/local/lib/python3.10/dist-packages (from spacy[ja]>=3->tts) (1.0.9)\n",
            "Requirement already satisfied: cymem<2.1.0,>=2.0.2 in /usr/local/lib/python3.10/dist-packages (from spacy[ja]>=3->tts) (2.0.7)\n",
            "Requirement already satisfied: preshed<3.1.0,>=3.0.2 in /usr/local/lib/python3.10/dist-packages (from spacy[ja]>=3->tts) (3.0.8)\n",
            "Requirement already satisfied: thinc<8.2.0,>=8.1.8 in /usr/local/lib/python3.10/dist-packages (from spacy[ja]>=3->tts) (8.1.10)\n",
            "Requirement already satisfied: wasabi<1.2.0,>=0.9.1 in /usr/local/lib/python3.10/dist-packages (from spacy[ja]>=3->tts) (1.1.1)\n",
            "Requirement already satisfied: srsly<3.0.0,>=2.4.3 in /usr/local/lib/python3.10/dist-packages (from spacy[ja]>=3->tts) (2.4.6)\n",
            "Requirement already satisfied: catalogue<2.1.0,>=2.0.6 in /usr/local/lib/python3.10/dist-packages (from spacy[ja]>=3->tts) (2.0.8)\n",
            "Requirement already satisfied: typer<0.8.0,>=0.3.0 in /usr/local/lib/python3.10/dist-packages (from spacy[ja]>=3->tts) (0.7.0)\n",
            "Requirement already satisfied: pathy>=0.10.0 in /usr/local/lib/python3.10/dist-packages (from spacy[ja]>=3->tts) (0.10.1)\n",
            "Requirement already satisfied: smart-open<7.0.0,>=5.2.1 in /usr/local/lib/python3.10/dist-packages (from spacy[ja]>=3->tts) (6.3.0)\n",
            "Requirement already satisfied: requests<3.0.0,>=2.13.0 in /usr/local/lib/python3.10/dist-packages (from spacy[ja]>=3->tts) (2.31.0)\n",
            "Requirement already satisfied: setuptools in /usr/local/lib/python3.10/dist-packages (from spacy[ja]>=3->tts) (67.7.2)\n",
            "Requirement already satisfied: langcodes<4.0.0,>=3.2.0 in /usr/local/lib/python3.10/dist-packages (from spacy[ja]>=3->tts) (3.3.0)\n",
            "Collecting sudachipy!=0.6.1,>=0.5.2 (from spacy[ja]>=3->tts)\n",
            "  Downloading SudachiPy-0.6.8-cp310-cp310-manylinux_2_17_x86_64.manylinux2014_x86_64.whl (2.6 MB)\n",
            "\u001b[2K     \u001b[90m━━━━━━━━━━━━━━━━━━━━━━━━━━━━━━━━━━━━━━━━\u001b[0m \u001b[32m2.6/2.6 MB\u001b[0m \u001b[31m51.8 MB/s\u001b[0m eta \u001b[36m0:00:00\u001b[0m\n",
            "\u001b[?25hCollecting sudachidict-core>=20211220 (from spacy[ja]>=3->tts)\n",
            "  Downloading SudachiDict_core-20240409-py3-none-any.whl (72.0 MB)\n",
            "\u001b[2K     \u001b[90m━━━━━━━━━━━━━━━━━━━━━━━━━━━━━━━━━━━━━━━━\u001b[0m \u001b[32m72.0/72.0 MB\u001b[0m \u001b[31m9.4 MB/s\u001b[0m eta \u001b[36m0:00:00\u001b[0m\n",
            "\u001b[?25hRequirement already satisfied: filelock in /usr/local/lib/python3.10/dist-packages (from torch>=2.1->tts) (3.12.0)\n",
            "Collecting typing-extensions (from inflect>=5.6.0->tts)\n",
            "  Downloading typing_extensions-4.11.0-py3-none-any.whl (34 kB)\n",
            "Requirement already satisfied: sympy in /usr/local/lib/python3.10/dist-packages (from torch>=2.1->tts) (1.12)\n",
            "Collecting nvidia-cuda-nvrtc-cu12==12.1.105 (from torch>=2.1->tts)\n",
            "  Using cached nvidia_cuda_nvrtc_cu12-12.1.105-py3-none-manylinux1_x86_64.whl (23.7 MB)\n",
            "Collecting nvidia-cuda-runtime-cu12==12.1.105 (from torch>=2.1->tts)\n",
            "  Using cached nvidia_cuda_runtime_cu12-12.1.105-py3-none-manylinux1_x86_64.whl (823 kB)\n",
            "Collecting nvidia-cuda-cupti-cu12==12.1.105 (from torch>=2.1->tts)\n",
            "  Using cached nvidia_cuda_cupti_cu12-12.1.105-py3-none-manylinux1_x86_64.whl (14.1 MB)\n",
            "Collecting nvidia-cudnn-cu12==8.9.2.26 (from torch>=2.1->tts)\n",
            "  Using cached nvidia_cudnn_cu12-8.9.2.26-py3-none-manylinux1_x86_64.whl (731.7 MB)\n",
            "Collecting nvidia-cublas-cu12==12.1.3.1 (from torch>=2.1->tts)\n",
            "  Using cached nvidia_cublas_cu12-12.1.3.1-py3-none-manylinux1_x86_64.whl (410.6 MB)\n",
            "Collecting nvidia-cufft-cu12==11.0.2.54 (from torch>=2.1->tts)\n",
            "  Using cached nvidia_cufft_cu12-11.0.2.54-py3-none-manylinux1_x86_64.whl (121.6 MB)\n",
            "Collecting nvidia-curand-cu12==10.3.2.106 (from torch>=2.1->tts)\n",
            "  Using cached nvidia_curand_cu12-10.3.2.106-py3-none-manylinux1_x86_64.whl (56.5 MB)\n",
            "Collecting nvidia-cusolver-cu12==11.4.5.107 (from torch>=2.1->tts)\n",
            "  Using cached nvidia_cusolver_cu12-11.4.5.107-py3-none-manylinux1_x86_64.whl (124.2 MB)\n",
            "Collecting nvidia-cusparse-cu12==12.1.0.106 (from torch>=2.1->tts)\n",
            "  Using cached nvidia_cusparse_cu12-12.1.0.106-py3-none-manylinux1_x86_64.whl (196.0 MB)\n",
            "Collecting nvidia-nccl-cu12==2.20.5 (from torch>=2.1->tts)\n",
            "  Downloading nvidia_nccl_cu12-2.20.5-py3-none-manylinux2014_x86_64.whl (176.2 MB)\n",
            "\u001b[2K     \u001b[90m━━━━━━━━━━━━━━━━━━━━━━━━━━━━━━━━━━━━━━━━\u001b[0m \u001b[32m176.2/176.2 MB\u001b[0m \u001b[31m2.9 MB/s\u001b[0m eta \u001b[36m0:00:00\u001b[0m\n",
            "\u001b[?25hCollecting nvidia-nvtx-cu12==12.1.105 (from torch>=2.1->tts)\n",
            "  Using cached nvidia_nvtx_cu12-12.1.105-py3-none-manylinux1_x86_64.whl (99 kB)\n",
            "Collecting triton==2.3.0 (from torch>=2.1->tts)\n",
            "  Downloading triton-2.3.0-cp310-cp310-manylinux_2_17_x86_64.manylinux2014_x86_64.whl (168.1 MB)\n",
            "\u001b[2K     \u001b[90m━━━━━━━━━━━━━━━━━━━━━━━━━━━━━━━━━━━━━━━━\u001b[0m \u001b[32m168.1/168.1 MB\u001b[0m \u001b[31m4.9 MB/s\u001b[0m eta \u001b[36m0:00:00\u001b[0m\n",
            "\u001b[?25hCollecting nvidia-nvjitlink-cu12 (from nvidia-cusolver-cu12==11.4.5.107->torch>=2.1->tts)\n",
            "  Using cached nvidia_nvjitlink_cu12-12.4.127-py3-none-manylinux2014_x86_64.whl (21.1 MB)\n",
            "Requirement already satisfied: psutil in /usr/local/lib/python3.10/dist-packages (from trainer>=0.0.32->tts) (5.9.5)\n",
            "Requirement already satisfied: tensorboard in /usr/local/lib/python3.10/dist-packages (from trainer>=0.0.32->tts) (2.15.2)\n",
            "Requirement already satisfied: huggingface-hub<1.0,>=0.19.3 in /usr/local/lib/python3.10/dist-packages (from transformers>=4.33.0->tts) (0.20.3)\n",
            "Requirement already satisfied: regex!=2019.12.17 in /usr/local/lib/python3.10/dist-packages (from transformers>=4.33.0->tts) (2023.6.3)\n",
            "Requirement already satisfied: tokenizers<0.20,>=0.19 in /usr/local/lib/python3.10/dist-packages (from transformers>=4.33.0->tts) (0.19.1)\n",
            "Requirement already satisfied: safetensors>=0.4.1 in /usr/local/lib/python3.10/dist-packages (from transformers>=4.33.0->tts) (0.4.3)\n",
            "Collecting pynndescent>=0.5 (from umap-learn>=0.5.1->tts)\n",
            "  Downloading pynndescent-0.5.12-py3-none-any.whl (56 kB)\n",
            "\u001b[2K     \u001b[90m━━━━━━━━━━━━━━━━━━━━━━━━━━━━━━━━━━━━━━━━\u001b[0m \u001b[32m56.8/56.8 kB\u001b[0m \u001b[31m8.9 MB/s\u001b[0m eta \u001b[36m0:00:00\u001b[0m\n",
            "\u001b[?25hCollecting torch>=2.1 (from tts)\n",
            "  Downloading torch-2.2.1-cp310-cp310-manylinux1_x86_64.whl (755.5 MB)\n",
            "\u001b[2K     \u001b[90m━━━━━━━━━━━━━━━━━━━━━━━━━━━━━━━━━━━━━━━━\u001b[0m \u001b[32m755.5/755.5 MB\u001b[0m \u001b[31m1.5 MB/s\u001b[0m eta \u001b[36m0:00:00\u001b[0m\n",
            "\u001b[?25hCollecting nvidia-nccl-cu12==2.19.3 (from torch>=2.1->tts)\n",
            "  Using cached nvidia_nccl_cu12-2.19.3-py3-none-manylinux1_x86_64.whl (166.0 MB)\n",
            "Collecting triton==2.2.0 (from torch>=2.1->tts)\n",
            "  Downloading triton-2.2.0-cp310-cp310-manylinux_2_17_x86_64.manylinux2014_x86_64.whl (167.9 MB)\n",
            "\u001b[2K     \u001b[90m━━━━━━━━━━━━━━━━━━━━━━━━━━━━━━━━━━━━━━━━\u001b[0m \u001b[32m167.9/167.9 MB\u001b[0m \u001b[31m3.5 MB/s\u001b[0m eta \u001b[36m0:00:00\u001b[0m\n",
            "\u001b[?25hRequirement already satisfied: pycparser in /usr/local/lib/python3.10/dist-packages (from cffi>=1.0->soundfile>=0.12.0->tts) (2.22)\n",
            "Requirement already satisfied: tzlocal in /usr/local/lib/python3.10/dist-packages (from dateparser~=1.1.0->gruut[de,es,fr]==2.2.3->tts) (5.2)\n",
            "Requirement already satisfied: MarkupSafe>=2.0 in /usr/local/lib/python3.10/dist-packages (from Jinja2>=3.0->flask>=2.0.1->tts) (2.1.3)\n",
            "Requirement already satisfied: six in /usr/local/lib/python3.10/dist-packages (from jsonlines~=1.2.0->gruut[de,es,fr]==2.2.3->tts) (1.16.0)\n",
            "Requirement already satisfied: platformdirs>=2.5.0 in /usr/local/lib/python3.10/dist-packages (from pooch>=1.0->librosa>=0.10.0->tts) (4.2.1)\n",
            "Requirement already satisfied: charset-normalizer<4,>=2 in /usr/local/lib/python3.10/dist-packages (from requests<3.0.0,>=2.13.0->spacy[ja]>=3->tts) (3.1.0)\n",
            "Requirement already satisfied: idna<4,>=2.5 in /usr/local/lib/python3.10/dist-packages (from requests<3.0.0,>=2.13.0->spacy[ja]>=3->tts) (2.10)\n",
            "Requirement already satisfied: urllib3<3,>=1.21.1 in /usr/local/lib/python3.10/dist-packages (from requests<3.0.0,>=2.13.0->spacy[ja]>=3->tts) (1.26.16)\n",
            "Requirement already satisfied: certifi>=2017.4.17 in /usr/local/lib/python3.10/dist-packages (from requests<3.0.0,>=2.13.0->spacy[ja]>=3->tts) (2023.5.7)\n",
            "Requirement already satisfied: blis<0.8.0,>=0.7.8 in /usr/local/lib/python3.10/dist-packages (from thinc<8.2.0,>=8.1.8->spacy[ja]>=3->tts) (0.7.9)\n",
            "Requirement already satisfied: confection<1.0.0,>=0.0.1 in /usr/local/lib/python3.10/dist-packages (from thinc<8.2.0,>=8.1.8->spacy[ja]>=3->tts) (0.0.4)\n",
            "Requirement already satisfied: mpmath>=0.19 in /usr/local/lib/python3.10/dist-packages (from sympy->torch>=2.1->tts) (1.3.0)\n",
            "Requirement already satisfied: absl-py>=0.4 in /usr/local/lib/python3.10/dist-packages (from tensorboard->trainer>=0.0.32->tts) (1.4.0)\n",
            "Requirement already satisfied: grpcio>=1.48.2 in /usr/local/lib/python3.10/dist-packages (from tensorboard->trainer>=0.0.32->tts) (1.54.2)\n",
            "Requirement already satisfied: google-auth<3,>=1.6.3 in /usr/local/lib/python3.10/dist-packages (from tensorboard->trainer>=0.0.32->tts) (2.19.1)\n",
            "Requirement already satisfied: google-auth-oauthlib<2,>=0.5 in /usr/local/lib/python3.10/dist-packages (from tensorboard->trainer>=0.0.32->tts) (1.2.0)\n",
            "Requirement already satisfied: markdown>=2.6.8 in /usr/local/lib/python3.10/dist-packages (from tensorboard->trainer>=0.0.32->tts) (3.6)\n",
            "Requirement already satisfied: protobuf!=4.24.0,>=3.19.6 in /usr/local/lib/python3.10/dist-packages (from tensorboard->trainer>=0.0.32->tts) (4.23.2)\n",
            "Requirement already satisfied: tensorboard-data-server<0.8.0,>=0.7.0 in /usr/local/lib/python3.10/dist-packages (from tensorboard->trainer>=0.0.32->tts) (0.7.2)\n",
            "Requirement already satisfied: cachetools<6.0,>=2.0.0 in /usr/local/lib/python3.10/dist-packages (from google-auth<3,>=1.6.3->tensorboard->trainer>=0.0.32->tts) (5.3.1)\n",
            "Requirement already satisfied: pyasn1-modules>=0.2.1 in /usr/local/lib/python3.10/dist-packages (from google-auth<3,>=1.6.3->tensorboard->trainer>=0.0.32->tts) (0.3.0)\n",
            "Requirement already satisfied: rsa<5,>=3.1.4 in /usr/local/lib/python3.10/dist-packages (from google-auth<3,>=1.6.3->tensorboard->trainer>=0.0.32->tts) (4.9)\n",
            "Requirement already satisfied: requests-oauthlib>=0.7.0 in /usr/local/lib/python3.10/dist-packages (from google-auth-oauthlib<2,>=0.5->tensorboard->trainer>=0.0.32->tts) (1.3.1)\n",
            "Requirement already satisfied: pyasn1<0.6.0,>=0.4.6 in /usr/local/lib/python3.10/dist-packages (from pyasn1-modules>=0.2.1->google-auth<3,>=1.6.3->tensorboard->trainer>=0.0.32->tts) (0.5.0)\n",
            "Requirement already satisfied: oauthlib>=3.0.0 in /usr/local/lib/python3.10/dist-packages (from requests-oauthlib>=0.7.0->google-auth-oauthlib<2,>=0.5->tensorboard->trainer>=0.0.32->tts) (3.2.2)\n",
            "Building wheels for collected packages: encodec, bnnumerizer, bnunicodenormalizer, docopt, gruut-ipa, gruut_lang_de, gruut_lang_en, gruut_lang_es, gruut_lang_fr, gruut\n",
            "  Building wheel for encodec (setup.py) ... \u001b[?25l\u001b[?25hdone\n",
            "  Created wheel for encodec: filename=encodec-0.1.1-py3-none-any.whl size=45762 sha256=0612bffc40cb09e843fa7436eb97d39283932d8ead6f42b3d5649eccb7579d20\n",
            "  Stored in directory: /root/.cache/pip/wheels/fc/36/cb/81af8b985a5f5e0815312d5e52b41263237af07b977e6bcbf3\n",
            "  Building wheel for bnnumerizer (setup.py) ... \u001b[?25l\u001b[?25hdone\n",
            "  Created wheel for bnnumerizer: filename=bnnumerizer-0.0.2-py3-none-any.whl size=5261 sha256=d8cec0a63ca2fd079bb637e31705f92ac7d97119949c21361b6cc0f0ea49ca2f\n",
            "  Stored in directory: /root/.cache/pip/wheels/59/6b/e8/223172e7d5c9f72df3ea1a0d9258f3a8ab5b28e827728edef5\n",
            "  Building wheel for bnunicodenormalizer (setup.py) ... \u001b[?25l\u001b[?25hdone\n",
            "  Created wheel for bnunicodenormalizer: filename=bnunicodenormalizer-0.1.6-py3-none-any.whl size=22780 sha256=0705d0c6f73f8c14fa124a66682b3b4de24bf4e4659825a80b191990195b2c52\n",
            "  Stored in directory: /root/.cache/pip/wheels/f4/d7/e9/16732a619cbf5a63fdc9f6e2f9eb5fcf73fa023735237330e9\n",
            "  Building wheel for docopt (setup.py) ... \u001b[?25l\u001b[?25hdone\n",
            "  Created wheel for docopt: filename=docopt-0.6.2-py2.py3-none-any.whl size=13706 sha256=5cdb0edc7355950cf3d7171181ad693b23a247881d69ec03237bf72b22a22a18\n",
            "  Stored in directory: /root/.cache/pip/wheels/fc/ab/d4/5da2067ac95b36618c629a5f93f809425700506f72c9732fac\n",
            "  Building wheel for gruut-ipa (setup.py) ... \u001b[?25l\u001b[?25hdone\n",
            "  Created wheel for gruut-ipa: filename=gruut_ipa-0.13.0-py3-none-any.whl size=104870 sha256=3e30783d84c3cca8d949c65d0b98aa6e93fd7d6509c1444c9b5559dd836f599a\n",
            "  Stored in directory: /root/.cache/pip/wheels/7b/18/49/e4f500ecdf0babe757953f844e4d7cd1ea81c5503c09bfe984\n",
            "  Building wheel for gruut_lang_de (setup.py) ... \u001b[?25l\u001b[?25hdone\n",
            "  Created wheel for gruut_lang_de: filename=gruut_lang_de-2.0.0-py3-none-any.whl size=18498183 sha256=f59b8657fbe93c5a0de72239138203d8bc1e721825e20b21de575d911a6783c3\n",
            "  Stored in directory: /root/.cache/pip/wheels/95/9a/05/cfce98f0c41a1a540f15708c4a02df190b82d84cf91ef6bc7f\n",
            "  Building wheel for gruut_lang_en (setup.py) ... \u001b[?25l\u001b[?25hdone\n",
            "  Created wheel for gruut_lang_en: filename=gruut_lang_en-2.0.0-py3-none-any.whl size=15297178 sha256=12a56bcf39bc3350ec91b21293c3d46868990cc0c142e972247f0ac9f91bbbd6\n",
            "  Stored in directory: /root/.cache/pip/wheels/10/9c/fb/77c655a9fbd78cdb9935d0ab65d80ddd0a3bcf7dbe18261650\n",
            "  Building wheel for gruut_lang_es (setup.py) ... \u001b[?25l\u001b[?25hdone\n",
            "  Created wheel for gruut_lang_es: filename=gruut_lang_es-2.0.0-py3-none-any.whl size=32173797 sha256=d3a9d76a5dcc4df23892de54b5f09c7a15f63174f3661ba28e76e44949353bf4\n",
            "  Stored in directory: /root/.cache/pip/wheels/9b/0a/90/788d92c07744b329b9283e37b29b064f5db6b1bb0442a1a19b\n",
            "  Building wheel for gruut_lang_fr (setup.py) ... \u001b[?25l\u001b[?25hdone\n",
            "  Created wheel for gruut_lang_fr: filename=gruut_lang_fr-2.0.2-py3-none-any.whl size=10968767 sha256=bac06e027909690d225a02a3ad0e9cbec566bfafa4ce84504b702cc9dae34874\n",
            "  Stored in directory: /root/.cache/pip/wheels/db/21/be/d0436e3f1cf9bf38b9bb9b4a476399c77a1ab19f7172b45e19\n",
            "  Building wheel for gruut (setup.py) ... \u001b[?25l\u001b[?25hdone\n",
            "  Created wheel for gruut: filename=gruut-2.2.3-py3-none-any.whl size=75791 sha256=29271c398fa126df66e8b425b8ac15217c6982293e394d5e2a4256a368b09651\n",
            "  Stored in directory: /root/.cache/pip/wheels/fc/57/a8/f9de532daf5214f53644f20f3a9e6f69269453c87df9c0a817\n",
            "Successfully built encodec bnnumerizer bnunicodenormalizer docopt gruut-ipa gruut_lang_de gruut_lang_en gruut_lang_es gruut_lang_fr gruut\n",
            "Installing collected packages: sudachipy, python-crfsuite, jamo, hangul-romanize, gruut_lang_fr, gruut_lang_es, gruut_lang_en, gruut_lang_de, docopt, bnunicodenormalizer, bnnumerizer, bangla, unidecode, typing-extensions, triton, sudachidict-core, pysbd, pypinyin, nvidia-nvtx-cu12, nvidia-nvjitlink-cu12, nvidia-nccl-cu12, nvidia-curand-cu12, nvidia-cufft-cu12, nvidia-cuda-runtime-cu12, nvidia-cuda-nvrtc-cu12, nvidia-cuda-cupti-cu12, nvidia-cublas-cu12, numpy, num2words, networkx, llvmlite, jsonlines, gruut-ipa, einops, coqpit, anyascii, pandas, nvidia-cusparse-cu12, nvidia-cudnn-cu12, numba, g2pkk, dateparser, scikit-learn, nvidia-cusolver-cu12, gruut, torch, pynndescent, librosa, umap-learn, trainer, encodec, tts\n",
            "  Attempting uninstall: typing-extensions\n",
            "    Found existing installation: typing_extensions 4.6.3\n",
            "    Uninstalling typing_extensions-4.6.3:\n",
            "      Successfully uninstalled typing_extensions-4.6.3\n",
            "  Attempting uninstall: triton\n",
            "    Found existing installation: triton 2.0.0\n",
            "    Uninstalling triton-2.0.0:\n",
            "      Successfully uninstalled triton-2.0.0\n",
            "  Attempting uninstall: numpy\n",
            "    Found existing installation: numpy 1.23.5\n",
            "    Uninstalling numpy-1.23.5:\n",
            "      Successfully uninstalled numpy-1.23.5\n",
            "  Attempting uninstall: networkx\n",
            "    Found existing installation: networkx 3.1\n",
            "    Uninstalling networkx-3.1:\n",
            "      Successfully uninstalled networkx-3.1\n",
            "  Attempting uninstall: llvmlite\n",
            "    Found existing installation: llvmlite 0.39.1\n",
            "    Uninstalling llvmlite-0.39.1:\n",
            "      Successfully uninstalled llvmlite-0.39.1\n",
            "  Attempting uninstall: pandas\n",
            "    Found existing installation: pandas 2.0.3\n",
            "    Uninstalling pandas-2.0.3:\n",
            "      Successfully uninstalled pandas-2.0.3\n",
            "  Attempting uninstall: numba\n",
            "    Found existing installation: numba 0.56.4\n",
            "    Uninstalling numba-0.56.4:\n",
            "      Successfully uninstalled numba-0.56.4\n",
            "  Attempting uninstall: scikit-learn\n",
            "    Found existing installation: scikit-learn 1.2.2\n",
            "    Uninstalling scikit-learn-1.2.2:\n",
            "      Successfully uninstalled scikit-learn-1.2.2\n",
            "  Attempting uninstall: torch\n",
            "    Found existing installation: torch 2.0.1\n",
            "    Uninstalling torch-2.0.1:\n",
            "      Successfully uninstalled torch-2.0.1\n",
            "  Attempting uninstall: librosa\n",
            "    Found existing installation: librosa 0.10.2.post1\n",
            "    Uninstalling librosa-0.10.2.post1:\n",
            "      Successfully uninstalled librosa-0.10.2.post1\n",
            "\u001b[31mERROR: pip's dependency resolver does not currently take into account all the packages that are installed. This behaviour is the source of the following dependency conflicts.\n",
            "chex 0.1.86 requires numpy>=1.24.1, but you have numpy 1.22.0 which is incompatible.\n",
            "cudf-cu12 24.4.1 requires numpy<2.0a0,>=1.23, but you have numpy 1.22.0 which is incompatible.\n",
            "cudf-cu12 24.4.1 requires pandas<2.2.2dev0,>=2.0, but you have pandas 1.5.3 which is incompatible.\n",
            "google-colab 1.0.0 requires google-auth==2.27.0, but you have google-auth 2.19.1 which is incompatible.\n",
            "google-colab 1.0.0 requires pandas==2.0.3, but you have pandas 1.5.3 which is incompatible.\n",
            "openai-whisper 20230314 requires triton==2.0.0, but you have triton 2.2.0 which is incompatible.\n",
            "pandas-stubs 2.0.3.230814 requires numpy>=1.25.0; python_version >= \"3.9\", but you have numpy 1.22.0 which is incompatible.\n",
            "plotnine 0.12.4 requires numpy>=1.23.0, but you have numpy 1.22.0 which is incompatible.\n",
            "pywavelets 1.6.0 requires numpy<3,>=1.22.4, but you have numpy 1.22.0 which is incompatible.\n",
            "rmm-cu12 24.4.0 requires numpy<2.0a0,>=1.23, but you have numpy 1.22.0 which is incompatible.\n",
            "statsmodels 0.14.2 requires numpy>=1.22.3, but you have numpy 1.22.0 which is incompatible.\n",
            "tensorflow 2.15.0 requires numpy<2.0.0,>=1.23.5, but you have numpy 1.22.0 which is incompatible.\u001b[0m\u001b[31m\n",
            "\u001b[0mSuccessfully installed anyascii-0.3.2 bangla-0.0.2 bnnumerizer-0.0.2 bnunicodenormalizer-0.1.6 coqpit-0.0.17 dateparser-1.1.8 docopt-0.6.2 einops-0.8.0 encodec-0.1.1 g2pkk-0.1.2 gruut-2.2.3 gruut-ipa-0.13.0 gruut_lang_de-2.0.0 gruut_lang_en-2.0.0 gruut_lang_es-2.0.0 gruut_lang_fr-2.0.2 hangul-romanize-0.1.0 jamo-0.4.1 jsonlines-1.2.0 librosa-0.10.0 llvmlite-0.42.0 networkx-2.8.8 num2words-0.5.13 numba-0.59.1 numpy-1.22.0 nvidia-cublas-cu12-12.1.3.1 nvidia-cuda-cupti-cu12-12.1.105 nvidia-cuda-nvrtc-cu12-12.1.105 nvidia-cuda-runtime-cu12-12.1.105 nvidia-cudnn-cu12-8.9.2.26 nvidia-cufft-cu12-11.0.2.54 nvidia-curand-cu12-10.3.2.106 nvidia-cusolver-cu12-11.4.5.107 nvidia-cusparse-cu12-12.1.0.106 nvidia-nccl-cu12-2.19.3 nvidia-nvjitlink-cu12-12.4.127 nvidia-nvtx-cu12-12.1.105 pandas-1.5.3 pynndescent-0.5.12 pypinyin-0.51.0 pysbd-0.3.4 python-crfsuite-0.9.10 scikit-learn-1.4.2 sudachidict-core-20240409 sudachipy-0.6.8 torch-2.2.1 trainer-0.0.36 triton-2.2.0 tts-0.22.0 typing-extensions-4.11.0 umap-learn-0.5.6 unidecode-1.3.8\n"
          ]
        },
        {
          "output_type": "display_data",
          "data": {
            "application/vnd.colab-display-data+json": {
              "pip_warning": {
                "packages": [
                  "numpy"
                ]
              },
              "id": "464451924dd445fa89853e1c0a6369d2"
            }
          },
          "metadata": {}
        }
      ]
    },
    {
      "cell_type": "code",
      "source": [
        "from TTS.api import TTS\n",
        "tts = TTS(\"tts_models/multilingual/multi-dataset/xtts_v2\", gpu=True)"
      ],
      "metadata": {
        "colab": {
          "base_uri": "https://localhost:8080/"
        },
        "id": "L90XJLTSVuh9",
        "outputId": "269677f8-95cf-4950-d860-5e36dd1737b0"
      },
      "execution_count": null,
      "outputs": [
        {
          "output_type": "stream",
          "name": "stderr",
          "text": [
            "/usr/local/lib/python3.10/dist-packages/TTS/api.py:70: UserWarning: `gpu` will be deprecated. Please use `tts.to(device)` instead.\n",
            "  warnings.warn(\"`gpu` will be deprecated. Please use `tts.to(device)` instead.\")\n"
          ]
        },
        {
          "output_type": "stream",
          "name": "stdout",
          "text": [
            " > You must confirm the following:\n",
            " | > \"I have purchased a commercial license from Coqui: licensing@coqui.ai\"\n",
            " | > \"Otherwise, I agree to the terms of the non-commercial CPML: https://coqui.ai/cpml\" - [y/n]\n",
            " | | > y\n",
            " > Downloading model to /root/.local/share/tts/tts_models--multilingual--multi-dataset--xtts_v2\n"
          ]
        },
        {
          "output_type": "stream",
          "name": "stderr",
          "text": [
            "100%|█████████▉| 1.86G/1.87G [00:22<00:00, 94.7MiB/s]\n",
            "100%|██████████| 1.87G/1.87G [00:22<00:00, 82.1MiB/s]\n",
            "100%|██████████| 4.37k/4.37k [00:00<00:00, 11.5kiB/s]\n",
            "\n",
            "100%|██████████| 361k/361k [00:00<00:00, 880kiB/s]\n",
            "100%|██████████| 32.0/32.0 [00:00<00:00, 63.6iB/s]\n",
            " 43%|████▎     | 3.31M/7.75M [00:00<00:00, 33.1MiB/s]"
          ]
        },
        {
          "output_type": "stream",
          "name": "stdout",
          "text": [
            " > Model's license - CPML\n",
            " > Check https://coqui.ai/cpml.txt for more info.\n",
            " > Using model: xtts\n"
          ]
        },
        {
          "output_type": "stream",
          "name": "stderr",
          "text": [
            "\r100%|██████████| 7.75M/7.75M [00:16<00:00, 33.1MiB/s]"
          ]
        }
      ]
    },
    {
      "cell_type": "code",
      "source": [
        "path = '/content/com.mp4'"
      ],
      "metadata": {
        "id": "GgKGmoFYaHZL"
      },
      "execution_count": null,
      "outputs": []
    },
    {
      "cell_type": "code",
      "source": [
        "import argparse\n",
        "import os\n",
        "import uuid\n",
        "from pydub import AudioSegment\n",
        "from moviepy.editor import VideoFileClip, AudioFileClip\n",
        "from google.cloud import texttospeech\n",
        "from google.cloud import translate_v2 as translate\n",
        "import whisper\n",
        "import spacy\n",
        "from spacy_syllables import SpacySyllables\n",
        "from tqdm import tqdm\n",
        "import tempfile\n",
        "import re"
      ],
      "metadata": {
        "id": "uiF6VQcreWRL"
      },
      "execution_count": null,
      "outputs": []
    },
    {
      "cell_type": "code",
      "source": [
        "spacy_models = {\n",
        "    \"english\": \"en_core_web_sm\",\n",
        "    \"german\": \"de_core_news_sm\",\n",
        "    \"french\": \"fr_core_news_sm\",\n",
        "    \"italian\": \"it_core_news_sm\",\n",
        "    \"catalan\": \"ca_core_news_sm\",\n",
        "    \"chinese\": \"zh_core_web_sm\",\n",
        "    \"croatian\": \"hr_core_news_sm\",\n",
        "    \"danish\": \"da_core_news_sm\",\n",
        "    \"dutch\": \"nl_core_news_sm\",\n",
        "    \"finnish\": \"fi_core_news_sm\",\n",
        "    \"greek\": \"el_core_news_sm\",\n",
        "    \"japanese\": \"ja_core_news_sm\",\n",
        "    \"korean\": \"ko_core_news_sm\",\n",
        "    \"lithuanian\": \"lt_core_news_sm\",\n",
        "    \"macedonian\": \"mk_core_news_sm\",\n",
        "    \"polish\": \"pl_core_news_sm\",\n",
        "    \"portuguese\": \"pt_core_news_sm\",\n",
        "    \"romanian\": \"ro_core_news_sm\",\n",
        "    \"russian\": \"ru_core_news_sm\",\n",
        "    \"spanish\": \"es_core_news_sm\",\n",
        "    \"swedish\": \"sv_core_news_sm\",\n",
        "    \"ukrainian\": \"uk_core_news_sm\"\n",
        "}"
      ],
      "metadata": {
        "id": "BDFAcGMFeasz"
      },
      "execution_count": null,
      "outputs": []
    },
    {
      "cell_type": "code",
      "source": [
        "def extract_audio_from_video(video_file):\n",
        "    try:\n",
        "        print(\"Extracting audio track\")\n",
        "        video = VideoFileClip(video_file)\n",
        "        audio = video.audio\n",
        "        audio_file = os.path.splitext(video_file)[0] + \".wav\"\n",
        "        audio.write_audiofile(audio_file)\n",
        "        return audio_file\n",
        "    except Exception as e:\n",
        "        print(f\"Error extracting audio from video: {e}\")\n",
        "        return None"
      ],
      "metadata": {
        "id": "3A2-SGSWefnT"
      },
      "execution_count": null,
      "outputs": []
    },
    {
      "cell_type": "code",
      "source": [
        "extract_audio_from_video(path)"
      ],
      "metadata": {
        "colab": {
          "base_uri": "https://localhost:8080/",
          "height": 209
        },
        "id": "avs0H_89ekTY",
        "outputId": "3152ae66-6f70-43fd-b783-e2741e628ac9"
      },
      "execution_count": null,
      "outputs": [
        {
          "output_type": "stream",
          "name": "stdout",
          "text": [
            "Extracting audio track\n"
          ]
        },
        {
          "output_type": "stream",
          "name": "stderr",
          "text": [
            "100%|██████████| 7.75M/7.75M [01:55<00:00, 33.1MiB/s]"
          ]
        },
        {
          "output_type": "stream",
          "name": "stdout",
          "text": [
            "MoviePy - Writing audio in /content/com.wav\n"
          ]
        },
        {
          "output_type": "stream",
          "name": "stderr",
          "text": [
            "\n",
            "chunk:   0%|          | 0/705 [00:00<?, ?it/s, now=None]\u001b[A\n",
            "chunk:  22%|██▏       | 152/705 [00:00<00:00, 1519.39it/s, now=None]\u001b[A\n",
            "chunk:  43%|████▎     | 304/705 [00:00<00:00, 759.19it/s, now=None] \u001b[A\n",
            "chunk:  57%|█████▋    | 400/705 [00:00<00:00, 707.94it/s, now=None]\u001b[A\n",
            "chunk:  68%|██████▊   | 481/705 [00:00<00:00, 639.84it/s, now=None]\u001b[A\n",
            "chunk:  86%|████████▋ | 609/705 [00:00<00:00, 799.39it/s, now=None]\u001b[A\n",
            "100%|██████████| 7.75M/7.75M [01:56<00:00, 33.1MiB/s]"
          ]
        },
        {
          "output_type": "stream",
          "name": "stdout",
          "text": [
            "MoviePy - Done.\n"
          ]
        },
        {
          "output_type": "execute_result",
          "data": {
            "text/plain": [
              "'/content/com.wav'"
            ],
            "application/vnd.google.colaboratory.intrinsic+json": {
              "type": "string"
            }
          },
          "metadata": {},
          "execution_count": 11
        }
      ]
    },
    {
      "cell_type": "code",
      "source": [
        "def transcribe_audio(audio_file, source_language):\n",
        "    try:\n",
        "        print(\"Transcribing audio track\")\n",
        "        model = whisper.load_model(\"large\")\n",
        "        trans = model.transcribe(audio_file, language=source_language, verbose=False, word_timestamps=True)\n",
        "        return trans\n",
        "    except Exception as e:\n",
        "        print(f\"Error transcribing audio: {e}\")\n",
        "        return None\n",
        "\n",
        "\n"
      ],
      "metadata": {
        "id": "1ZNWRzRrepQu"
      },
      "execution_count": null,
      "outputs": []
    },
    {
      "cell_type": "code",
      "source": [
        "transcription = transcribe_audio('/content/com.wav', 'english')"
      ],
      "metadata": {
        "id": "ls5cS8ItfOEO",
        "colab": {
          "base_uri": "https://localhost:8080/"
        },
        "outputId": "d2c573a4-0e94-4d9d-8eb6-672e3aecf67a"
      },
      "execution_count": null,
      "outputs": [
        {
          "output_type": "stream",
          "name": "stdout",
          "text": [
            "Transcribing audio track\n"
          ]
        },
        {
          "output_type": "stream",
          "name": "stderr",
          "text": [
            "\n",
            "  0%|                                              | 0.00/2.87G [00:00<?, ?iB/s]\u001b[A\n",
            "  0%|                                     | 4.92M/2.87G [00:00<01:00, 51.3MiB/s]\u001b[A\n",
            "  1%|▏                                     | 18.3M/2.87G [00:00<00:29, 104MiB/s]\u001b[A\n",
            "  1%|▍                                     | 32.9M/2.87G [00:00<00:24, 126MiB/s]\u001b[A\n",
            "  2%|▌                                     | 48.1M/2.87G [00:00<00:21, 139MiB/s]\u001b[A\n",
            "  2%|▊                                     | 61.4M/2.87G [00:00<00:28, 106MiB/s]\u001b[A\n",
            "  2%|▉                                     | 72.5M/2.87G [00:00<00:27, 108MiB/s]\u001b[A\n",
            "  3%|█                                     | 83.4M/2.87G [00:00<00:29, 103MiB/s]\u001b[A\n",
            "  3%|█▎                                    | 97.1M/2.87G [00:00<00:26, 114MiB/s]\u001b[A\n",
            "  4%|█▍                                     | 108M/2.87G [00:01<00:27, 109MiB/s]\u001b[A\n",
            "  4%|█▌                                     | 121M/2.87G [00:01<00:25, 116MiB/s]\u001b[A\n",
            "  5%|█▊                                     | 136M/2.87G [00:01<00:23, 126MiB/s]\u001b[A\n",
            "  5%|█▉                                     | 148M/2.87G [00:01<00:24, 122MiB/s]\u001b[A\n",
            "  5%|██                                     | 160M/2.87G [00:01<00:23, 123MiB/s]\u001b[A\n",
            "  6%|██▎                                    | 172M/2.87G [00:01<00:24, 117MiB/s]\u001b[A\n",
            "  6%|██▍                                    | 184M/2.87G [00:01<00:24, 120MiB/s]\u001b[A\n",
            "  7%|██▌                                    | 196M/2.87G [00:01<00:23, 120MiB/s]\u001b[A\n",
            "  7%|██▊                                    | 208M/2.87G [00:01<00:23, 124MiB/s]\u001b[A\n",
            "  7%|██▉                                    | 220M/2.87G [00:01<00:22, 125MiB/s]\u001b[A\n",
            "  8%|███                                    | 235M/2.87G [00:02<00:21, 133MiB/s]\u001b[A\n",
            "  8%|███▎                                   | 248M/2.87G [00:02<00:20, 135MiB/s]\u001b[A\n",
            "  9%|███▍                                   | 261M/2.87G [00:02<00:21, 129MiB/s]\u001b[A\n",
            "  9%|███▌                                   | 274M/2.87G [00:02<00:22, 124MiB/s]\u001b[A\n",
            " 10%|███▊                                   | 288M/2.87G [00:02<00:20, 133MiB/s]\u001b[A\n",
            " 10%|███▉                                   | 302M/2.87G [00:02<00:20, 134MiB/s]\u001b[A\n",
            " 11%|████▏                                  | 315M/2.87G [00:02<00:23, 119MiB/s]\u001b[A\n",
            " 11%|████▎                                  | 329M/2.87G [00:02<00:21, 127MiB/s]\u001b[A\n",
            " 12%|████▌                                  | 344M/2.87G [00:02<00:20, 135MiB/s]\u001b[A\n",
            " 12%|████▋                                  | 357M/2.87G [00:03<00:20, 131MiB/s]\u001b[A\n",
            " 13%|████▊                                 | 370M/2.87G [00:03<00:55, 48.8MiB/s]\u001b[A\n",
            " 13%|████▉                                 | 384M/2.87G [00:03<00:43, 62.2MiB/s]\u001b[A\n",
            " 14%|█████▏                                | 398M/2.87G [00:03<00:35, 74.4MiB/s]\u001b[A\n",
            " 14%|█████▎                                | 409M/2.87G [00:04<00:31, 83.1MiB/s]\u001b[A\n",
            " 14%|█████▍                                | 424M/2.87G [00:04<00:27, 97.8MiB/s]\u001b[A\n",
            " 15%|█████▊                                 | 438M/2.87G [00:04<00:24, 108MiB/s]\u001b[A\n",
            " 15%|█████▉                                 | 450M/2.87G [00:04<00:24, 109MiB/s]\u001b[A\n",
            " 16%|██████▏                                | 464M/2.87G [00:04<00:22, 118MiB/s]\u001b[A\n",
            " 16%|██████▎                                | 478M/2.87G [00:04<00:20, 123MiB/s]\u001b[A\n",
            " 17%|██████▍                                | 490M/2.87G [00:04<00:21, 120MiB/s]\u001b[A\n",
            " 17%|██████▋                                | 504M/2.87G [00:04<00:20, 127MiB/s]\u001b[A\n",
            " 18%|██████▊                                | 518M/2.87G [00:04<00:19, 130MiB/s]\u001b[A\n",
            " 18%|███████                                | 530M/2.87G [00:05<00:20, 126MiB/s]\u001b[A\n",
            " 19%|███████▏                               | 545M/2.87G [00:05<00:18, 133MiB/s]\u001b[A\n",
            " 19%|███████▍                               | 558M/2.87G [00:05<00:19, 128MiB/s]\u001b[A\n",
            " 19%|███████▌                               | 570M/2.87G [00:05<00:19, 127MiB/s]\u001b[A\n",
            " 20%|███████▋                               | 584M/2.87G [00:05<00:18, 131MiB/s]\u001b[A\n",
            " 20%|███████▋                              | 597M/2.87G [00:05<00:30, 79.6MiB/s]\u001b[A\n",
            " 21%|███████▊                              | 608M/2.87G [00:05<00:27, 87.8MiB/s]\u001b[A\n",
            " 21%|████████                              | 621M/2.87G [00:05<00:24, 97.8MiB/s]\u001b[A\n",
            " 21%|████████▍                              | 633M/2.87G [00:06<00:23, 103MiB/s]\u001b[A\n",
            " 22%|████████▌                              | 644M/2.87G [00:06<00:23, 102MiB/s]\u001b[A\n",
            " 22%|████████▋                              | 658M/2.87G [00:06<00:21, 114MiB/s]\u001b[A\n",
            " 23%|████████▉                              | 672M/2.87G [00:06<00:19, 122MiB/s]\u001b[A\n",
            " 23%|█████████                              | 684M/2.87G [00:06<00:20, 116MiB/s]\u001b[A\n",
            " 24%|█████████▏                             | 697M/2.87G [00:06<00:19, 120MiB/s]\u001b[A\n",
            " 24%|█████████▍                             | 709M/2.87G [00:06<00:19, 120MiB/s]\u001b[A\n",
            " 24%|█████████▌                             | 721M/2.87G [00:06<00:18, 123MiB/s]\u001b[A\n",
            " 25%|█████████▊                             | 736M/2.87G [00:06<00:17, 133MiB/s]\u001b[A\n",
            " 25%|█████████▉                             | 749M/2.87G [00:07<00:19, 121MiB/s]\u001b[A\n",
            " 26%|██████████                             | 762M/2.87G [00:07<00:18, 125MiB/s]\u001b[A\n",
            " 26%|█████████▉                            | 774M/2.87G [00:07<00:26, 85.1MiB/s]\u001b[A\n",
            " 27%|██████████▏                           | 786M/2.87G [00:07<00:24, 92.9MiB/s]\u001b[A\n",
            " 27%|██████████▌                            | 799M/2.87G [00:07<00:21, 103MiB/s]\u001b[A\n",
            " 28%|██████████▋                            | 810M/2.87G [00:07<00:21, 104MiB/s]\u001b[A\n",
            " 28%|██████████▉                            | 822M/2.87G [00:07<00:20, 109MiB/s]\u001b[A\n",
            " 28%|███████████                            | 833M/2.87G [00:07<00:20, 106MiB/s]\u001b[A\n",
            " 29%|██████████▉                           | 844M/2.87G [00:08<00:27, 80.9MiB/s]\u001b[A\n",
            " 29%|███████████                           | 854M/2.87G [00:08<00:25, 87.0MiB/s]\u001b[A\n",
            " 29%|███████████▏                          | 863M/2.87G [00:08<00:25, 84.0MiB/s]\u001b[A\n",
            " 30%|███████████▎                          | 873M/2.87G [00:08<00:24, 88.4MiB/s]\u001b[A\n",
            " 30%|███████████▊                           | 889M/2.87G [00:08<00:20, 107MiB/s]\u001b[A\n",
            " 31%|███████████▉                           | 901M/2.87G [00:08<00:18, 115MiB/s]\u001b[A\n",
            " 31%|████████████                           | 913M/2.87G [00:08<00:19, 109MiB/s]\u001b[A\n",
            " 31%|████████████▏                          | 924M/2.87G [00:08<00:19, 110MiB/s]\u001b[A\n",
            " 32%|████████████▍                          | 937M/2.87G [00:09<00:17, 117MiB/s]\u001b[A\n",
            " 32%|████████████▌                          | 948M/2.87G [00:09<00:18, 115MiB/s]\u001b[A\n",
            " 33%|████████████▋                          | 962M/2.87G [00:09<00:16, 123MiB/s]\u001b[A\n",
            " 33%|████████████▉                          | 975M/2.87G [00:09<00:16, 126MiB/s]\u001b[A\n",
            " 34%|█████████████                          | 988M/2.87G [00:09<00:15, 128MiB/s]\u001b[A\n",
            " 34%|████████████▉                         | 0.98G/2.87G [00:09<00:15, 131MiB/s]\u001b[A\n",
            " 34%|█████████████                         | 0.99G/2.87G [00:09<00:16, 122MiB/s]\u001b[A\n",
            " 35%|█████████████▏                        | 1.00G/2.87G [00:09<00:17, 116MiB/s]\u001b[A\n",
            " 35%|█████████████▍                        | 1.01G/2.87G [00:09<00:18, 107MiB/s]\u001b[A\n",
            " 36%|█████████████▌                        | 1.02G/2.87G [00:10<00:18, 109MiB/s]\u001b[A\n",
            " 36%|█████████████▋                        | 1.03G/2.87G [00:10<00:18, 105MiB/s]\u001b[A\n",
            " 36%|█████████████▊                        | 1.05G/2.87G [00:10<00:16, 117MiB/s]\u001b[A\n",
            " 37%|█████████████▉                        | 1.06G/2.87G [00:10<00:16, 117MiB/s]\u001b[A\n",
            " 37%|██████████████▏                       | 1.07G/2.87G [00:10<00:15, 122MiB/s]\u001b[A\n",
            " 38%|██████████████▎                       | 1.08G/2.87G [00:10<00:15, 124MiB/s]\u001b[A\n",
            " 38%|██████████████▍                       | 1.09G/2.87G [00:10<00:15, 125MiB/s]\u001b[A\n",
            " 39%|██████████████▋                       | 1.11G/2.87G [00:10<00:15, 126MiB/s]\u001b[A\n",
            " 39%|██████████████▍                      | 1.12G/2.87G [00:14<02:35, 12.1MiB/s]\u001b[A\n",
            " 39%|██████████████▌                      | 1.13G/2.87G [00:14<02:15, 13.9MiB/s]\u001b[A\n",
            " 40%|██████████████▋                      | 1.14G/2.87G [00:14<01:42, 18.1MiB/s]\u001b[A\n",
            " 40%|██████████████▊                      | 1.15G/2.87G [00:14<01:13, 25.2MiB/s]\u001b[A\n",
            " 40%|██████████████▉                      | 1.16G/2.87G [00:14<00:59, 30.9MiB/s]\u001b[A\n",
            " 41%|███████████████                      | 1.17G/2.87G [00:14<00:45, 40.5MiB/s]\u001b[A\n",
            " 41%|███████████████▏                     | 1.18G/2.87G [00:14<00:35, 51.5MiB/s]\u001b[A\n",
            " 41%|███████████████▎                     | 1.19G/2.87G [00:14<00:29, 62.3MiB/s]\u001b[A\n",
            " 42%|███████████████▍                     | 1.20G/2.87G [00:15<00:24, 72.2MiB/s]\u001b[A\n",
            " 42%|███████████████▌                     | 1.21G/2.87G [00:15<00:23, 76.0MiB/s]\u001b[A\n",
            " 43%|███████████████▊                     | 1.23G/2.87G [00:15<00:19, 92.2MiB/s]\u001b[A\n",
            " 43%|███████████████▉                     | 1.24G/2.87G [00:15<00:19, 91.1MiB/s]\u001b[A\n",
            " 43%|████████████████                     | 1.25G/2.87G [00:15<00:19, 89.7MiB/s]\u001b[A\n",
            " 44%|████████████████▏                    | 1.26G/2.87G [00:15<00:22, 78.2MiB/s]\u001b[A\n",
            " 44%|████████████████▎                    | 1.27G/2.87G [00:15<00:20, 83.5MiB/s]\u001b[A\n",
            " 44%|████████████████▍                    | 1.28G/2.87G [00:15<00:18, 95.0MiB/s]\u001b[A\n",
            " 45%|█████████████████                     | 1.29G/2.87G [00:16<00:16, 100MiB/s]\u001b[A\n",
            " 45%|█████████████████▏                    | 1.30G/2.87G [00:16<00:16, 105MiB/s]\u001b[A\n",
            " 46%|█████████████████▎                    | 1.31G/2.87G [00:16<00:15, 111MiB/s]\u001b[A\n",
            " 46%|█████████████████▍                    | 1.32G/2.87G [00:16<00:14, 112MiB/s]\u001b[A\n",
            " 46%|█████████████████▋                    | 1.34G/2.87G [00:16<00:13, 121MiB/s]\u001b[A\n",
            " 47%|█████████████████▊                    | 1.35G/2.87G [00:16<00:14, 116MiB/s]\u001b[A\n",
            " 47%|█████████████████▉                    | 1.36G/2.87G [00:16<00:13, 119MiB/s]\u001b[A\n",
            " 48%|██████████████████                    | 1.37G/2.87G [00:16<00:15, 104MiB/s]\u001b[A\n",
            " 48%|██████████████████▎                   | 1.38G/2.87G [00:16<00:14, 110MiB/s]\u001b[A\n",
            " 48%|█████████████████▉                   | 1.39G/2.87G [00:17<00:15, 99.5MiB/s]\u001b[A\n",
            " 49%|██████████████████                   | 1.40G/2.87G [00:18<00:58, 26.8MiB/s]\u001b[A\n",
            " 49%|██████████████████▏                  | 1.42G/2.87G [00:18<00:43, 36.0MiB/s]\u001b[A\n",
            " 50%|██████████████████▎                  | 1.42G/2.87G [00:18<00:46, 33.6MiB/s]\u001b[A\n",
            " 50%|██████████████████▍                  | 1.43G/2.87G [00:18<00:37, 41.0MiB/s]\u001b[A\n",
            " 50%|██████████████████▌                  | 1.44G/2.87G [00:18<00:29, 52.6MiB/s]\u001b[A\n",
            " 51%|██████████████████▋                  | 1.45G/2.87G [00:18<00:24, 61.6MiB/s]\u001b[A\n",
            " 51%|██████████████████▉                  | 1.47G/2.87G [00:19<00:19, 76.3MiB/s]\u001b[A\n",
            " 51%|███████████████████                  | 1.48G/2.87G [00:19<00:17, 84.3MiB/s]\u001b[A\n",
            " 52%|███████████████████▋                  | 1.49G/2.87G [00:19<00:14, 101MiB/s]\u001b[A\n",
            " 52%|███████████████████▉                  | 1.50G/2.87G [00:19<00:14, 103MiB/s]\u001b[A\n",
            " 53%|████████████████████                  | 1.52G/2.87G [00:19<00:13, 111MiB/s]\u001b[A\n",
            " 53%|████████████████████▏                 | 1.53G/2.87G [00:19<00:13, 111MiB/s]\u001b[A\n",
            " 54%|████████████████████▎                 | 1.54G/2.87G [00:19<00:12, 115MiB/s]\u001b[A\n",
            " 54%|████████████████████▍                 | 1.55G/2.87G [00:19<00:12, 110MiB/s]\u001b[A\n",
            " 54%|████████████████████▋                 | 1.56G/2.87G [00:19<00:12, 114MiB/s]\u001b[A\n",
            " 55%|████████████████████▊                 | 1.57G/2.87G [00:20<00:12, 108MiB/s]\u001b[A\n",
            " 55%|████████████████████▉                 | 1.59G/2.87G [00:20<00:11, 117MiB/s]\u001b[A\n",
            " 56%|█████████████████████▏                | 1.60G/2.87G [00:20<00:11, 122MiB/s]\u001b[A\n",
            " 56%|█████████████████████▎                | 1.61G/2.87G [00:20<00:11, 122MiB/s]\u001b[A\n",
            " 57%|█████████████████████▍                | 1.63G/2.87G [00:20<00:10, 132MiB/s]\u001b[A\n",
            " 57%|█████████████████████▋                | 1.64G/2.87G [00:20<00:10, 131MiB/s]\u001b[A\n",
            " 57%|█████████████████████▊                | 1.65G/2.87G [00:20<00:11, 110MiB/s]\u001b[A\n",
            " 58%|█████████████████████▉                | 1.66G/2.87G [00:20<00:12, 107MiB/s]\u001b[A\n",
            " 58%|██████████████████████                | 1.67G/2.87G [00:20<00:11, 111MiB/s]\u001b[A\n",
            " 59%|██████████████████████▏               | 1.68G/2.87G [00:21<00:11, 109MiB/s]\u001b[A\n",
            " 59%|██████████████████████▍               | 1.69G/2.87G [00:21<00:11, 106MiB/s]\u001b[A\n",
            " 59%|█████████████████████▉               | 1.70G/2.87G [00:22<00:43, 28.7MiB/s]\u001b[A\n",
            " 60%|██████████████████████               | 1.72G/2.87G [00:22<00:32, 38.5MiB/s]\u001b[A\n",
            " 60%|██████████████████████▎              | 1.73G/2.87G [00:22<00:24, 51.1MiB/s]\u001b[A\n",
            " 61%|██████████████████████▍              | 1.74G/2.87G [00:22<00:18, 65.1MiB/s]\u001b[A\n",
            " 61%|██████████████████████▌              | 1.76G/2.87G [00:22<00:15, 79.6MiB/s]\u001b[A\n",
            " 62%|██████████████████████▊              | 1.77G/2.87G [00:22<00:14, 79.5MiB/s]\u001b[A\n",
            " 62%|██████████████████████▉              | 1.78G/2.87G [00:22<00:12, 91.0MiB/s]\u001b[A\n",
            " 62%|███████████████████████              | 1.79G/2.87G [00:23<00:12, 96.7MiB/s]\u001b[A\n",
            " 63%|███████████████████████▊              | 1.81G/2.87G [00:23<00:10, 108MiB/s]\u001b[A\n",
            " 63%|████████████████████████              | 1.82G/2.87G [00:23<00:09, 118MiB/s]\u001b[A\n",
            " 64%|████████████████████████▏             | 1.83G/2.87G [00:23<00:10, 111MiB/s]\u001b[A\n",
            " 64%|████████████████████████▍             | 1.84G/2.87G [00:23<00:09, 115MiB/s]\u001b[A\n",
            " 65%|████████████████████████▌             | 1.86G/2.87G [00:23<00:09, 117MiB/s]\u001b[A\n",
            " 65%|████████████████████████▋             | 1.87G/2.87G [00:23<00:09, 119MiB/s]\u001b[A\n",
            " 65%|████████████████████████▊             | 1.88G/2.87G [00:23<00:09, 115MiB/s]\u001b[A\n",
            " 66%|████████████████████████▎            | 1.89G/2.87G [00:24<00:29, 36.4MiB/s]\u001b[A\n",
            " 66%|████████████████████████▍            | 1.90G/2.87G [00:26<01:18, 13.4MiB/s]\u001b[A\n",
            " 66%|████████████████████████▌            | 1.91G/2.87G [00:26<01:06, 15.6MiB/s]\u001b[A\n",
            " 67%|████████████████████████▋            | 1.91G/2.87G [00:27<00:51, 20.2MiB/s]\u001b[A\n",
            " 67%|████████████████████████▊            | 1.92G/2.87G [00:27<00:39, 25.9MiB/s]\u001b[A\n",
            " 67%|████████████████████████▉            | 1.94G/2.87G [00:27<00:26, 38.6MiB/s]\u001b[A\n",
            " 68%|█████████████████████████            | 1.95G/2.87G [00:27<00:22, 44.3MiB/s]\u001b[A\n",
            " 68%|█████████████████████████▏           | 1.96G/2.87G [00:27<00:16, 60.8MiB/s]\u001b[A\n",
            " 69%|█████████████████████████▍           | 1.97G/2.87G [00:27<00:13, 72.8MiB/s]\u001b[A\n",
            " 69%|█████████████████████████▌           | 1.99G/2.87G [00:27<00:11, 84.1MiB/s]\u001b[A\n",
            " 70%|██████████████████████████▍           | 2.00G/2.87G [00:27<00:09, 100MiB/s]\u001b[A\n",
            " 70%|██████████████████████████▌           | 2.01G/2.87G [00:27<00:08, 106MiB/s]\u001b[A\n",
            " 70%|██████████████████████████▊           | 2.02G/2.87G [00:27<00:08, 107MiB/s]\u001b[A\n",
            " 71%|██████████████████████████▉           | 2.04G/2.87G [00:28<00:07, 115MiB/s]\u001b[A\n",
            " 71%|███████████████████████████           | 2.05G/2.87G [00:28<00:08, 104MiB/s]\u001b[A\n",
            " 72%|███████████████████████████▏          | 2.06G/2.87G [00:28<00:07, 112MiB/s]\u001b[A\n",
            " 72%|███████████████████████████▍          | 2.07G/2.87G [00:28<00:08, 108MiB/s]\u001b[A\n",
            " 73%|███████████████████████████▌          | 2.09G/2.87G [00:28<00:07, 114MiB/s]\u001b[A\n",
            " 73%|███████████████████████████▋          | 2.10G/2.87G [00:28<00:07, 111MiB/s]\u001b[A\n",
            " 73%|███████████████████████████▉          | 2.11G/2.87G [00:28<00:06, 119MiB/s]\u001b[A\n",
            " 74%|████████████████████████████          | 2.12G/2.87G [00:28<00:06, 121MiB/s]\u001b[A\n",
            " 74%|███████████████████████████▍         | 2.13G/2.87G [00:30<00:36, 21.7MiB/s]\u001b[A\n",
            " 75%|███████████████████████████▌         | 2.14G/2.87G [00:30<00:28, 27.3MiB/s]\u001b[A\n",
            " 75%|███████████████████████████▋         | 2.15G/2.87G [00:30<00:23, 32.6MiB/s]\u001b[A\n",
            " 75%|███████████████████████████▊         | 2.16G/2.87G [00:30<00:17, 44.6MiB/s]\u001b[A\n",
            " 76%|███████████████████████████▉         | 2.18G/2.87G [00:31<00:13, 55.0MiB/s]\u001b[A\n",
            " 76%|████████████████████████████▏        | 2.19G/2.87G [00:31<00:10, 68.2MiB/s]\u001b[A\n",
            " 76%|████████████████████████████▎        | 2.20G/2.87G [00:31<00:09, 76.5MiB/s]\u001b[A\n",
            " 77%|████████████████████████████▍        | 2.21G/2.87G [00:31<00:07, 89.9MiB/s]\u001b[A\n",
            " 77%|████████████████████████████▌        | 2.22G/2.87G [00:31<00:07, 88.0MiB/s]\u001b[A\n",
            " 78%|████████████████████████████▊        | 2.23G/2.87G [00:31<00:07, 95.1MiB/s]\u001b[A\n",
            " 78%|████████████████████████████▉        | 2.25G/2.87G [00:31<00:07, 96.3MiB/s]\u001b[A\n",
            " 79%|█████████████████████████████▊        | 2.26G/2.87G [00:31<00:06, 108MiB/s]\u001b[A\n",
            " 79%|██████████████████████████████        | 2.27G/2.87G [00:31<00:05, 114MiB/s]\u001b[A\n",
            " 79%|█████████████████████████████▎       | 2.28G/2.87G [00:32<00:06, 98.5MiB/s]\u001b[A\n",
            " 80%|██████████████████████████████▎       | 2.29G/2.87G [00:32<00:05, 108MiB/s]\u001b[A\n",
            " 80%|██████████████████████████████▍       | 2.31G/2.87G [00:32<00:05, 112MiB/s]\u001b[A\n",
            " 81%|██████████████████████████████▋       | 2.32G/2.87G [00:32<00:04, 123MiB/s]\u001b[A\n",
            " 81%|██████████████████████████████▊       | 2.33G/2.87G [00:32<00:05, 115MiB/s]\u001b[A\n",
            " 82%|██████████████████████████████▉       | 2.34G/2.87G [00:32<00:04, 117MiB/s]\u001b[A\n",
            " 82%|███████████████████████████████▏      | 2.36G/2.87G [00:32<00:04, 113MiB/s]\u001b[A\n",
            " 82%|███████████████████████████████▎      | 2.37G/2.87G [00:32<00:04, 119MiB/s]\u001b[A\n",
            " 83%|███████████████████████████████▍      | 2.38G/2.87G [00:32<00:04, 124MiB/s]\u001b[A\n",
            " 83%|███████████████████████████████▌      | 2.39G/2.87G [00:33<00:04, 123MiB/s]\u001b[A\n",
            " 84%|███████████████████████████████▊      | 2.40G/2.87G [00:33<00:04, 124MiB/s]\u001b[A\n",
            " 84%|███████████████████████████████▉      | 2.42G/2.87G [00:33<00:04, 120MiB/s]\u001b[A\n",
            " 84%|████████████████████████████████      | 2.43G/2.87G [00:33<00:03, 124MiB/s]\u001b[A\n",
            " 85%|████████████████████████████████▎     | 2.44G/2.87G [00:33<00:03, 121MiB/s]\u001b[A\n",
            " 85%|████████████████████████████████▍     | 2.45G/2.87G [00:33<00:03, 125MiB/s]\u001b[A\n",
            " 86%|████████████████████████████████▌     | 2.46G/2.87G [00:33<00:04, 110MiB/s]\u001b[A\n",
            " 86%|████████████████████████████████▋     | 2.48G/2.87G [00:33<00:03, 116MiB/s]\u001b[A\n",
            " 87%|████████████████████████████████▉     | 2.49G/2.87G [00:33<00:03, 113MiB/s]\u001b[A\n",
            " 87%|████████████████████████████████▏    | 2.50G/2.87G [00:36<00:31, 12.7MiB/s]\u001b[A\n",
            " 87%|████████████████████████████████▎    | 2.51G/2.87G [00:36<00:21, 18.3MiB/s]\u001b[A\n",
            " 88%|████████████████████████████████▍    | 2.52G/2.87G [00:37<00:15, 24.4MiB/s]\u001b[A\n",
            " 88%|████████████████████████████████▋    | 2.54G/2.87G [00:37<00:11, 32.7MiB/s]\u001b[A\n",
            " 89%|████████████████████████████████▊    | 2.55G/2.87G [00:37<00:08, 41.2MiB/s]\u001b[A\n",
            " 89%|████████████████████████████████▉    | 2.56G/2.87G [00:37<00:07, 48.2MiB/s]\u001b[A\n",
            " 89%|█████████████████████████████████    | 2.57G/2.87G [00:37<00:05, 59.0MiB/s]\u001b[A\n",
            " 90%|█████████████████████████████████▏   | 2.58G/2.87G [00:37<00:04, 71.8MiB/s]\u001b[A\n",
            " 90%|█████████████████████████████████▍   | 2.60G/2.87G [00:37<00:03, 84.3MiB/s]\u001b[A\n",
            " 91%|█████████████████████████████████▌   | 2.61G/2.87G [00:37<00:02, 98.5MiB/s]\u001b[A\n",
            " 91%|██████████████████████████████████▋   | 2.62G/2.87G [00:37<00:02, 104MiB/s]\u001b[A\n",
            " 92%|██████████████████████████████████▊   | 2.63G/2.87G [00:38<00:02, 107MiB/s]\u001b[A\n",
            " 92%|██████████████████████████████████▉   | 2.65G/2.87G [00:38<00:02, 110MiB/s]\u001b[A\n",
            " 92%|███████████████████████████████████   | 2.66G/2.87G [00:38<00:02, 114MiB/s]\u001b[A\n",
            " 93%|███████████████████████████████████▎  | 2.67G/2.87G [00:38<00:01, 120MiB/s]\u001b[A\n",
            " 93%|███████████████████████████████████▍  | 2.68G/2.87G [00:38<00:01, 116MiB/s]\u001b[A\n",
            " 94%|███████████████████████████████████▋  | 2.70G/2.87G [00:38<00:01, 126MiB/s]\u001b[A\n",
            " 94%|███████████████████████████████████▊  | 2.71G/2.87G [00:38<00:01, 127MiB/s]\u001b[A\n",
            " 95%|███████████████████████████████████▉  | 2.72G/2.87G [00:38<00:01, 126MiB/s]\u001b[A\n",
            " 95%|███████████████████████████████████▏ | 2.73G/2.87G [00:38<00:01, 97.2MiB/s]\u001b[A\n",
            " 95%|████████████████████████████████████▎ | 2.74G/2.87G [00:39<00:01, 101MiB/s]\u001b[A\n",
            " 96%|████████████████████████████████████▍ | 2.75G/2.87G [00:39<00:01, 107MiB/s]\u001b[A\n",
            " 96%|████████████████████████████████████▌ | 2.77G/2.87G [00:39<00:01, 113MiB/s]\u001b[A\n",
            " 97%|████████████████████████████████████▋ | 2.78G/2.87G [00:39<00:00, 121MiB/s]\u001b[A\n",
            " 97%|███████████████████████████████████▉ | 2.79G/2.87G [00:39<00:01, 89.6MiB/s]\u001b[A\n",
            " 97%|████████████████████████████████████ | 2.80G/2.87G [00:40<00:02, 31.3MiB/s]\u001b[A\n",
            " 98%|████████████████████████████████████▏| 2.81G/2.87G [00:40<00:01, 38.9MiB/s]\u001b[A\n",
            " 98%|████████████████████████████████████▎| 2.82G/2.87G [00:40<00:01, 47.4MiB/s]\u001b[A\n",
            " 99%|████████████████████████████████████▍| 2.83G/2.87G [00:40<00:00, 60.6MiB/s]\u001b[A\n",
            " 99%|████████████████████████████████████▌| 2.84G/2.87G [00:41<00:00, 64.3MiB/s]\u001b[A\n",
            " 99%|████████████████████████████████████▋| 2.85G/2.87G [00:41<00:00, 74.0MiB/s]\u001b[A\n",
            "100%|█████████████████████████████████████| 2.87G/2.87G [00:41<00:00, 74.8MiB/s]\n",
            "\n",
            "  0%|          | 0/3197 [00:00<?, ?frames/s]\u001b[A\n",
            " 89%|████████▉ | 2840/3197 [00:14<00:01, 193.13frames/s]\u001b[A\n",
            "100%|██████████| 3197/3197 [00:17<00:00, 185.68frames/s]\n"
          ]
        }
      ]
    },
    {
      "cell_type": "code",
      "source": [
        "ABBREVIATIONS = {\n",
        "    \"Mr.\": \"Mister\",\n",
        "    \"Mrs.\": \"Misses\",\n",
        "    \"No.\": \"Number\",\n",
        "    \"Dr.\": \"Doctor\",\n",
        "    \"Ms.\": \"Miss\",\n",
        "    \"Ave.\": \"Avenue\",\n",
        "    \"Blvd.\": \"Boulevard\",\n",
        "    \"Ln.\": \"Lane\",\n",
        "    \"Rd.\": \"Road\",\n",
        "    \"a.m.\": \"before noon\",\n",
        "    \"p.m.\": \"after noon\",\n",
        "    \"ft.\": \"feet\",\n",
        "    \"hr.\": \"hour\",\n",
        "    \"min.\": \"minute\",\n",
        "    \"sq.\": \"square\",\n",
        "    \"St.\": \"street\",\n",
        "    \"Asst.\": \"assistant\",\n",
        "    \"Corp.\": \"corporation\"\n",
        "}\n"
      ],
      "metadata": {
        "id": "IiVl-KULfy7m"
      },
      "execution_count": null,
      "outputs": []
    },
    {
      "cell_type": "code",
      "source": [
        "ISWORD = re.compile(r'.*\\w.*')"
      ],
      "metadata": {
        "id": "llGZr7HokJlL"
      },
      "execution_count": null,
      "outputs": []
    },
    {
      "cell_type": "code",
      "source": [
        "audio_file = '/content/com.wav'"
      ],
      "metadata": {
        "id": "HNsEiNTrkiSm"
      },
      "execution_count": null,
      "outputs": []
    },
    {
      "cell_type": "code",
      "source": [
        "source_language = str(input())"
      ],
      "metadata": {
        "id": "N5roWZf1k89b",
        "colab": {
          "base_uri": "https://localhost:8080/"
        },
        "outputId": "aaf4ac95-80c8-44fb-e300-957992c2036d"
      },
      "execution_count": null,
      "outputs": [
        {
          "name": "stdout",
          "output_type": "stream",
          "text": [
            "english\n"
          ]
        }
      ]
    },
    {
      "cell_type": "code",
      "source": [
        "temp_files = []\n",
        "ducked_audio = AudioSegment.from_wav(audio_file)\n",
        "spacy.cli.download(spacy_models[source_language])\n"
      ],
      "metadata": {
        "colab": {
          "base_uri": "https://localhost:8080/"
        },
        "id": "D8u_5avFlk3I",
        "outputId": "83e67274-a1c9-4927-c45a-627075e67318"
      },
      "execution_count": null,
      "outputs": [
        {
          "output_type": "stream",
          "name": "stdout",
          "text": [
            "\u001b[38;5;2m✔ Download and installation successful\u001b[0m\n",
            "You can now load the package via spacy.load('en_core_web_sm')\n"
          ]
        }
      ]
    },
    {
      "cell_type": "code",
      "source": [
        "nlp = spacy.load(spacy_models[source_language])"
      ],
      "metadata": {
        "id": "BTyxZbwIlnhL"
      },
      "execution_count": null,
      "outputs": []
    },
    {
      "cell_type": "code",
      "source": [
        "nlp.add_pipe(\"syllables\", after=\"tagger\")\n",
        "merged_audio = AudioSegment.silent(duration=0)\n",
        "sentences = []\n",
        "sentence_starts = []\n",
        "sentence_ends = []\n",
        "sentence = \"\"\n",
        "sent_start = 0\n",
        "print(\"Composing sentences\")\n",
        "for segment in tqdm(transcription[\"segments\"]):\n",
        "    if segment[\"text\"].isupper():\n",
        "        continue\n",
        "    for i, word in enumerate(segment[\"words\"]):\n",
        "        if not ISWORD.search(word[\"word\"]):\n",
        "            continue\n",
        "        word[\"word\"] = ABBREVIATIONS.get(word[\"word\"].strip(), word[\"word\"])\n",
        "        if word[\"word\"].startswith(\"-\"):\n",
        "            sentence = sentence[:-1] + word[\"word\"] + \" \"\n",
        "        else:\n",
        "            sentence += word[\"word\"] + \" \"\n",
        "        # this is a trick to compensate the absense of VAD in Whisper\n",
        "        word_syllables = sum(token._.syllables_count for token in nlp(word[\"word\"]) if token._.syllables_count)\n",
        "        segment_syllables = sum(token._.syllables_count for token in nlp(segment[\"text\"]) if token._.syllables_count)\n",
        "        if i == 0 or sent_start == 0:\n",
        "            word_speed = word_syllables / (word[\"end\"] - word[\"start\"])\n",
        "            if word_speed < 3:\n",
        "                sent_start = word[\"end\"] - word_syllables / 3\n",
        "            else:\n",
        "                sent_start = word[\"start\"]\n",
        "        if i == len(segment[\"words\"]) - 1:  # last word in segment\n",
        "            word_speed = word_syllables / (word[\"end\"] - word[\"start\"])\n",
        "            segment_speed = segment_syllables / (segment[\"end\"] - segment[\"start\"])\n",
        "            if word_speed < 1.0 or segment_speed < 2.0:\n",
        "                word[\"word\"] += \".\"\n",
        "\n",
        "        if word[\"word\"].endswith(\".\"):\n",
        "            sentences.append(sentence)\n",
        "            sentence_starts.append(sent_start)\n",
        "            sentence_ends.append(word[\"end\"])\n",
        "            sent_start = 0\n",
        "            sentence = \"\""
      ],
      "metadata": {
        "colab": {
          "base_uri": "https://localhost:8080/"
        },
        "id": "0n6EvV6VkUJN",
        "outputId": "ab78215d-7461-45fe-f40a-16a41f96b683"
      },
      "execution_count": null,
      "outputs": [
        {
          "output_type": "stream",
          "name": "stdout",
          "text": [
            "Composing sentences\n"
          ]
        },
        {
          "output_type": "stream",
          "name": "stderr",
          "text": [
            "\n",
            "  0%|          | 0/9 [00:00<?, ?it/s]\u001b[A\n",
            " 11%|█         | 1/9 [00:00<00:01,  4.06it/s]\u001b[A\n",
            " 33%|███▎      | 3/9 [00:00<00:00,  7.04it/s]\u001b[A\n",
            " 44%|████▍     | 4/9 [00:00<00:00,  7.66it/s]\u001b[A\n",
            " 67%|██████▋   | 6/9 [00:00<00:00,  7.77it/s]\u001b[A\n",
            " 78%|███████▊  | 7/9 [00:01<00:00,  6.63it/s]\u001b[A\n",
            " 89%|████████▉ | 8/9 [00:01<00:00,  5.95it/s]\u001b[A\n",
            "100%|██████████| 9/9 [00:01<00:00,  6.37it/s]\n"
          ]
        }
      ]
    },
    {
      "cell_type": "code",
      "source": [
        "target_language = str(input())"
      ],
      "metadata": {
        "colab": {
          "base_uri": "https://localhost:8080/"
        },
        "id": "h8jC1J4Cod_j",
        "outputId": "e9fd34e1-aa9b-4f19-a531-797cd3bc7ac5"
      },
      "execution_count": null,
      "outputs": [
        {
          "name": "stdout",
          "output_type": "stream",
          "text": [
            "german\n"
          ]
        }
      ]
    },
    {
      "cell_type": "code",
      "source": [
        "from googletrans import Translator"
      ],
      "metadata": {
        "id": "tjZ6EQqDZ8jL"
      },
      "execution_count": null,
      "outputs": []
    },
    {
      "cell_type": "code",
      "source": [
        "translator = Translator()"
      ],
      "metadata": {
        "id": "qZUC06_3a7g_"
      },
      "execution_count": null,
      "outputs": []
    },
    {
      "cell_type": "code",
      "source": [
        "print(transcription)"
      ],
      "metadata": {
        "colab": {
          "base_uri": "https://localhost:8080/"
        },
        "id": "jn_NFHpeT8Wd",
        "outputId": "dfeda033-9253-4ba0-a4fb-0242e913df3e"
      },
      "execution_count": null,
      "outputs": [
        {
          "output_type": "stream",
          "name": "stdout",
          "text": [
            "{'text': \" Did you ever notice that the toppers in school and college are not necessarily the ones who are successful in life. But there is this one category of students that are successful and surprisingly they did not score the highest marks in school. They are the ones who can communicate effectively. They are the ones who can confidently convince people of their ideas. They are the ones who can comfortably express what they want to express. And it's unfortunate that school and college never taught us that. Which is why I've come up with this course for you.\", 'segments': [{'id': 0, 'seek': 0, 'start': 0.0, 'end': 5.58, 'text': ' Did you ever notice that the toppers in school and college are not necessarily the ones who', 'tokens': [50364, 2589, 291, 1562, 3449, 300, 264, 281, 15226, 294, 1395, 293, 3859, 366, 406, 4725, 264, 2306, 567, 50654], 'temperature': 0.0, 'avg_logprob': -0.31147853885076743, 'compression_ratio': 1.945945945945946, 'no_speech_prob': 0.013777934946119785, 'words': [{'word': ' Did', 'start': 0.0, 'end': 0.44, 'probability': 0.8045526742935181}, {'word': ' you', 'start': 0.44, 'end': 0.54, 'probability': 0.8951926827430725}, {'word': ' ever', 'start': 0.54, 'end': 0.74, 'probability': 0.7978321313858032}, {'word': ' notice', 'start': 0.74, 'end': 1.06, 'probability': 0.8281787633895874}, {'word': ' that', 'start': 1.06, 'end': 1.42, 'probability': 0.8777157664299011}, {'word': ' the', 'start': 1.42, 'end': 2.02, 'probability': 0.7688260078430176}, {'word': ' toppers', 'start': 2.02, 'end': 2.54, 'probability': 0.791419506072998}, {'word': ' in', 'start': 2.54, 'end': 2.78, 'probability': 0.8976987600326538}, {'word': ' school', 'start': 2.78, 'end': 2.98, 'probability': 0.8961896896362305}, {'word': ' and', 'start': 2.98, 'end': 3.16, 'probability': 0.8565660119056702}, {'word': ' college', 'start': 3.16, 'end': 3.54, 'probability': 0.6746811270713806}, {'word': ' are', 'start': 3.54, 'end': 4.02, 'probability': 0.85560142993927}, {'word': ' not', 'start': 4.02, 'end': 4.24, 'probability': 0.8957144021987915}, {'word': ' necessarily', 'start': 4.24, 'end': 4.7, 'probability': 0.7868198156356812}, {'word': ' the', 'start': 4.7, 'end': 4.94, 'probability': 0.816808819770813}, {'word': ' ones', 'start': 4.94, 'end': 5.22, 'probability': 0.8166123628616333}, {'word': ' who', 'start': 5.22, 'end': 5.58, 'probability': 0.8161379098892212}]}, {'id': 1, 'seek': 0, 'start': 5.58, 'end': 6.9, 'text': ' are successful in life.', 'tokens': [50654, 366, 4406, 294, 993, 13, 50744], 'temperature': 0.0, 'avg_logprob': -0.31147853885076743, 'compression_ratio': 1.945945945945946, 'no_speech_prob': 0.013777934946119785, 'words': [{'word': ' are', 'start': 5.58, 'end': 6.0, 'probability': 0.8927847146987915}, {'word': ' successful', 'start': 6.0, 'end': 6.42, 'probability': 0.7810932993888855}, {'word': ' in', 'start': 6.42, 'end': 6.64, 'probability': 0.903786838054657}, {'word': ' life.', 'start': 6.64, 'end': 6.9, 'probability': 0.8187394738197327}]}, {'id': 2, 'seek': 0, 'start': 7.24, 'end': 11.56, 'text': ' But there is this one category of students that are successful and surprisingly they', 'tokens': [50744, 583, 456, 307, 341, 472, 7719, 295, 1731, 300, 366, 4406, 293, 17600, 436, 50962], 'temperature': 0.0, 'avg_logprob': -0.31147853885076743, 'compression_ratio': 1.945945945945946, 'no_speech_prob': 0.013777934946119785, 'words': [{'word': ' But', 'start': 7.24, 'end': 7.62, 'probability': 0.8867412805557251}, {'word': ' there', 'start': 7.62, 'end': 7.76, 'probability': 0.826858401298523}, {'word': ' is', 'start': 7.76, 'end': 7.88, 'probability': 0.901711642742157}, {'word': ' this', 'start': 7.88, 'end': 8.04, 'probability': 0.8208339810371399}, {'word': ' one', 'start': 8.04, 'end': 8.26, 'probability': 0.8188961148262024}, {'word': ' category', 'start': 8.26, 'end': 8.64, 'probability': 0.83503258228302}, {'word': ' of', 'start': 8.64, 'end': 8.82, 'probability': 0.9094305038452148}, {'word': ' students', 'start': 8.82, 'end': 9.14, 'probability': 0.9021367430686951}, {'word': ' that', 'start': 9.14, 'end': 9.46, 'probability': 0.8852776885032654}, {'word': ' are', 'start': 9.46, 'end': 9.8, 'probability': 0.8954996466636658}, {'word': ' successful', 'start': 9.8, 'end': 10.32, 'probability': 0.7757366895675659}, {'word': ' and', 'start': 10.32, 'end': 10.66, 'probability': 0.35272231698036194}, {'word': ' surprisingly', 'start': 10.66, 'end': 11.08, 'probability': 0.7293233871459961}, {'word': ' they', 'start': 11.08, 'end': 11.56, 'probability': 0.29058364033699036}]}, {'id': 3, 'seek': 0, 'start': 11.56, 'end': 14.0, 'text': ' did not score the highest marks in school.', 'tokens': [50962, 630, 406, 6175, 264, 6343, 10640, 294, 1395, 13, 51072], 'temperature': 0.0, 'avg_logprob': -0.31147853885076743, 'compression_ratio': 1.945945945945946, 'no_speech_prob': 0.013777934946119785, 'words': [{'word': ' did', 'start': 11.56, 'end': 12.2, 'probability': 0.8789184093475342}, {'word': ' not', 'start': 12.2, 'end': 12.44, 'probability': 0.9050724506378174}, {'word': ' score', 'start': 12.44, 'end': 12.76, 'probability': 0.779485285282135}, {'word': ' the', 'start': 12.76, 'end': 12.96, 'probability': 0.8178526163101196}, {'word': ' highest', 'start': 12.96, 'end': 13.22, 'probability': 0.8649027347564697}, {'word': ' marks', 'start': 13.22, 'end': 13.56, 'probability': 0.7388936877250671}, {'word': ' in', 'start': 13.56, 'end': 13.74, 'probability': 0.9013727307319641}, {'word': ' school.', 'start': 13.74, 'end': 14.0, 'probability': 0.9116711616516113}]}, {'id': 4, 'seek': 0, 'start': 14.62, 'end': 17.34, 'text': ' They are the ones who can communicate effectively.', 'tokens': [51072, 814, 366, 264, 2306, 567, 393, 7890, 8659, 13, 51264], 'temperature': 0.0, 'avg_logprob': -0.31147853885076743, 'compression_ratio': 1.945945945945946, 'no_speech_prob': 0.013777934946119785, 'words': [{'word': ' They', 'start': 14.62, 'end': 14.7, 'probability': 0.7302187085151672}, {'word': ' are', 'start': 14.7, 'end': 14.82, 'probability': 0.736680805683136}, {'word': ' the', 'start': 14.82, 'end': 14.94, 'probability': 0.82030189037323}, {'word': ' ones', 'start': 14.94, 'end': 15.24, 'probability': 0.8348472714424133}, {'word': ' who', 'start': 15.24, 'end': 15.52, 'probability': 0.8126317858695984}, {'word': ' can', 'start': 15.52, 'end': 15.72, 'probability': 0.887161910533905}, {'word': ' communicate', 'start': 15.72, 'end': 16.34, 'probability': 0.6947129964828491}, {'word': ' effectively.', 'start': 16.34, 'end': 17.34, 'probability': 0.7949225902557373}]}, {'id': 5, 'seek': 0, 'start': 17.82, 'end': 21.16, 'text': ' They are the ones who can confidently convince people of their ideas.', 'tokens': [51264, 814, 366, 264, 2306, 567, 393, 41956, 13447, 561, 295, 641, 3487, 13, 51430], 'temperature': 0.0, 'avg_logprob': -0.31147853885076743, 'compression_ratio': 1.945945945945946, 'no_speech_prob': 0.013777934946119785, 'words': [{'word': ' They', 'start': 17.82, 'end': 18.0, 'probability': 0.7362106442451477}, {'word': ' are', 'start': 18.0, 'end': 18.1, 'probability': 0.6310610175132751}, {'word': ' the', 'start': 18.1, 'end': 18.2, 'probability': 0.8183531761169434}, {'word': ' ones', 'start': 18.2, 'end': 18.4, 'probability': 0.8337653279304504}, {'word': ' who', 'start': 18.4, 'end': 18.66, 'probability': 0.806164026260376}, {'word': ' can', 'start': 18.66, 'end': 18.86, 'probability': 0.8942734003067017}, {'word': ' confidently', 'start': 18.86, 'end': 19.46, 'probability': 0.8677096962928772}, {'word': ' convince', 'start': 19.46, 'end': 19.96, 'probability': 0.9058756828308105}, {'word': ' people', 'start': 19.96, 'end': 20.36, 'probability': 0.9206923842430115}, {'word': ' of', 'start': 20.36, 'end': 20.64, 'probability': 0.9037629961967468}, {'word': ' their', 'start': 20.64, 'end': 20.8, 'probability': 0.8908318281173706}, {'word': ' ideas.', 'start': 20.8, 'end': 21.16, 'probability': 0.7835052013397217}]}, {'id': 6, 'seek': 0, 'start': 21.3, 'end': 24.52, 'text': ' They are the ones who can comfortably express what they want to express.', 'tokens': [51430, 814, 366, 264, 2306, 567, 393, 25101, 5109, 437, 436, 528, 281, 5109, 13, 51620], 'temperature': 0.0, 'avg_logprob': -0.31147853885076743, 'compression_ratio': 1.945945945945946, 'no_speech_prob': 0.013777934946119785, 'words': [{'word': ' They', 'start': 21.3, 'end': 21.36, 'probability': 0.7410933971405029}, {'word': ' are', 'start': 21.36, 'end': 21.46, 'probability': 0.8030915856361389}, {'word': ' the', 'start': 21.46, 'end': 21.56, 'probability': 0.8202239871025085}, {'word': ' ones', 'start': 21.56, 'end': 21.76, 'probability': 0.8341509103775024}, {'word': ' who', 'start': 21.76, 'end': 21.86, 'probability': 0.8155120611190796}, {'word': ' can', 'start': 21.86, 'end': 22.02, 'probability': 0.8989914655685425}, {'word': ' comfortably', 'start': 22.02, 'end': 22.56, 'probability': 0.8873403668403625}, {'word': ' express', 'start': 22.56, 'end': 23.16, 'probability': 0.7639250159263611}, {'word': ' what', 'start': 23.16, 'end': 23.46, 'probability': 0.8854178190231323}, {'word': ' they', 'start': 23.46, 'end': 23.68, 'probability': 0.735701858997345}, {'word': ' want', 'start': 23.68, 'end': 23.88, 'probability': 0.8125350475311279}, {'word': ' to', 'start': 23.88, 'end': 24.02, 'probability': 0.9093143939971924}, {'word': ' express.', 'start': 24.02, 'end': 24.52, 'probability': 0.7850731015205383}]}, {'id': 7, 'seek': 0, 'start': 24.94, 'end': 28.4, 'text': \" And it's unfortunate that school and college never taught us that.\", 'tokens': [51620, 400, 309, 311, 17843, 300, 1395, 293, 3859, 1128, 5928, 505, 300, 13, 51830], 'temperature': 0.0, 'avg_logprob': -0.31147853885076743, 'compression_ratio': 1.945945945945946, 'no_speech_prob': 0.013777934946119785, 'words': [{'word': ' And', 'start': 24.94, 'end': 25.14, 'probability': 0.8977303504943848}, {'word': \" it's\", 'start': 25.14, 'end': 25.3, 'probability': 0.9448132514953613}, {'word': ' unfortunate', 'start': 25.3, 'end': 25.7, 'probability': 0.7894325852394104}, {'word': ' that', 'start': 25.7, 'end': 25.98, 'probability': 0.8871529698371887}, {'word': ' school', 'start': 25.98, 'end': 26.24, 'probability': 0.9034157991409302}, {'word': ' and', 'start': 26.24, 'end': 26.42, 'probability': 0.8886883854866028}, {'word': ' college', 'start': 26.42, 'end': 26.72, 'probability': 0.6815297603607178}, {'word': ' never', 'start': 26.72, 'end': 27.44, 'probability': 0.8458387851715088}, {'word': ' taught', 'start': 27.44, 'end': 27.82, 'probability': 0.8513379096984863}, {'word': ' us', 'start': 27.82, 'end': 28.08, 'probability': 0.9005473852157593}, {'word': ' that.', 'start': 28.08, 'end': 28.4, 'probability': 0.8789295554161072}]}, {'id': 8, 'seek': 2840, 'start': 28.86, 'end': 31.94, 'text': \" Which is why I've come up with this course for you.\", 'tokens': [50408, 3013, 307, 983, 286, 600, 808, 493, 365, 341, 1164, 337, 291, 13, 50540], 'temperature': 0.0, 'avg_logprob': -0.38708406686782837, 'compression_ratio': 0.8793103448275862, 'no_speech_prob': 0.03102424368262291, 'words': [{'word': ' Which', 'start': 28.86, 'end': 29.38, 'probability': 0.36045506596565247}, {'word': ' is', 'start': 29.38, 'end': 29.52, 'probability': 0.9013693928718567}, {'word': ' why', 'start': 29.52, 'end': 29.8, 'probability': 0.8267307877540588}, {'word': \" I've\", 'start': 29.8, 'end': 30.2, 'probability': 0.8525050282478333}, {'word': ' come', 'start': 30.2, 'end': 30.34, 'probability': 0.7937840223312378}, {'word': ' up', 'start': 30.34, 'end': 30.52, 'probability': 0.9047673940658569}, {'word': ' with', 'start': 30.52, 'end': 30.68, 'probability': 0.8218567371368408}, {'word': ' this', 'start': 30.68, 'end': 30.94, 'probability': 0.8858597278594971}, {'word': ' course', 'start': 30.94, 'end': 31.28, 'probability': 0.8744149208068848}, {'word': ' for', 'start': 31.28, 'end': 31.88, 'probability': 0.7959626913070679}, {'word': ' you.', 'start': 31.88, 'end': 31.94, 'probability': 0.8950549364089966}]}], 'language': 'english'}\n"
          ]
        }
      ]
    },
    {
      "cell_type": "code",
      "source": [
        "def translate_text(text, target_language):\n",
        "    # Translate the text\n",
        "    translated = translator.translate(text, dest=target_language)\n",
        "\n",
        "    # Extract the translated text from the result\n",
        "    translated_text = translated.text\n",
        "\n",
        "    return translated_text"
      ],
      "metadata": {
        "id": "l3cZG_lOocSZ"
      },
      "execution_count": null,
      "outputs": []
    },
    {
      "cell_type": "code",
      "source": [
        "print(\"Translating sentences\")\n",
        "translated_texts = []\n",
        "for i in tqdm(range(0, len(sentences), 128)):\n",
        "    chunk = str(sentences[i:i + 128])\n",
        "    translated_chunk = translate_text(chunk, target_language)\n",
        "    translated_texts.append(translated_chunk)"
      ],
      "metadata": {
        "colab": {
          "base_uri": "https://localhost:8080/"
        },
        "id": "lTgrS9-ab_z9",
        "outputId": "8b85ff3d-a7b1-44ee-c75a-814c78c578ae"
      },
      "execution_count": null,
      "outputs": [
        {
          "output_type": "stream",
          "name": "stdout",
          "text": [
            "Translating sentences\n"
          ]
        },
        {
          "output_type": "stream",
          "name": "stderr",
          "text": [
            "\n",
            "  0%|          | 0/1 [00:00<?, ?it/s]\u001b[A\n",
            "100%|██████████| 1/1 [00:01<00:00,  1.15s/it]\n"
          ]
        }
      ]
    },
    {
      "cell_type": "code",
      "source": [
        "print(translated_texts[0])"
      ],
      "metadata": {
        "colab": {
          "base_uri": "https://localhost:8080/"
        },
        "id": "LciHy0JgT2cx",
        "outputId": "87073401-178d-42de-9478-25b05a9c6e27"
      },
      "execution_count": null,
      "outputs": [
        {
          "output_type": "stream",
          "name": "stdout",
          "text": [
            "['Haben Sie jemals bemerkt, dass die Topper in Schule und College nicht unbedingt diejenigen sind, die im Leben erfolgreich sind?\",\" Aber es gibt diese eine Kategorie von Schülern, die erfolgreich sind, und überraschenderweise haben sie nicht die höchsten Noten in der Schule erzielt.',' Sie sind diejenigen, die effektiv kommunizieren können.',' Sie sind diejenigen, die die Menschen zuversichtlich von ihren Ideen überzeugen können.',' Sie sind diejenigen, die bequem ausdrücken können, was sie ausdrücken wollen.', \"Und es ist bedauerlich, dass uns und das College das nie beigebracht haben.\", \"Deshalb habe ich diesen Kurs für Sie ausgedacht.\"]\n"
          ]
        }
      ]
    },
    {
      "cell_type": "code",
      "source": [
        "str(translated_texts[0])"
      ],
      "metadata": {
        "colab": {
          "base_uri": "https://localhost:8080/",
          "height": 139
        },
        "id": "aiEuzY3WChX1",
        "outputId": "f36314f9-ca5e-4aa5-823e-fb58d98ca509"
      },
      "execution_count": null,
      "outputs": [
        {
          "output_type": "execute_result",
          "data": {
            "text/plain": [
              "'[\\'Haben Sie jemals bemerkt, dass die Topper in Schule und College nicht unbedingt diejenigen sind, die im Leben erfolgreich sind?\",\" Aber es gibt diese eine Kategorie von Schülern, die erfolgreich sind, und überraschenderweise haben sie nicht die höchsten Noten in der Schule erzielt.\\',\\' Sie sind diejenigen, die effektiv kommunizieren können.\\',\\' Sie sind diejenigen, die die Menschen zuversichtlich von ihren Ideen überzeugen können.\\',\\' Sie sind diejenigen, die bequem ausdrücken können, was sie ausdrücken wollen.\\', \"Und es ist bedauerlich, dass uns und das College das nie beigebracht haben.\", \"Deshalb habe ich diesen Kurs für Sie ausgedacht.\"]'"
            ],
            "application/vnd.google.colaboratory.intrinsic+json": {
              "type": "string"
            }
          },
          "metadata": {},
          "execution_count": 27
        }
      ]
    },
    {
      "cell_type": "code",
      "source": [
        "for i, translated_text in enumerate(tqdm(translated_texts)):\n",
        "  print(translated_text)"
      ],
      "metadata": {
        "colab": {
          "base_uri": "https://localhost:8080/"
        },
        "id": "TQODJ0AHKX6Y",
        "outputId": "3a8665fe-8bf1-47b6-9b3d-bd3f12c69c65"
      },
      "execution_count": null,
      "outputs": [
        {
          "output_type": "stream",
          "name": "stderr",
          "text": [
            "\n",
            "100%|██████████| 1/1 [00:00<00:00, 8256.50it/s]"
          ]
        },
        {
          "output_type": "stream",
          "name": "stdout",
          "text": [
            "['Haben Sie jemals bemerkt, dass die Topper in Schule und College nicht unbedingt diejenigen sind, die im Leben erfolgreich sind?\",\" Aber es gibt diese eine Kategorie von Schülern, die erfolgreich sind, und überraschenderweise haben sie nicht die höchsten Noten in der Schule erzielt.',' Sie sind diejenigen, die effektiv kommunizieren können.',' Sie sind diejenigen, die die Menschen zuversichtlich von ihren Ideen überzeugen können.',' Sie sind diejenigen, die bequem ausdrücken können, was sie ausdrücken wollen.', \"Und es ist bedauerlich, dass uns und das College das nie beigebracht haben.\", \"Deshalb habe ich diesen Kurs für Sie ausgedacht.\"]\n"
          ]
        },
        {
          "output_type": "stream",
          "name": "stderr",
          "text": [
            "\n"
          ]
        }
      ]
    },
    {
      "cell_type": "code",
      "source": [
        "len(str(translated_text))/300"
      ],
      "metadata": {
        "colab": {
          "base_uri": "https://localhost:8080/"
        },
        "id": "uZHiaIeAQkVm",
        "outputId": "8a1aec29-3ecc-4c89-8692-6fee1d8595e4"
      },
      "execution_count": null,
      "outputs": [
        {
          "output_type": "execute_result",
          "data": {
            "text/plain": [
              "2.16"
            ]
          },
          "metadata": {},
          "execution_count": 29
        }
      ]
    },
    {
      "cell_type": "code",
      "source": [
        "bro = len(str(translated_text))"
      ],
      "metadata": {
        "id": "bBRLtLjHRoZ0"
      },
      "execution_count": null,
      "outputs": []
    },
    {
      "cell_type": "code",
      "source": [
        "bro"
      ],
      "metadata": {
        "colab": {
          "base_uri": "https://localhost:8080/"
        },
        "id": "Wg1D6uPRRr93",
        "outputId": "09e8befd-c5bb-4ca9-f1ea-55254fa8bce3"
      },
      "execution_count": null,
      "outputs": [
        {
          "output_type": "execute_result",
          "data": {
            "text/plain": [
              "648"
            ]
          },
          "metadata": {},
          "execution_count": 31
        }
      ]
    },
    {
      "cell_type": "code",
      "source": [
        "viz = bro"
      ],
      "metadata": {
        "id": "uadsxARTT-lB"
      },
      "execution_count": null,
      "outputs": []
    },
    {
      "cell_type": "code",
      "source": [
        "viz"
      ],
      "metadata": {
        "colab": {
          "base_uri": "https://localhost:8080/"
        },
        "id": "Kf1xHQCwT_ss",
        "outputId": "cd19bee5-bd89-4fe6-8c5e-d578d94b5c0c"
      },
      "execution_count": null,
      "outputs": [
        {
          "output_type": "execute_result",
          "data": {
            "text/plain": [
              "648"
            ]
          },
          "metadata": {},
          "execution_count": 45
        }
      ]
    },
    {
      "cell_type": "code",
      "source": [
        "st =0\n",
        "while(viz>0):\n",
        "  for i in range(int(len(str(translated_text))/253)+1):\n",
        "    if st+253<=len(str(translated_text)):\n",
        "      tts.tts_to_file(text=translated_text[st:st+253],\n",
        "                  file_path= f\"/content/one/{i}.wav\",\n",
        "                  speaker_wav=[\"/content/com.wav\"],\n",
        "                  language=\"de\",\n",
        "                  split_sentences=True\n",
        "                  )\n",
        "    else:\n",
        "      tts.tts_to_file(text=translated_text[st:len(str(translated_text))-2],\n",
        "                  file_path= f\"/content/one/{i}.wav\",\n",
        "                  speaker_wav=[\"/content/com.wav\"],\n",
        "                  language=\"de\",\n",
        "                  split_sentences=True\n",
        "                  )\n",
        "    viz = viz -253\n",
        "    st = st+253"
      ],
      "metadata": {
        "colab": {
          "base_uri": "https://localhost:8080/"
        },
        "id": "VQmqrQ3NvZkL",
        "outputId": "c75d0429-26bd-42fa-cd16-17b69c089b97"
      },
      "execution_count": null,
      "outputs": [
        {
          "output_type": "stream",
          "name": "stdout",
          "text": [
            " > Text splitted to sentences.\n",
            "['[\\'Haben Sie jemals bemerkt, dass die Topper in Schule und College nicht unbedingt diejenigen sind, die im Leben erfolgreich sind?\",\" Aber es gibt diese eine Kategorie von Schülern, die erfolgreich sind, und überraschenderweise haben sie nicht die höchst']\n",
            " > Processing time: 7.689995288848877\n",
            " > Real-time factor: 0.5302864527117768\n",
            " > Text splitted to sentences.\n",
            "['en Noten in der Schule erzielt.', \"',' Sie sind diejenigen, die effektiv kommunizieren können.\", \"',' Sie sind diejenigen, die die Menschen zuversichtlich von ihren Ideen überzeugen können.\", \"',' Sie sind diejenigen, die bequem ausdrücken können, was sie ausdrücke\"]\n",
            " > Processing time: 18.149315357208252\n",
            " > Real-time factor: 0.7249862384536992\n",
            " > Text splitted to sentences.\n",
            "['n wollen.', '\\', \"Und es ist bedauerlich, dass uns und das College das nie beigebracht haben.\", \"Deshalb habe ich diesen Kurs für Sie ausgedacht.']\n",
            " > Processing time: 8.624541997909546\n",
            " > Real-time factor: 0.5635702674665288\n"
          ]
        }
      ]
    },
    {
      "cell_type": "code",
      "source": [
        "import wave"
      ],
      "metadata": {
        "id": "H-IL_zwzvm-7"
      },
      "execution_count": null,
      "outputs": []
    },
    {
      "cell_type": "code",
      "source": [
        "infiles = os.listdir('/content/one')\n",
        "infiles.sort()\n",
        "print(infiles)"
      ],
      "metadata": {
        "colab": {
          "base_uri": "https://localhost:8080/"
        },
        "id": "H9JgdtHAvrof",
        "outputId": "1c7e72f4-9b26-4dea-efa1-10bb819225a1"
      },
      "execution_count": null,
      "outputs": [
        {
          "output_type": "stream",
          "name": "stdout",
          "text": [
            "['.ipynb_checkpoints', '0.wav', '1.wav', '2.wav']\n"
          ]
        }
      ]
    },
    {
      "cell_type": "code",
      "source": [
        "import soundfile as sf\n",
        "import numpy as np\n",
        "\n",
        "def merge_sound_files(file1, file2, file3, output_file):\n",
        "    data1, samplerate1 = sf.read(file1)\n",
        "    data2, samplerate2 = sf.read(file2)\n",
        "    data3, samplerate3 = sf.read(file3)\n",
        "\n",
        "    print(\"Shape of data1:\", data1.shape)\n",
        "    print(\"Shape of data2:\", data2.shape)\n",
        "    print(\"Shape of data3:\", data3.shape)\n",
        "\n",
        "    if samplerate1 != samplerate2 or samplerate1 != samplerate3:\n",
        "        raise ValueError(\"Sample rates of the input files must be the same\")\n",
        "\n",
        "    if len(data1.shape) != 1 or len(data2.shape) != 1 or len(data3.shape) != 1:\n",
        "        raise ValueError(\"Input files must be single-channel\")\n",
        "\n",
        "    merged_data = np.concatenate((data1, data2, data3), axis=0)\n",
        "\n",
        "    sf.write(output_file, merged_data, samplerate1)\n",
        "\n",
        "outfile = \"/content/com_translated.wav\"\n",
        "merge_sound_files(\"/content/one/0.wav\", \"/content/one/1.wav\", \"/content/one/2.wav\", outfile)\n"
      ],
      "metadata": {
        "id": "43Kz19PtvpFl",
        "colab": {
          "base_uri": "https://localhost:8080/"
        },
        "outputId": "89cbb2a0-e322-44e0-8c68-8f1373734688"
      },
      "execution_count": null,
      "outputs": [
        {
          "output_type": "stream",
          "name": "stdout",
          "text": [
            "Shape of data1: (319760,)\n",
            "Shape of data2: (552000,)\n",
            "Shape of data3: (337440,)\n"
          ]
        }
      ]
    },
    {
      "cell_type": "code",
      "source": [
        "import librosa\n",
        "import numpy as np\n",
        "from scipy.spatial.distance import cosine"
      ],
      "metadata": {
        "id": "VmTb1ZzfvumN"
      },
      "execution_count": null,
      "outputs": []
    },
    {
      "cell_type": "code",
      "source": [
        "def audio_feature_extraction(audio_path):\n",
        "    y, sr = librosa.load(audio_path)\n",
        "    mfccs = librosa.feature.mfcc(y=y, sr=sr)\n",
        "    pitches, magnitudes = librosa.piptrack(y=y, sr=sr)\n",
        "    pitch_avg = np.mean(pitches[pitches > 0])  # Average non-zero pitch values\n",
        "    mfccs_avg = np.mean(mfccs, axis=1)\n",
        "    return np.append(mfccs_avg, pitch_avg)\n",
        "\n",
        "def voice_similarity(audio_path1, audio_path2):\n",
        "    # Extract features\n",
        "    features1 = audio_feature_extraction(audio_path1)\n",
        "    features2 = audio_feature_extraction(audio_path2)\n",
        "\n",
        "    # Compute the cosine similarity\n",
        "    similarity = 1 - cosine(features1, features2)\n",
        "    return similarity\n",
        "\n",
        "# Example usage\n",
        "similarity = voice_similarity('/content/com_translated.wav','/content/com.wav')\n",
        "print(f\"The voice similarity between the audio files is: {similarity * 100:.2f}%\")"
      ],
      "metadata": {
        "colab": {
          "base_uri": "https://localhost:8080/"
        },
        "id": "IvU-pHYWvz9c",
        "outputId": "e99ef8a5-9084-427d-b9df-fba4d88b0905"
      },
      "execution_count": null,
      "outputs": [
        {
          "output_type": "stream",
          "name": "stdout",
          "text": [
            "The voice similarity between the audio files is: 99.94%\n"
          ]
        }
      ]
    },
    {
      "cell_type": "code",
      "source": [
        "\n",
        "import cv2\n",
        "import numpy as np"
      ],
      "metadata": {
        "id": "LOisrEGPGZCB"
      },
      "execution_count": null,
      "outputs": []
    },
    {
      "cell_type": "code",
      "source": [
        "def extract_histograms(video_path):\n",
        "    video_cap = cv2.VideoCapture(video_path)\n",
        "    histograms = []\n",
        "\n",
        "    while True:\n",
        "        ret, frame = video_cap.read()\n",
        "        if not ret:\n",
        "            break\n",
        "\n",
        "        hsv_frame = cv2.cvtColor(frame, cv2.COLOR_BGR2HSV)\n",
        "        hist = cv2.calcHist([hsv_frame], [0, 1, 2], None, [50, 60, 60], [0, 180, 0, 256, 0, 256])\n",
        "        cv2.normalize(hist, hist, alpha=0, beta=1, norm_type=cv2.NORM_MINMAX)\n",
        "        histograms.append(hist.flatten())\n",
        "\n",
        "    video_cap.release()\n",
        "    return histograms"
      ],
      "metadata": {
        "id": "UKxmxm-JGor8"
      },
      "execution_count": null,
      "outputs": []
    },
    {
      "cell_type": "code",
      "source": [
        "def calculate_similarity(histograms1, histograms2):\n",
        "    min_length = min(len(histograms1), len(histograms2))\n",
        "    score = 0\n",
        "\n",
        "    for i in range(min_length):\n",
        "        score += cv2.compareHist(histograms1[i], histograms2[i], cv2.HISTCMP_CORREL)\n",
        "\n",
        "    average_score = score / min_length if min_length > 0 else 0\n",
        "    return average_score"
      ],
      "metadata": {
        "id": "dNnsFC0oGr8S"
      },
      "execution_count": null,
      "outputs": []
    },
    {
      "cell_type": "code",
      "source": [
        "video_path1 = 'Trump_orig.mp4'\n",
        "video_path2 = 'Trump_final.mp4'"
      ],
      "metadata": {
        "id": "6hlPgrZYG4cK"
      },
      "execution_count": null,
      "outputs": []
    },
    {
      "cell_type": "code",
      "source": [
        "\n",
        "histograms1 = extract_histograms(video_path1)\n",
        "histograms2 = extract_histograms(video_path2)\n",
        "\n",
        "similarity_score = calculate_similarity(histograms1, histograms2)\n",
        "print(f\"Average Similarity Score: {similarity_score:.4f}\")"
      ],
      "metadata": {
        "id": "63tKsrkwGVve"
      },
      "execution_count": null,
      "outputs": []
    }
  ]
}