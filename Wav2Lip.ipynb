{
  "nbformat": 4,
  "nbformat_minor": 0,
  "metadata": {
    "colab": {
      "provenance": [],
      "gpuType": "T4"
    },
    "kernelspec": {
      "name": "python3",
      "display_name": "Python 3"
    },
    "language_info": {
      "name": "python"
    },
    "accelerator": "GPU"
  },
  "cells": [
    {
      "cell_type": "code",
      "execution_count": null,
      "metadata": {
        "colab": {
          "base_uri": "https://localhost:8080/"
        },
        "id": "_ERjYGy7AzT0",
        "outputId": "f1482a00-ad6c-4d5a-da35-37ed341c44ef"
      },
      "outputs": [
        {
          "output_type": "stream",
          "name": "stdout",
          "text": [
            "Installation complete.\n"
          ]
        }
      ],
      "source": [
        "# Clone the Wav2Lip repository\n",
        "!git clone https://github.com/indianajson/wav2lip-HD.git\n",
        "basePath = \"/content/wav2lip-HD\"\n",
        "%cd {basePath}\n",
        "\n",
        "wav2lipFolderName = 'Wav2Lip-master'\n",
        "wav2lipPath = basePath + '/' + wav2lipFolderName\n",
        "\n",
        "# Download the required pre-trained models for Wav2Lip\n",
        "!wget 'https://www.adrianbulat.com/downloads/python-fan/s3fd-619a316812.pth' -O {wav2lipPath}'/s3fd-619a316812.pth'\n",
        "\n",
        "!wget 'https://iiitaphyd-my.sharepoint.com/personal/radrabha_m_research_iiit_ac_in/_layouts/15/download.aspx?share=EdjI7bZlgApMqsVoEUUXpLsBxqXbn5z8VTmoxp55YNDcIA' -O {wav2lipPath}'/checkpoints/wav2lip_gan.pth'\n",
        "\n",
        "!gdown https://drive.google.com/uc?id=1fQtBSYEyuai9MjBOF8j7zZ4oQ9W2N64q --output {wav2lipPath}'/checkpoints/wav2lip_gan.pth'\n",
        "\n",
        "# Install dependencies\n",
        "!pip install -r requirements.txt\n",
        "!pip install -U librosa==0.8.1 # The process will fail without downgrading librosa\n",
        "\n",
        "# Create inputs directory\n",
        "!mkdir inputs\n",
        "\n",
        "from IPython.display import clear_output\n",
        "clear_output()\n",
        "\n",
        "print(\"Installation complete.\")\n"
      ]
    },
    {
      "cell_type": "code",
      "source": [
        "import os\n",
        "outputPath = basePath+'/outputs'\n",
        "inputAudio = 'dhoni_translated.mp3'\n",
        "inputAudioPath = basePath + '/inputs/' + inputAudio\n",
        "inputVideo = 'DhoniTest.mov'\n",
        "inputVideoPath = basePath + '/inputs/'+inputVideo\n",
        "lipSyncedOutputPath = basePath + '/outputs/result.mp4'\n",
        "model = \"wav2lip_gan\"\n",
        "\n",
        "if not os.path.exists(outputPath):\n",
        "  os.makedirs(outputPath)\n",
        "\n",
        "\n",
        "!cd $wav2lipFolderName && python inference.py \\\n",
        "--checkpoint_path checkpoints/{model}.pth \\\n",
        "--face {inputVideoPath} \\\n",
        "--audio {inputAudioPath} \\\n",
        "--outfile {lipSyncedOutputPath}\n"
      ],
      "metadata": {
        "id": "4KM8FuECA6cd"
      },
      "execution_count": null,
      "outputs": []
    },
    {
      "cell_type": "code",
      "source": [
        "!pip install opencv-python-headless numpy\n",
        "import cv2\n",
        "import numpy as np\n",
        "\n",
        "def extract_histograms(video_path):\n",
        "    video_cap = cv2.VideoCapture(video_path)\n",
        "    histograms = []\n",
        "\n",
        "    while True:\n",
        "        ret, frame = video_cap.read()\n",
        "        if not ret:\n",
        "            break\n",
        "\n",
        "        hsv_frame = cv2.cvtColor(frame, cv2.COLOR_BGR2HSV)\n",
        "        hist = cv2.calcHist([hsv_frame], [0, 1, 2], None, [50, 60, 60], [0, 180, 0, 256, 0, 256])\n",
        "        cv2.normalize(hist, hist, alpha=0, beta=1, norm_type=cv2.NORM_MINMAX)\n",
        "        histograms.append(hist.flatten())\n",
        "\n",
        "    video_cap.release()\n",
        "    return histograms\n",
        "\n",
        "def calculate_similarity(histograms1, histograms2):\n",
        "    min_length = min(len(histograms1), len(histograms2))\n",
        "    score = 0\n",
        "\n",
        "    for i in range(min_length):\n",
        "        score += cv2.compareHist(histograms1[i], histograms2[i], cv2.HISTCMP_CORREL)\n",
        "\n",
        "    average_score = score / min_length if min_length > 0 else 0\n",
        "    return average_score\n",
        "\n",
        "video_path1 = '/content/Dhoni.mp4' #input\n",
        "video_path2 = '/content/Dhoni_resulty.mp4' #result\n",
        "\n",
        "histograms1 = extract_histograms(video_path1)\n",
        "histograms2 = extract_histograms(video_path2)\n",
        "\n",
        "similarity_score = calculate_similarity(histograms1, histograms2)\n",
        "print(f\"Average Similarity Score: {similarity_score:.4f}\")"
      ],
      "metadata": {
        "id": "zdv4u2MpYLyd"
      },
      "execution_count": null,
      "outputs": []
    }
  ]
}